{
 "cells": [
  {
   "cell_type": "code",
   "execution_count": 1,
   "id": "8f8a22f5",
   "metadata": {
    "_cell_guid": "b1076dfc-b9ad-4769-8c92-a6c4dae69d19",
    "_uuid": "8f2839f25d086af736a60e9eeb907d3b93b6e0e5",
    "execution": {
     "iopub.execute_input": "2025-05-21T07:09:53.495740Z",
     "iopub.status.busy": "2025-05-21T07:09:53.495309Z",
     "iopub.status.idle": "2025-05-21T07:09:55.507480Z",
     "shell.execute_reply": "2025-05-21T07:09:55.506331Z"
    },
    "papermill": {
     "duration": 2.019802,
     "end_time": "2025-05-21T07:09:55.509006",
     "exception": false,
     "start_time": "2025-05-21T07:09:53.489204",
     "status": "completed"
    },
    "tags": []
   },
   "outputs": [
    {
     "name": "stdout",
     "output_type": "stream",
     "text": [
      "/kaggle/input/wall-street-journal-2/WSJ_24.pos\n",
      "/kaggle/input/wall-street-journal-2/test.words\n",
      "/kaggle/input/wall-street-journal-2/hmm_vocab.txt\n",
      "/kaggle/input/wall-street-journal-2/WSJ_02-21.pos\n"
     ]
    }
   ],
   "source": [
    "# This Python 3 environment comes with many helpful analytics libraries installed\n",
    "# It is defined by the kaggle/python Docker image: https://github.com/kaggle/docker-python\n",
    "# For example, here's several helpful packages to load\n",
    "\n",
    "import numpy as np # linear algebra\n",
    "import pandas as pd # data processing, CSV file I/O (e.g. pd.read_csv)\n",
    "\n",
    "# Input data files are available in the read-only \"../input/\" directory\n",
    "# For example, running this (by clicking run or pressing Shift+Enter) will list all files under the input directory\n",
    "\n",
    "import os\n",
    "for dirname, _, filenames in os.walk('/kaggle/input'):\n",
    "    for filename in filenames:\n",
    "        print(os.path.join(dirname, filename))\n",
    "\n",
    "# You can write up to 20GB to the current directory (/kaggle/working/) that gets preserved as output when you create a version using \"Save & Run All\" \n",
    "# You can also write temporary files to /kaggle/temp/, but they won't be saved outside of the current session"
   ]
  },
  {
   "cell_type": "code",
   "execution_count": 2,
   "id": "0568edc0",
   "metadata": {
    "execution": {
     "iopub.execute_input": "2025-05-21T07:09:55.519534Z",
     "iopub.status.busy": "2025-05-21T07:09:55.519113Z",
     "iopub.status.idle": "2025-05-21T07:09:55.523386Z",
     "shell.execute_reply": "2025-05-21T07:09:55.522685Z"
    },
    "papermill": {
     "duration": 0.010985,
     "end_time": "2025-05-21T07:09:55.524750",
     "exception": false,
     "start_time": "2025-05-21T07:09:55.513765",
     "status": "completed"
    },
    "tags": []
   },
   "outputs": [],
   "source": [
    "import string\n",
    "from collections import defaultdict"
   ]
  },
  {
   "cell_type": "code",
   "execution_count": 3,
   "id": "04a59efc",
   "metadata": {
    "execution": {
     "iopub.execute_input": "2025-05-21T07:09:55.533995Z",
     "iopub.status.busy": "2025-05-21T07:09:55.533720Z",
     "iopub.status.idle": "2025-05-21T07:09:55.730439Z",
     "shell.execute_reply": "2025-05-21T07:09:55.729585Z"
    },
    "papermill": {
     "duration": 0.202924,
     "end_time": "2025-05-21T07:09:55.731885",
     "exception": false,
     "start_time": "2025-05-21T07:09:55.528961",
     "status": "completed"
    },
    "tags": []
   },
   "outputs": [
    {
     "data": {
      "text/plain": [
       "['In\\tIN\\n', 'an\\tDT\\n', 'Oct.\\tNNP\\n', '19\\tCD\\n', 'review\\tNN\\n']"
      ]
     },
     "execution_count": 3,
     "metadata": {},
     "output_type": "execute_result"
    }
   ],
   "source": [
    "with open(\"/kaggle/input/wall-street-journal-2/WSJ_02-21.pos\") as f:\n",
    "    train_corpus = f.readlines()\n",
    "\n",
    "train_corpus[:5]"
   ]
  },
  {
   "cell_type": "code",
   "execution_count": 4,
   "id": "d1a430d8",
   "metadata": {
    "execution": {
     "iopub.execute_input": "2025-05-21T07:09:55.741977Z",
     "iopub.status.busy": "2025-05-21T07:09:55.741266Z",
     "iopub.status.idle": "2025-05-21T07:09:55.756187Z",
     "shell.execute_reply": "2025-05-21T07:09:55.755122Z"
    },
    "papermill": {
     "duration": 0.02163,
     "end_time": "2025-05-21T07:09:55.757732",
     "exception": false,
     "start_time": "2025-05-21T07:09:55.736102",
     "status": "completed"
    },
    "tags": []
   },
   "outputs": [
    {
     "name": "stdout",
     "output_type": "stream",
     "text": [
      "['!', '#', '$', '%', '&', \"'\", \"''\", \"'40s\", \"'60s\", \"'70s\", \"'80s\", \"'86\", \"'90s\", \"'N\", \"'S\", \"'d\", \"'em\", \"'ll\", \"'m\", \"'n'\", \"'re\", \"'s\", \"'til\", \"'ve\", '(', ')', ',', '-', '--', '--n--', '--unk--', '--unk_adj--', '--unk_adv--', '--unk_digit--', '--unk_noun--', '--unk_punct--', '--unk_upper--', '--unk_verb--', '.', '...', '0.01', '0.0108', '0.02', '0.03', '0.05', '0.1', '0.10', '0.12', '0.13', '0.15'] \n",
      "\n",
      "['yards', 'yardstick', 'year', 'year-ago', 'year-before', 'year-earlier', 'year-end', 'year-on-year', 'year-round', 'year-to-date', 'year-to-year', 'yearlong', 'yearly', 'years', 'yeast', 'yelled', 'yelling', 'yellow', 'yen', 'yes', 'yesterday', 'yet', 'yield', 'yielded', 'yielding', 'yields', 'you', 'young', 'younger', 'youngest', 'youngsters', 'your', 'yourself', 'youth', 'youthful', 'yuppie', 'yuppies', 'zero', 'zero-coupon', 'zeroing', 'zeros', 'zinc', 'zip', 'zombie', 'zone', 'zones', 'zoning', '{', '}', '']\n"
     ]
    }
   ],
   "source": [
    "with open(\"/kaggle/input/wall-street-journal-2/hmm_vocab.txt\", 'r') as f:\n",
    "    voc = f.read().split('\\n')\n",
    "\n",
    "print(voc[:50],'\\n')\n",
    "print(voc[-50:])"
   ]
  },
  {
   "cell_type": "code",
   "execution_count": 5,
   "id": "90cddce6",
   "metadata": {
    "execution": {
     "iopub.execute_input": "2025-05-21T07:09:55.767507Z",
     "iopub.status.busy": "2025-05-21T07:09:55.767197Z",
     "iopub.status.idle": "2025-05-21T07:09:55.781473Z",
     "shell.execute_reply": "2025-05-21T07:09:55.780384Z"
    },
    "papermill": {
     "duration": 0.021089,
     "end_time": "2025-05-21T07:09:55.783260",
     "exception": false,
     "start_time": "2025-05-21T07:09:55.762171",
     "status": "completed"
    },
    "tags": []
   },
   "outputs": [
    {
     "name": "stdout",
     "output_type": "stream",
     "text": [
      ":0\n",
      "!:1\n",
      "#:2\n",
      "$:3\n",
      "%:4\n",
      "&:5\n",
      "':6\n",
      "'':7\n",
      "'40s:8\n",
      "'60s:9\n",
      "'70s:10\n",
      "'80s:11\n",
      "'86:12\n",
      "'90s:13\n",
      "'N:14\n",
      "'S:15\n",
      "'d:16\n",
      "'em:17\n",
      "'ll:18\n",
      "'m:19\n",
      "'n':20\n"
     ]
    }
   ],
   "source": [
    "voc.sort()\n",
    "vocab={}\n",
    "\n",
    "for i,word in enumerate(voc):\n",
    "    vocab[word] = i\n",
    "\n",
    "cnt = 0\n",
    "for k,v in vocab.items():\n",
    "    print(f\"{k}:{v}\")\n",
    "    cnt += 1\n",
    "    if cnt>20: break"
   ]
  },
  {
   "cell_type": "code",
   "execution_count": 6,
   "id": "75735226",
   "metadata": {
    "execution": {
     "iopub.execute_input": "2025-05-21T07:09:55.797177Z",
     "iopub.status.busy": "2025-05-21T07:09:55.796893Z",
     "iopub.status.idle": "2025-05-21T07:09:55.816251Z",
     "shell.execute_reply": "2025-05-21T07:09:55.815298Z"
    },
    "papermill": {
     "duration": 0.027975,
     "end_time": "2025-05-21T07:09:55.818044",
     "exception": false,
     "start_time": "2025-05-21T07:09:55.790069",
     "status": "completed"
    },
    "tags": []
   },
   "outputs": [
    {
     "data": {
      "text/plain": [
       "['The\\tDT\\n',\n",
       " 'economy\\tNN\\n',\n",
       " \"'s\\tPOS\\n\",\n",
       " 'temperature\\tNN\\n',\n",
       " 'will\\tMD\\n',\n",
       " 'be\\tVB\\n',\n",
       " 'taken\\tVBN\\n',\n",
       " 'from\\tIN\\n',\n",
       " 'several\\tJJ\\n',\n",
       " 'vantage\\tNN\\n']"
      ]
     },
     "execution_count": 6,
     "metadata": {},
     "output_type": "execute_result"
    }
   ],
   "source": [
    "with open(\"/kaggle/input/wall-street-journal-2/WSJ_24.pos\",'r') as f:\n",
    "    y = f.readlines()\n",
    "\n",
    "y[:10]"
   ]
  },
  {
   "cell_type": "code",
   "execution_count": 7,
   "id": "c68441d0",
   "metadata": {
    "execution": {
     "iopub.execute_input": "2025-05-21T07:09:55.829665Z",
     "iopub.status.busy": "2025-05-21T07:09:55.829248Z",
     "iopub.status.idle": "2025-05-21T07:09:55.839889Z",
     "shell.execute_reply": "2025-05-21T07:09:55.838711Z"
    },
    "papermill": {
     "duration": 0.018419,
     "end_time": "2025-05-21T07:09:55.841563",
     "exception": false,
     "start_time": "2025-05-21T07:09:55.823144",
     "status": "completed"
    },
    "tags": []
   },
   "outputs": [],
   "source": [
    "def assign_unk(word):\n",
    "    punct = string.punctuation\n",
    "    noun_suffs = [\"action\", \"age\", \"ance\", \"cy\", \"dom\", \"ee\", \"ence\", \"er\", \"hood\", \"ion\", \"ism\", \"ist\", \"ity\", \"ling\", \"ment\", \"ness\", \"or\", \"ry\", \"scape\", \"ship\", \"ty\"]\n",
    "    verb_suffs = [\"ate\", \"ify\", \"ise\", \"ize\"]\n",
    "    adj_suffs = [\"able\", \"ese\", \"ful\", \"i\", \"ian\", \"ible\", \"ic\", \"ish\", \"ive\", \"less\", \"ly\", \"ous\"]\n",
    "    adv_suffs = [\"ward\", \"wards\", \"wise\"]\n",
    "    \n",
    "    if any(char.isdigit() for char in word):\n",
    "        return \"--unk_digit--\"\n",
    "\n",
    "    elif any(char in punct for char in word):\n",
    "        return \"--unk_punct--\"\n",
    "\n",
    "    elif any(char.isupper() for char in word):\n",
    "        return \"--unk_upper--\"\n",
    "\n",
    "    elif any(word.endswith(suff) for suff in noun_suffs):\n",
    "        return \"--unk_noun--\"\n",
    "\n",
    "    elif any(word.endswith(suff) for suff in verb_suffs):\n",
    "        return \"--unk_verb\"\n",
    "\n",
    "    elif any(word.endswith(suff) for suff in adj_suffs):\n",
    "        return \"--unk_adj--\"\n",
    "\n",
    "    elif any(word.endswith(suff) for suff in adv_suffs):\n",
    "        return \"--unk_adv--\"\n",
    "\n",
    "    return \"unk--\"\n",
    "    "
   ]
  },
  {
   "cell_type": "code",
   "execution_count": 8,
   "id": "7247d414",
   "metadata": {
    "execution": {
     "iopub.execute_input": "2025-05-21T07:09:55.851800Z",
     "iopub.status.busy": "2025-05-21T07:09:55.851434Z",
     "iopub.status.idle": "2025-05-21T07:09:55.858242Z",
     "shell.execute_reply": "2025-05-21T07:09:55.857345Z"
    },
    "papermill": {
     "duration": 0.01357,
     "end_time": "2025-05-21T07:09:55.859654",
     "exception": false,
     "start_time": "2025-05-21T07:09:55.846084",
     "status": "completed"
    },
    "tags": []
   },
   "outputs": [],
   "source": [
    "def preprocess(vocab,data):\n",
    "    orig = []\n",
    "    prep = []\n",
    "\n",
    "    with open(data, 'r') as f:\n",
    "        for word in f:\n",
    "            if not word.split():\n",
    "                orig.append(word.strip())\n",
    "                word = \"--n--\"\n",
    "                prep.append(word)\n",
    "                continue\n",
    "\n",
    "            elif word.strip() not in vocab:\n",
    "                orig.append(word.strip())\n",
    "                word = assign_unk(word)\n",
    "                prep.append(word)\n",
    "                continue\n",
    "\n",
    "            else:\n",
    "                orig.append(word.strip())\n",
    "                prep.append(word.strip())\n",
    "\n",
    "    assert(len(orig) == len(open(data, \"r\").readlines()))\n",
    "    assert(len(prep) == len(open(data, \"r\").readlines()))\n",
    "\n",
    "    return orig, prep"
   ]
  },
  {
   "cell_type": "code",
   "execution_count": 9,
   "id": "69a8829a",
   "metadata": {
    "execution": {
     "iopub.execute_input": "2025-05-21T07:09:55.869790Z",
     "iopub.status.busy": "2025-05-21T07:09:55.869226Z",
     "iopub.status.idle": "2025-05-21T07:09:55.915465Z",
     "shell.execute_reply": "2025-05-21T07:09:55.914686Z"
    },
    "papermill": {
     "duration": 0.05292,
     "end_time": "2025-05-21T07:09:55.917020",
     "exception": false,
     "start_time": "2025-05-21T07:09:55.864100",
     "status": "completed"
    },
    "tags": []
   },
   "outputs": [],
   "source": [
    "_, prep = preprocess(vocab,\"/kaggle/input/wall-street-journal-2/test.words\")   "
   ]
  },
  {
   "cell_type": "code",
   "execution_count": 10,
   "id": "9dae3322",
   "metadata": {
    "execution": {
     "iopub.execute_input": "2025-05-21T07:09:55.927070Z",
     "iopub.status.busy": "2025-05-21T07:09:55.926783Z",
     "iopub.status.idle": "2025-05-21T07:09:55.934759Z",
     "shell.execute_reply": "2025-05-21T07:09:55.933367Z"
    },
    "papermill": {
     "duration": 0.014912,
     "end_time": "2025-05-21T07:09:55.936511",
     "exception": false,
     "start_time": "2025-05-21T07:09:55.921599",
     "status": "completed"
    },
    "tags": []
   },
   "outputs": [
    {
     "name": "stdout",
     "output_type": "stream",
     "text": [
      "34199\n"
     ]
    },
    {
     "data": {
      "text/plain": [
       "['The',\n",
       " 'economy',\n",
       " \"'s\",\n",
       " 'temperature',\n",
       " 'will',\n",
       " 'be',\n",
       " 'taken',\n",
       " 'from',\n",
       " 'several',\n",
       " 'unk--']"
      ]
     },
     "execution_count": 10,
     "metadata": {},
     "output_type": "execute_result"
    }
   ],
   "source": [
    "print(len(prep))\n",
    "prep[:10]"
   ]
  },
  {
   "cell_type": "code",
   "execution_count": 11,
   "id": "264daec4",
   "metadata": {
    "execution": {
     "iopub.execute_input": "2025-05-21T07:09:55.952369Z",
     "iopub.status.busy": "2025-05-21T07:09:55.951142Z",
     "iopub.status.idle": "2025-05-21T07:09:55.957980Z",
     "shell.execute_reply": "2025-05-21T07:09:55.957220Z"
    },
    "papermill": {
     "duration": 0.015051,
     "end_time": "2025-05-21T07:09:55.959473",
     "exception": false,
     "start_time": "2025-05-21T07:09:55.944422",
     "status": "completed"
    },
    "tags": []
   },
   "outputs": [],
   "source": [
    "def get_word_tag(line, vocab):\n",
    "    if not(line.split()):\n",
    "        word = \"--n--\"\n",
    "        tag = \"--s--\"\n",
    "    else:\n",
    "        word,tag = line.split()\n",
    "        if word not in vocab:\n",
    "            word = assign_unk(word)\n",
    "    return word, tag"
   ]
  },
  {
   "cell_type": "markdown",
   "id": "bf091d6c",
   "metadata": {
    "papermill": {
     "duration": 0.006659,
     "end_time": "2025-05-21T07:09:55.972729",
     "exception": false,
     "start_time": "2025-05-21T07:09:55.966070",
     "status": "completed"
    },
    "tags": []
   },
   "source": [
    "**POS Tagging**"
   ]
  },
  {
   "cell_type": "code",
   "execution_count": 12,
   "id": "f43ecd5d",
   "metadata": {
    "execution": {
     "iopub.execute_input": "2025-05-21T07:09:55.989609Z",
     "iopub.status.busy": "2025-05-21T07:09:55.989134Z",
     "iopub.status.idle": "2025-05-21T07:09:55.995827Z",
     "shell.execute_reply": "2025-05-21T07:09:55.994904Z"
    },
    "papermill": {
     "duration": 0.017806,
     "end_time": "2025-05-21T07:09:55.997743",
     "exception": false,
     "start_time": "2025-05-21T07:09:55.979937",
     "status": "completed"
    },
    "tags": []
   },
   "outputs": [],
   "source": [
    "def create_dicts(train_corpus, vocab):\n",
    "    emission_counts = defaultdict(int)\n",
    "    transition_counts = defaultdict(int)\n",
    "    tag_counts = defaultdict(int)\n",
    "\n",
    "    prev_tag = '--s--'\n",
    "    i=0\n",
    "\n",
    "    for word_tag in train_corpus:\n",
    "        i+=1\n",
    "        \n",
    "        if i%50000 == 0:\n",
    "            print(f\"word count = {i}\")\n",
    "        word, tag = get_word_tag(word_tag, vocab)\n",
    "\n",
    "        transition_counts[(prev_tag, tag)]+=1\n",
    "        emission_counts[(tag, word)]+=1\n",
    "        tag_counts[tag]+=1\n",
    "\n",
    "        prev_tag = tag\n",
    "\n",
    "    return transition_counts, emission_counts, tag_counts\n",
    "    "
   ]
  },
  {
   "cell_type": "code",
   "execution_count": 13,
   "id": "909b04ec",
   "metadata": {
    "execution": {
     "iopub.execute_input": "2025-05-21T07:09:56.017935Z",
     "iopub.status.busy": "2025-05-21T07:09:56.017470Z",
     "iopub.status.idle": "2025-05-21T07:09:57.569073Z",
     "shell.execute_reply": "2025-05-21T07:09:57.567812Z"
    },
    "papermill": {
     "duration": 1.563314,
     "end_time": "2025-05-21T07:09:57.570688",
     "exception": false,
     "start_time": "2025-05-21T07:09:56.007374",
     "status": "completed"
    },
    "tags": []
   },
   "outputs": [
    {
     "name": "stdout",
     "output_type": "stream",
     "text": [
      "word count = 50000\n",
      "word count = 100000\n",
      "word count = 150000\n",
      "word count = 200000\n",
      "word count = 250000\n",
      "word count = 300000\n",
      "word count = 350000\n",
      "word count = 400000\n",
      "word count = 450000\n",
      "word count = 500000\n",
      "word count = 550000\n",
      "word count = 600000\n",
      "word count = 650000\n",
      "word count = 700000\n",
      "word count = 750000\n",
      "word count = 800000\n",
      "word count = 850000\n",
      "word count = 900000\n",
      "word count = 950000\n"
     ]
    }
   ],
   "source": [
    "transition_counts, emission_counts, tag_counts = create_dicts(train_corpus, vocab)"
   ]
  },
  {
   "cell_type": "code",
   "execution_count": 14,
   "id": "ad4b2216",
   "metadata": {
    "execution": {
     "iopub.execute_input": "2025-05-21T07:09:57.581508Z",
     "iopub.status.busy": "2025-05-21T07:09:57.581206Z",
     "iopub.status.idle": "2025-05-21T07:09:57.586336Z",
     "shell.execute_reply": "2025-05-21T07:09:57.585419Z"
    },
    "papermill": {
     "duration": 0.012008,
     "end_time": "2025-05-21T07:09:57.587698",
     "exception": false,
     "start_time": "2025-05-21T07:09:57.575690",
     "status": "completed"
    },
    "tags": []
   },
   "outputs": [
    {
     "name": "stdout",
     "output_type": "stream",
     "text": [
      "Number of POS Tags (states):  46\n",
      "['#', '$', \"''\", '(', ')', ',', '--s--', '.', ':', 'CC', 'CD', 'DT', 'EX', 'FW', 'IN', 'JJ', 'JJR', 'JJS', 'LS', 'MD', 'NN', 'NNP', 'NNPS', 'NNS', 'PDT', 'POS', 'PRP', 'PRP$', 'RB', 'RBR', 'RBS', 'RP', 'SYM', 'TO', 'UH', 'VB', 'VBD', 'VBG', 'VBN', 'VBP', 'VBZ', 'WDT', 'WP', 'WP$', 'WRB', '``']\n"
     ]
    }
   ],
   "source": [
    "states = sorted(tag_counts.keys())\n",
    "print(\"Number of POS Tags (states): \", len(states))\n",
    "print(states)"
   ]
  },
  {
   "cell_type": "code",
   "execution_count": 15,
   "id": "34da8689",
   "metadata": {
    "execution": {
     "iopub.execute_input": "2025-05-21T07:09:57.598475Z",
     "iopub.status.busy": "2025-05-21T07:09:57.598165Z",
     "iopub.status.idle": "2025-05-21T07:09:57.604007Z",
     "shell.execute_reply": "2025-05-21T07:09:57.603211Z"
    },
    "papermill": {
     "duration": 0.01248,
     "end_time": "2025-05-21T07:09:57.605192",
     "exception": false,
     "start_time": "2025-05-21T07:09:57.592712",
     "status": "completed"
    },
    "tags": []
   },
   "outputs": [
    {
     "data": {
      "text/plain": [
       "[(('--s--', 'IN'), 5050), (('IN', 'DT'), 32364), (('DT', 'NNP'), 9044)]"
      ]
     },
     "execution_count": 15,
     "metadata": {},
     "output_type": "execute_result"
    }
   ],
   "source": [
    "list(transition_counts.items())[:3]"
   ]
  },
  {
   "cell_type": "code",
   "execution_count": 16,
   "id": "9afe5148",
   "metadata": {
    "execution": {
     "iopub.execute_input": "2025-05-21T07:09:57.616163Z",
     "iopub.status.busy": "2025-05-21T07:09:57.615867Z",
     "iopub.status.idle": "2025-05-21T07:09:57.627816Z",
     "shell.execute_reply": "2025-05-21T07:09:57.627059Z"
    },
    "papermill": {
     "duration": 0.019041,
     "end_time": "2025-05-21T07:09:57.629161",
     "exception": false,
     "start_time": "2025-05-21T07:09:57.610120",
     "status": "completed"
    },
    "tags": []
   },
   "outputs": [
    {
     "data": {
      "text/plain": [
       "[(('IN', 'In'), 1735), (('DT', 'an'), 3142), (('NNP', 'Oct.'), 317)]"
      ]
     },
     "execution_count": 16,
     "metadata": {},
     "output_type": "execute_result"
    }
   ],
   "source": [
    "list(emission_counts.items())[:3]"
   ]
  },
  {
   "cell_type": "code",
   "execution_count": 17,
   "id": "b755f4d4",
   "metadata": {
    "execution": {
     "iopub.execute_input": "2025-05-21T07:09:57.640157Z",
     "iopub.status.busy": "2025-05-21T07:09:57.639896Z",
     "iopub.status.idle": "2025-05-21T07:09:57.649456Z",
     "shell.execute_reply": "2025-05-21T07:09:57.648357Z"
    },
    "papermill": {
     "duration": 0.016872,
     "end_time": "2025-05-21T07:09:57.651065",
     "exception": false,
     "start_time": "2025-05-21T07:09:57.634193",
     "status": "completed"
    },
    "tags": []
   },
   "outputs": [
    {
     "name": "stdout",
     "output_type": "stream",
     "text": [
      "('RB', 'back') 304\n",
      "('VB', 'back') 20\n",
      "('RP', 'back') 84\n",
      "('JJ', 'back') 25\n",
      "('NN', 'back') 29\n",
      "('VBP', 'back') 4\n"
     ]
    }
   ],
   "source": [
    "for tup,cnt in emission_counts.items():\n",
    "    if tup[1]=='back': print(tup,cnt)\n"
   ]
  },
  {
   "cell_type": "code",
   "execution_count": 18,
   "id": "233e8c9d",
   "metadata": {
    "execution": {
     "iopub.execute_input": "2025-05-21T07:09:57.662305Z",
     "iopub.status.busy": "2025-05-21T07:09:57.662008Z",
     "iopub.status.idle": "2025-05-21T07:09:57.668012Z",
     "shell.execute_reply": "2025-05-21T07:09:57.667078Z"
    },
    "papermill": {
     "duration": 0.013241,
     "end_time": "2025-05-21T07:09:57.669427",
     "exception": false,
     "start_time": "2025-05-21T07:09:57.656186",
     "status": "completed"
    },
    "tags": []
   },
   "outputs": [],
   "source": [
    "def predict_pos(prep, y, emission_counts, vocab, states):\n",
    "    num_crct = 0\n",
    "    total = len(y)\n",
    "\n",
    "    all_words = set(emission_counts.keys())\n",
    "    \n",
    "    for word, y_tup in zip(prep,y):\n",
    "        y_tup_l = y_tup.split()\n",
    "        if len(y_tup_l)==2:\n",
    "            true_label = y_tup_l[1]\n",
    "        else:\n",
    "            continue\n",
    "\n",
    "        count_final = 0\n",
    "        pos_final = ''\n",
    "\n",
    "        if word in vocab:\n",
    "            for pos in states:\n",
    "                key = (pos,word)\n",
    "\n",
    "                if key in emission_counts:\n",
    "                    count = emission_counts[key]\n",
    "                    if count>count_final:\n",
    "                        count_final = count\n",
    "                        pos_final = pos\n",
    "\n",
    "            if pos_final == true_label:\n",
    "                num_crct+=1\n",
    "\n",
    "    accuracy = num_crct/total\n",
    "    return accuracy"
   ]
  },
  {
   "cell_type": "code",
   "execution_count": 19,
   "id": "7c62b1f1",
   "metadata": {
    "execution": {
     "iopub.execute_input": "2025-05-21T07:09:57.680995Z",
     "iopub.status.busy": "2025-05-21T07:09:57.680710Z",
     "iopub.status.idle": "2025-05-21T07:09:57.895712Z",
     "shell.execute_reply": "2025-05-21T07:09:57.894800Z"
    },
    "papermill": {
     "duration": 0.222177,
     "end_time": "2025-05-21T07:09:57.897128",
     "exception": false,
     "start_time": "2025-05-21T07:09:57.674951",
     "status": "completed"
    },
    "tags": []
   },
   "outputs": [
    {
     "data": {
      "text/plain": [
       "0.8858446153396298"
      ]
     },
     "execution_count": 19,
     "metadata": {},
     "output_type": "execute_result"
    }
   ],
   "source": [
    "accuracy = predict_pos(prep, y, emission_counts, vocab, states)\n",
    "accuracy"
   ]
  },
  {
   "cell_type": "markdown",
   "id": "9b90854c",
   "metadata": {
    "papermill": {
     "duration": 0.004915,
     "end_time": "2025-05-21T07:09:57.907884",
     "exception": false,
     "start_time": "2025-05-21T07:09:57.902969",
     "status": "completed"
    },
    "tags": []
   },
   "source": [
    "**Hidden Markov Models for POS**"
   ]
  },
  {
   "cell_type": "code",
   "execution_count": null,
   "id": "f69deb36",
   "metadata": {
    "papermill": {
     "duration": 0.004826,
     "end_time": "2025-05-21T07:09:57.917735",
     "exception": false,
     "start_time": "2025-05-21T07:09:57.912909",
     "status": "completed"
    },
    "tags": []
   },
   "outputs": [],
   "source": []
  }
 ],
 "metadata": {
  "kaggle": {
   "accelerator": "none",
   "dataSources": [
    {
     "datasetId": 7428875,
     "sourceId": 11825962,
     "sourceType": "datasetVersion"
    }
   ],
   "dockerImageVersionId": 31040,
   "isGpuEnabled": false,
   "isInternetEnabled": false,
   "language": "python",
   "sourceType": "notebook"
  },
  "kernelspec": {
   "display_name": "Python 3",
   "language": "python",
   "name": "python3"
  },
  "language_info": {
   "codemirror_mode": {
    "name": "ipython",
    "version": 3
   },
   "file_extension": ".py",
   "mimetype": "text/x-python",
   "name": "python",
   "nbconvert_exporter": "python",
   "pygments_lexer": "ipython3",
   "version": "3.11.11"
  },
  "papermill": {
   "default_parameters": {},
   "duration": 9.942813,
   "end_time": "2025-05-21T07:09:58.442735",
   "environment_variables": {},
   "exception": null,
   "input_path": "__notebook__.ipynb",
   "output_path": "__notebook__.ipynb",
   "parameters": {},
   "start_time": "2025-05-21T07:09:48.499922",
   "version": "2.6.0"
  }
 },
 "nbformat": 4,
 "nbformat_minor": 5
}
