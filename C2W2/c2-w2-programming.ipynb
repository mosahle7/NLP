{
 "cells": [
  {
   "cell_type": "code",
   "execution_count": 1,
   "id": "1b0822fa",
   "metadata": {
    "_cell_guid": "b1076dfc-b9ad-4769-8c92-a6c4dae69d19",
    "_uuid": "8f2839f25d086af736a60e9eeb907d3b93b6e0e5",
    "execution": {
     "iopub.execute_input": "2025-05-21T14:50:41.465618Z",
     "iopub.status.busy": "2025-05-21T14:50:41.465256Z",
     "iopub.status.idle": "2025-05-21T14:50:43.685903Z",
     "shell.execute_reply": "2025-05-21T14:50:43.684789Z"
    },
    "papermill": {
     "duration": 2.231407,
     "end_time": "2025-05-21T14:50:43.687734",
     "exception": false,
     "start_time": "2025-05-21T14:50:41.456327",
     "status": "completed"
    },
    "tags": []
   },
   "outputs": [
    {
     "name": "stdout",
     "output_type": "stream",
     "text": [
      "/kaggle/input/wall-street-journal-2/WSJ_24.pos\n",
      "/kaggle/input/wall-street-journal-2/test.words\n",
      "/kaggle/input/wall-street-journal-2/hmm_vocab.txt\n",
      "/kaggle/input/wall-street-journal-2/WSJ_02-21.pos\n"
     ]
    }
   ],
   "source": [
    "# This Python 3 environment comes with many helpful analytics libraries installed\n",
    "# It is defined by the kaggle/python Docker image: https://github.com/kaggle/docker-python\n",
    "# For example, here's several helpful packages to load\n",
    "\n",
    "import numpy as np # linear algebra\n",
    "import pandas as pd # data processing, CSV file I/O (e.g. pd.read_csv)\n",
    "\n",
    "# Input data files are available in the read-only \"../input/\" directory\n",
    "# For example, running this (by clicking run or pressing Shift+Enter) will list all files under the input directory\n",
    "\n",
    "import os\n",
    "for dirname, _, filenames in os.walk('/kaggle/input'):\n",
    "    for filename in filenames:\n",
    "        print(os.path.join(dirname, filename))\n",
    "\n",
    "# You can write up to 20GB to the current directory (/kaggle/working/) that gets preserved as output when you create a version using \"Save & Run All\" \n",
    "# You can also write temporary files to /kaggle/temp/, but they won't be saved outside of the current session"
   ]
  },
  {
   "cell_type": "code",
   "execution_count": 2,
   "id": "0ec78475",
   "metadata": {
    "execution": {
     "iopub.execute_input": "2025-05-21T14:50:43.701412Z",
     "iopub.status.busy": "2025-05-21T14:50:43.700906Z",
     "iopub.status.idle": "2025-05-21T14:50:43.706367Z",
     "shell.execute_reply": "2025-05-21T14:50:43.705146Z"
    },
    "papermill": {
     "duration": 0.0144,
     "end_time": "2025-05-21T14:50:43.708384",
     "exception": false,
     "start_time": "2025-05-21T14:50:43.693984",
     "status": "completed"
    },
    "tags": []
   },
   "outputs": [],
   "source": [
    "import string\n",
    "from collections import defaultdict"
   ]
  },
  {
   "cell_type": "code",
   "execution_count": 3,
   "id": "82b8abda",
   "metadata": {
    "execution": {
     "iopub.execute_input": "2025-05-21T14:50:43.722121Z",
     "iopub.status.busy": "2025-05-21T14:50:43.721689Z",
     "iopub.status.idle": "2025-05-21T14:50:44.000079Z",
     "shell.execute_reply": "2025-05-21T14:50:43.998861Z"
    },
    "papermill": {
     "duration": 0.287588,
     "end_time": "2025-05-21T14:50:44.002088",
     "exception": false,
     "start_time": "2025-05-21T14:50:43.714500",
     "status": "completed"
    },
    "tags": []
   },
   "outputs": [
    {
     "data": {
      "text/plain": [
       "['In\\tIN\\n', 'an\\tDT\\n', 'Oct.\\tNNP\\n', '19\\tCD\\n', 'review\\tNN\\n']"
      ]
     },
     "execution_count": 3,
     "metadata": {},
     "output_type": "execute_result"
    }
   ],
   "source": [
    "with open(\"/kaggle/input/wall-street-journal-2/WSJ_02-21.pos\") as f:\n",
    "    train_corpus = f.readlines()\n",
    "\n",
    "train_corpus[:5]"
   ]
  },
  {
   "cell_type": "code",
   "execution_count": 4,
   "id": "decf4b03",
   "metadata": {
    "execution": {
     "iopub.execute_input": "2025-05-21T14:50:44.016482Z",
     "iopub.status.busy": "2025-05-21T14:50:44.016157Z",
     "iopub.status.idle": "2025-05-21T14:50:44.033798Z",
     "shell.execute_reply": "2025-05-21T14:50:44.032646Z"
    },
    "papermill": {
     "duration": 0.026758,
     "end_time": "2025-05-21T14:50:44.035662",
     "exception": false,
     "start_time": "2025-05-21T14:50:44.008904",
     "status": "completed"
    },
    "tags": []
   },
   "outputs": [
    {
     "name": "stdout",
     "output_type": "stream",
     "text": [
      "['!', '#', '$', '%', '&', \"'\", \"''\", \"'40s\", \"'60s\", \"'70s\", \"'80s\", \"'86\", \"'90s\", \"'N\", \"'S\", \"'d\", \"'em\", \"'ll\", \"'m\", \"'n'\", \"'re\", \"'s\", \"'til\", \"'ve\", '(', ')', ',', '-', '--', '--n--', '--unk--', '--unk_adj--', '--unk_adv--', '--unk_digit--', '--unk_noun--', '--unk_punct--', '--unk_upper--', '--unk_verb--', '.', '...', '0.01', '0.0108', '0.02', '0.03', '0.05', '0.1', '0.10', '0.12', '0.13', '0.15'] \n",
      "\n",
      "['yards', 'yardstick', 'year', 'year-ago', 'year-before', 'year-earlier', 'year-end', 'year-on-year', 'year-round', 'year-to-date', 'year-to-year', 'yearlong', 'yearly', 'years', 'yeast', 'yelled', 'yelling', 'yellow', 'yen', 'yes', 'yesterday', 'yet', 'yield', 'yielded', 'yielding', 'yields', 'you', 'young', 'younger', 'youngest', 'youngsters', 'your', 'yourself', 'youth', 'youthful', 'yuppie', 'yuppies', 'zero', 'zero-coupon', 'zeroing', 'zeros', 'zinc', 'zip', 'zombie', 'zone', 'zones', 'zoning', '{', '}', '']\n"
     ]
    }
   ],
   "source": [
    "with open(\"/kaggle/input/wall-street-journal-2/hmm_vocab.txt\", 'r') as f:\n",
    "    voc = f.read().split('\\n')\n",
    "\n",
    "print(voc[:50],'\\n')\n",
    "print(voc[-50:])"
   ]
  },
  {
   "cell_type": "code",
   "execution_count": 5,
   "id": "99aa8e53",
   "metadata": {
    "execution": {
     "iopub.execute_input": "2025-05-21T14:50:44.049031Z",
     "iopub.status.busy": "2025-05-21T14:50:44.048708Z",
     "iopub.status.idle": "2025-05-21T14:50:44.063304Z",
     "shell.execute_reply": "2025-05-21T14:50:44.062059Z"
    },
    "papermill": {
     "duration": 0.023236,
     "end_time": "2025-05-21T14:50:44.065255",
     "exception": false,
     "start_time": "2025-05-21T14:50:44.042019",
     "status": "completed"
    },
    "tags": []
   },
   "outputs": [
    {
     "name": "stdout",
     "output_type": "stream",
     "text": [
      ":0\n",
      "!:1\n",
      "#:2\n",
      "$:3\n",
      "%:4\n",
      "&:5\n",
      "':6\n",
      "'':7\n",
      "'40s:8\n",
      "'60s:9\n",
      "'70s:10\n",
      "'80s:11\n",
      "'86:12\n",
      "'90s:13\n",
      "'N:14\n",
      "'S:15\n",
      "'d:16\n",
      "'em:17\n",
      "'ll:18\n",
      "'m:19\n",
      "'n':20\n"
     ]
    }
   ],
   "source": [
    "voc.sort()\n",
    "vocab={}\n",
    "\n",
    "for i,word in enumerate(voc):\n",
    "    vocab[word] = i\n",
    "\n",
    "cnt = 0\n",
    "for k,v in vocab.items():\n",
    "    print(f\"{k}:{v}\")\n",
    "    cnt += 1\n",
    "    if cnt>20: break"
   ]
  },
  {
   "cell_type": "code",
   "execution_count": 6,
   "id": "d1b0ab5f",
   "metadata": {
    "execution": {
     "iopub.execute_input": "2025-05-21T14:50:44.077943Z",
     "iopub.status.busy": "2025-05-21T14:50:44.077489Z",
     "iopub.status.idle": "2025-05-21T14:50:44.102958Z",
     "shell.execute_reply": "2025-05-21T14:50:44.101851Z"
    },
    "papermill": {
     "duration": 0.033947,
     "end_time": "2025-05-21T14:50:44.104825",
     "exception": false,
     "start_time": "2025-05-21T14:50:44.070878",
     "status": "completed"
    },
    "tags": []
   },
   "outputs": [
    {
     "data": {
      "text/plain": [
       "['The\\tDT\\n',\n",
       " 'economy\\tNN\\n',\n",
       " \"'s\\tPOS\\n\",\n",
       " 'temperature\\tNN\\n',\n",
       " 'will\\tMD\\n',\n",
       " 'be\\tVB\\n',\n",
       " 'taken\\tVBN\\n',\n",
       " 'from\\tIN\\n',\n",
       " 'several\\tJJ\\n',\n",
       " 'vantage\\tNN\\n']"
      ]
     },
     "execution_count": 6,
     "metadata": {},
     "output_type": "execute_result"
    }
   ],
   "source": [
    "with open(\"/kaggle/input/wall-street-journal-2/WSJ_24.pos\",'r') as f:\n",
    "    y = f.readlines()\n",
    "\n",
    "y[:10]"
   ]
  },
  {
   "cell_type": "code",
   "execution_count": 7,
   "id": "d0211386",
   "metadata": {
    "execution": {
     "iopub.execute_input": "2025-05-21T14:50:44.120563Z",
     "iopub.status.busy": "2025-05-21T14:50:44.120259Z",
     "iopub.status.idle": "2025-05-21T14:50:44.129131Z",
     "shell.execute_reply": "2025-05-21T14:50:44.128027Z"
    },
    "papermill": {
     "duration": 0.018733,
     "end_time": "2025-05-21T14:50:44.131005",
     "exception": false,
     "start_time": "2025-05-21T14:50:44.112272",
     "status": "completed"
    },
    "tags": []
   },
   "outputs": [],
   "source": [
    "def assign_unk(word):\n",
    "    punct = string.punctuation\n",
    "    noun_suffs = [\"action\", \"age\", \"ance\", \"cy\", \"dom\", \"ee\", \"ence\", \"er\", \"hood\", \"ion\", \"ism\", \"ist\", \"ity\", \"ling\", \"ment\", \"ness\", \"or\", \"ry\", \"scape\", \"ship\", \"ty\"]\n",
    "    verb_suffs = [\"ate\", \"ify\", \"ise\", \"ize\"]\n",
    "    adj_suffs = [\"able\", \"ese\", \"ful\", \"i\", \"ian\", \"ible\", \"ic\", \"ish\", \"ive\", \"less\", \"ly\", \"ous\"]\n",
    "    adv_suffs = [\"ward\", \"wards\", \"wise\"]\n",
    "    \n",
    "    if any(char.isdigit() for char in word):\n",
    "        return \"--unk_digit--\"\n",
    "\n",
    "    elif any(char in punct for char in word):\n",
    "        return \"--unk_punct--\"\n",
    "\n",
    "    elif any(char.isupper() for char in word):\n",
    "        return \"--unk_upper--\"\n",
    "\n",
    "    elif any(word.endswith(suff) for suff in noun_suffs):\n",
    "        return \"--unk_noun--\"\n",
    "\n",
    "    elif any(word.endswith(suff) for suff in verb_suffs):\n",
    "        return \"--unk_verb\"\n",
    "\n",
    "    elif any(word.endswith(suff) for suff in adj_suffs):\n",
    "        return \"--unk_adj--\"\n",
    "\n",
    "    elif any(word.endswith(suff) for suff in adv_suffs):\n",
    "        return \"--unk_adv--\"\n",
    "\n",
    "    return \"unk--\"\n",
    "    "
   ]
  },
  {
   "cell_type": "code",
   "execution_count": 8,
   "id": "13037b79",
   "metadata": {
    "execution": {
     "iopub.execute_input": "2025-05-21T14:50:44.143698Z",
     "iopub.status.busy": "2025-05-21T14:50:44.143335Z",
     "iopub.status.idle": "2025-05-21T14:50:44.151330Z",
     "shell.execute_reply": "2025-05-21T14:50:44.150208Z"
    },
    "papermill": {
     "duration": 0.01655,
     "end_time": "2025-05-21T14:50:44.153339",
     "exception": false,
     "start_time": "2025-05-21T14:50:44.136789",
     "status": "completed"
    },
    "tags": []
   },
   "outputs": [],
   "source": [
    "def preprocess(vocab,data):\n",
    "    orig = []\n",
    "    prep = []\n",
    "\n",
    "    with open(data, 'r') as f:\n",
    "        for word in f:\n",
    "            if not word.split():\n",
    "                orig.append(word.strip())\n",
    "                word = \"--n--\"\n",
    "                prep.append(word)\n",
    "                continue\n",
    "\n",
    "            elif word.strip() not in vocab:\n",
    "                orig.append(word.strip())\n",
    "                word = assign_unk(word)\n",
    "                prep.append(word)\n",
    "                continue\n",
    "\n",
    "            else:\n",
    "                orig.append(word.strip())\n",
    "                prep.append(word.strip())\n",
    "\n",
    "    assert(len(orig) == len(open(data, \"r\").readlines()))\n",
    "    assert(len(prep) == len(open(data, \"r\").readlines()))\n",
    "\n",
    "    return orig, prep"
   ]
  },
  {
   "cell_type": "code",
   "execution_count": 9,
   "id": "2182bdb9",
   "metadata": {
    "execution": {
     "iopub.execute_input": "2025-05-21T14:50:44.166023Z",
     "iopub.status.busy": "2025-05-21T14:50:44.165583Z",
     "iopub.status.idle": "2025-05-21T14:50:44.224494Z",
     "shell.execute_reply": "2025-05-21T14:50:44.223220Z"
    },
    "papermill": {
     "duration": 0.067881,
     "end_time": "2025-05-21T14:50:44.226818",
     "exception": false,
     "start_time": "2025-05-21T14:50:44.158937",
     "status": "completed"
    },
    "tags": []
   },
   "outputs": [],
   "source": [
    "_, prep = preprocess(vocab,\"/kaggle/input/wall-street-journal-2/test.words\")   "
   ]
  },
  {
   "cell_type": "code",
   "execution_count": 10,
   "id": "e7c8bf10",
   "metadata": {
    "execution": {
     "iopub.execute_input": "2025-05-21T14:50:44.241071Z",
     "iopub.status.busy": "2025-05-21T14:50:44.240710Z",
     "iopub.status.idle": "2025-05-21T14:50:44.250070Z",
     "shell.execute_reply": "2025-05-21T14:50:44.248922Z"
    },
    "papermill": {
     "duration": 0.017894,
     "end_time": "2025-05-21T14:50:44.251693",
     "exception": false,
     "start_time": "2025-05-21T14:50:44.233799",
     "status": "completed"
    },
    "tags": []
   },
   "outputs": [
    {
     "name": "stdout",
     "output_type": "stream",
     "text": [
      "34199\n"
     ]
    },
    {
     "data": {
      "text/plain": [
       "['The',\n",
       " 'economy',\n",
       " \"'s\",\n",
       " 'temperature',\n",
       " 'will',\n",
       " 'be',\n",
       " 'taken',\n",
       " 'from',\n",
       " 'several',\n",
       " 'unk--']"
      ]
     },
     "execution_count": 10,
     "metadata": {},
     "output_type": "execute_result"
    }
   ],
   "source": [
    "print(len(prep))\n",
    "prep[:10]"
   ]
  },
  {
   "cell_type": "code",
   "execution_count": 11,
   "id": "b249d8e5",
   "metadata": {
    "execution": {
     "iopub.execute_input": "2025-05-21T14:50:44.265062Z",
     "iopub.status.busy": "2025-05-21T14:50:44.264673Z",
     "iopub.status.idle": "2025-05-21T14:50:44.271031Z",
     "shell.execute_reply": "2025-05-21T14:50:44.269749Z"
    },
    "papermill": {
     "duration": 0.01497,
     "end_time": "2025-05-21T14:50:44.272703",
     "exception": false,
     "start_time": "2025-05-21T14:50:44.257733",
     "status": "completed"
    },
    "tags": []
   },
   "outputs": [],
   "source": [
    "def get_word_tag(line, vocab):\n",
    "    if not(line.split()):\n",
    "        word = \"--n--\"\n",
    "        tag = \"--s--\"\n",
    "    else:\n",
    "        word,tag = line.split()\n",
    "        if word not in vocab:\n",
    "            word = assign_unk(word)\n",
    "    return word, tag"
   ]
  },
  {
   "cell_type": "markdown",
   "id": "090e35c4",
   "metadata": {
    "papermill": {
     "duration": 0.005321,
     "end_time": "2025-05-21T14:50:44.283777",
     "exception": false,
     "start_time": "2025-05-21T14:50:44.278456",
     "status": "completed"
    },
    "tags": []
   },
   "source": [
    "**POS Tagging**"
   ]
  },
  {
   "cell_type": "code",
   "execution_count": 12,
   "id": "92a4d0ba",
   "metadata": {
    "execution": {
     "iopub.execute_input": "2025-05-21T14:50:44.296845Z",
     "iopub.status.busy": "2025-05-21T14:50:44.296302Z",
     "iopub.status.idle": "2025-05-21T14:50:44.303145Z",
     "shell.execute_reply": "2025-05-21T14:50:44.302147Z"
    },
    "papermill": {
     "duration": 0.015511,
     "end_time": "2025-05-21T14:50:44.304970",
     "exception": false,
     "start_time": "2025-05-21T14:50:44.289459",
     "status": "completed"
    },
    "tags": []
   },
   "outputs": [],
   "source": [
    "def create_dicts(train_corpus, vocab):\n",
    "    emission_counts = defaultdict(int)\n",
    "    transition_counts = defaultdict(int)\n",
    "    tag_counts = defaultdict(int)\n",
    "\n",
    "    prev_tag = '--s--'\n",
    "    i=0\n",
    "\n",
    "    for word_tag in train_corpus:\n",
    "        i+=1\n",
    "        \n",
    "        if i%50000 == 0:\n",
    "            print(f\"word count = {i}\")\n",
    "        word, tag = get_word_tag(word_tag, vocab)\n",
    "\n",
    "        transition_counts[(prev_tag, tag)]+=1\n",
    "        emission_counts[(tag, word)]+=1\n",
    "        tag_counts[tag]+=1\n",
    "\n",
    "        prev_tag = tag\n",
    "\n",
    "    return transition_counts, emission_counts, tag_counts\n",
    "    "
   ]
  },
  {
   "cell_type": "code",
   "execution_count": 13,
   "id": "d955db4c",
   "metadata": {
    "execution": {
     "iopub.execute_input": "2025-05-21T14:50:44.319858Z",
     "iopub.status.busy": "2025-05-21T14:50:44.319441Z",
     "iopub.status.idle": "2025-05-21T14:50:46.082381Z",
     "shell.execute_reply": "2025-05-21T14:50:46.081320Z"
    },
    "papermill": {
     "duration": 1.772684,
     "end_time": "2025-05-21T14:50:46.084357",
     "exception": false,
     "start_time": "2025-05-21T14:50:44.311673",
     "status": "completed"
    },
    "tags": []
   },
   "outputs": [
    {
     "name": "stdout",
     "output_type": "stream",
     "text": [
      "word count = 50000\n",
      "word count = 100000\n",
      "word count = 150000\n",
      "word count = 200000\n",
      "word count = 250000\n",
      "word count = 300000\n",
      "word count = 350000\n",
      "word count = 400000\n",
      "word count = 450000\n",
      "word count = 500000\n",
      "word count = 550000\n",
      "word count = 600000\n",
      "word count = 650000\n",
      "word count = 700000\n",
      "word count = 750000\n",
      "word count = 800000\n",
      "word count = 850000\n",
      "word count = 900000\n",
      "word count = 950000\n"
     ]
    }
   ],
   "source": [
    "transition_counts, emission_counts, tag_counts = create_dicts(train_corpus, vocab)"
   ]
  },
  {
   "cell_type": "code",
   "execution_count": 14,
   "id": "20efd124",
   "metadata": {
    "execution": {
     "iopub.execute_input": "2025-05-21T14:50:46.099654Z",
     "iopub.status.busy": "2025-05-21T14:50:46.098478Z",
     "iopub.status.idle": "2025-05-21T14:50:46.104810Z",
     "shell.execute_reply": "2025-05-21T14:50:46.103739Z"
    },
    "papermill": {
     "duration": 0.015624,
     "end_time": "2025-05-21T14:50:46.106503",
     "exception": false,
     "start_time": "2025-05-21T14:50:46.090879",
     "status": "completed"
    },
    "tags": []
   },
   "outputs": [
    {
     "name": "stdout",
     "output_type": "stream",
     "text": [
      "Number of POS Tags (states):  46\n",
      "['#', '$', \"''\", '(', ')', ',', '--s--', '.', ':', 'CC', 'CD', 'DT', 'EX', 'FW', 'IN', 'JJ', 'JJR', 'JJS', 'LS', 'MD', 'NN', 'NNP', 'NNPS', 'NNS', 'PDT', 'POS', 'PRP', 'PRP$', 'RB', 'RBR', 'RBS', 'RP', 'SYM', 'TO', 'UH', 'VB', 'VBD', 'VBG', 'VBN', 'VBP', 'VBZ', 'WDT', 'WP', 'WP$', 'WRB', '``']\n"
     ]
    }
   ],
   "source": [
    "states = sorted(tag_counts.keys())\n",
    "print(\"Number of POS Tags (states): \", len(states))\n",
    "print(states)"
   ]
  },
  {
   "cell_type": "code",
   "execution_count": 15,
   "id": "c1034d06",
   "metadata": {
    "execution": {
     "iopub.execute_input": "2025-05-21T14:50:46.121558Z",
     "iopub.status.busy": "2025-05-21T14:50:46.120715Z",
     "iopub.status.idle": "2025-05-21T14:50:46.128676Z",
     "shell.execute_reply": "2025-05-21T14:50:46.127657Z"
    },
    "papermill": {
     "duration": 0.017524,
     "end_time": "2025-05-21T14:50:46.130365",
     "exception": false,
     "start_time": "2025-05-21T14:50:46.112841",
     "status": "completed"
    },
    "tags": []
   },
   "outputs": [
    {
     "data": {
      "text/plain": [
       "[(('--s--', 'IN'), 5050), (('IN', 'DT'), 32364), (('DT', 'NNP'), 9044)]"
      ]
     },
     "execution_count": 15,
     "metadata": {},
     "output_type": "execute_result"
    }
   ],
   "source": [
    "list(transition_counts.items())[:3]"
   ]
  },
  {
   "cell_type": "code",
   "execution_count": 16,
   "id": "6db27f56",
   "metadata": {
    "execution": {
     "iopub.execute_input": "2025-05-21T14:50:46.145028Z",
     "iopub.status.busy": "2025-05-21T14:50:46.144573Z",
     "iopub.status.idle": "2025-05-21T14:50:46.161290Z",
     "shell.execute_reply": "2025-05-21T14:50:46.160187Z"
    },
    "papermill": {
     "duration": 0.02618,
     "end_time": "2025-05-21T14:50:46.163118",
     "exception": false,
     "start_time": "2025-05-21T14:50:46.136938",
     "status": "completed"
    },
    "tags": []
   },
   "outputs": [
    {
     "data": {
      "text/plain": [
       "[(('IN', 'In'), 1735), (('DT', 'an'), 3142), (('NNP', 'Oct.'), 317)]"
      ]
     },
     "execution_count": 16,
     "metadata": {},
     "output_type": "execute_result"
    }
   ],
   "source": [
    "list(emission_counts.items())[:3]"
   ]
  },
  {
   "cell_type": "code",
   "execution_count": 17,
   "id": "97d227c6",
   "metadata": {
    "execution": {
     "iopub.execute_input": "2025-05-21T14:50:46.178006Z",
     "iopub.status.busy": "2025-05-21T14:50:46.177632Z",
     "iopub.status.idle": "2025-05-21T14:50:46.188323Z",
     "shell.execute_reply": "2025-05-21T14:50:46.186929Z"
    },
    "papermill": {
     "duration": 0.020317,
     "end_time": "2025-05-21T14:50:46.190032",
     "exception": false,
     "start_time": "2025-05-21T14:50:46.169715",
     "status": "completed"
    },
    "tags": []
   },
   "outputs": [
    {
     "name": "stdout",
     "output_type": "stream",
     "text": [
      "('RB', 'back') 304\n",
      "('VB', 'back') 20\n",
      "('RP', 'back') 84\n",
      "('JJ', 'back') 25\n",
      "('NN', 'back') 29\n",
      "('VBP', 'back') 4\n"
     ]
    }
   ],
   "source": [
    "for tup,cnt in emission_counts.items():\n",
    "    if tup[1]=='back': print(tup,cnt)\n"
   ]
  },
  {
   "cell_type": "code",
   "execution_count": 18,
   "id": "f597d96f",
   "metadata": {
    "execution": {
     "iopub.execute_input": "2025-05-21T14:50:46.205032Z",
     "iopub.status.busy": "2025-05-21T14:50:46.204559Z",
     "iopub.status.idle": "2025-05-21T14:50:46.211956Z",
     "shell.execute_reply": "2025-05-21T14:50:46.210805Z"
    },
    "papermill": {
     "duration": 0.016546,
     "end_time": "2025-05-21T14:50:46.213423",
     "exception": false,
     "start_time": "2025-05-21T14:50:46.196877",
     "status": "completed"
    },
    "tags": []
   },
   "outputs": [],
   "source": [
    "def predict_pos(prep, y, emission_counts, vocab, states):\n",
    "    num_crct = 0\n",
    "    total = len(y)\n",
    "\n",
    "    all_words = set(emission_counts.keys())\n",
    "    \n",
    "    for word, y_tup in zip(prep,y):\n",
    "        y_tup_l = y_tup.split()\n",
    "        if len(y_tup_l)==2:\n",
    "            true_label = y_tup_l[1]\n",
    "        else:\n",
    "            continue\n",
    "\n",
    "        count_final = 0\n",
    "        pos_final = ''\n",
    "\n",
    "        if word in vocab:\n",
    "            for pos in states:\n",
    "                key = (pos,word)\n",
    "\n",
    "                if key in emission_counts:\n",
    "                    count = emission_counts[key]\n",
    "                    if count>count_final:\n",
    "                        count_final = count\n",
    "                        pos_final = pos\n",
    "\n",
    "            if pos_final == true_label:\n",
    "                num_crct+=1\n",
    "\n",
    "    accuracy = num_crct/total\n",
    "    return accuracy"
   ]
  },
  {
   "cell_type": "code",
   "execution_count": 19,
   "id": "1ca1b235",
   "metadata": {
    "execution": {
     "iopub.execute_input": "2025-05-21T14:50:46.227876Z",
     "iopub.status.busy": "2025-05-21T14:50:46.227526Z",
     "iopub.status.idle": "2025-05-21T14:50:46.448167Z",
     "shell.execute_reply": "2025-05-21T14:50:46.446993Z"
    },
    "papermill": {
     "duration": 0.230069,
     "end_time": "2025-05-21T14:50:46.450057",
     "exception": false,
     "start_time": "2025-05-21T14:50:46.219988",
     "status": "completed"
    },
    "tags": []
   },
   "outputs": [
    {
     "data": {
      "text/plain": [
       "0.8858446153396298"
      ]
     },
     "execution_count": 19,
     "metadata": {},
     "output_type": "execute_result"
    }
   ],
   "source": [
    "accuracy = predict_pos(prep, y, emission_counts, vocab, states)\n",
    "accuracy"
   ]
  },
  {
   "cell_type": "markdown",
   "id": "88b341ac",
   "metadata": {
    "papermill": {
     "duration": 0.006566,
     "end_time": "2025-05-21T14:50:46.463488",
     "exception": false,
     "start_time": "2025-05-21T14:50:46.456922",
     "status": "completed"
    },
    "tags": []
   },
   "source": [
    "**Hidden Markov Models for POS**"
   ]
  },
  {
   "cell_type": "code",
   "execution_count": 20,
   "id": "ead02da1",
   "metadata": {
    "execution": {
     "iopub.execute_input": "2025-05-21T14:50:46.479226Z",
     "iopub.status.busy": "2025-05-21T14:50:46.478841Z",
     "iopub.status.idle": "2025-05-21T14:50:46.485631Z",
     "shell.execute_reply": "2025-05-21T14:50:46.484542Z"
    },
    "papermill": {
     "duration": 0.016792,
     "end_time": "2025-05-21T14:50:46.487463",
     "exception": false,
     "start_time": "2025-05-21T14:50:46.470671",
     "status": "completed"
    },
    "tags": []
   },
   "outputs": [],
   "source": [
    "def create_trans_mat(transition_counts, tag_counts, alpha):\n",
    "    all_tags = sorted(tag_counts.keys())\n",
    "    num_tags = len(all_tags)\n",
    "\n",
    "    A = np.zeros((num_tags,num_tags))\n",
    "\n",
    "    for i in range(num_tags):\n",
    "        for j in range(num_tags):\n",
    "            a = all_tags[i]\n",
    "            b = all_tags[j]\n",
    "            count = transition_counts.get((a,b),0)\n",
    "            count_p = tag_counts[a]\n",
    "            A[i][j] = (count+alpha)/(count_p+alpha*num_tags)\n",
    "    return A\n",
    "    "
   ]
  },
  {
   "cell_type": "code",
   "execution_count": 21,
   "id": "34390c93",
   "metadata": {
    "execution": {
     "iopub.execute_input": "2025-05-21T14:50:46.502669Z",
     "iopub.status.busy": "2025-05-21T14:50:46.502346Z",
     "iopub.status.idle": "2025-05-21T14:50:46.509624Z",
     "shell.execute_reply": "2025-05-21T14:50:46.508491Z"
    },
    "papermill": {
     "duration": 0.016722,
     "end_time": "2025-05-21T14:50:46.511428",
     "exception": false,
     "start_time": "2025-05-21T14:50:46.494706",
     "status": "completed"
    },
    "tags": []
   },
   "outputs": [],
   "source": [
    "A = create_trans_mat(transition_counts, tag_counts, 0.001)"
   ]
  },
  {
   "cell_type": "code",
   "execution_count": 22,
   "id": "2d0ba2ad",
   "metadata": {
    "execution": {
     "iopub.execute_input": "2025-05-21T14:50:46.527406Z",
     "iopub.status.busy": "2025-05-21T14:50:46.527069Z",
     "iopub.status.idle": "2025-05-21T14:50:46.533907Z",
     "shell.execute_reply": "2025-05-21T14:50:46.532968Z"
    },
    "papermill": {
     "duration": 0.016823,
     "end_time": "2025-05-21T14:50:46.535498",
     "exception": false,
     "start_time": "2025-05-21T14:50:46.518675",
     "status": "completed"
    },
    "tags": []
   },
   "outputs": [
    {
     "data": {
      "text/plain": [
       "0.16910191896905374"
      ]
     },
     "execution_count": 22,
     "metadata": {},
     "output_type": "execute_result"
    }
   ],
   "source": [
    "A[3][1]"
   ]
  },
  {
   "cell_type": "code",
   "execution_count": 23,
   "id": "7dd13468",
   "metadata": {
    "execution": {
     "iopub.execute_input": "2025-05-21T14:50:46.550419Z",
     "iopub.status.busy": "2025-05-21T14:50:46.550133Z",
     "iopub.status.idle": "2025-05-21T14:50:46.582303Z",
     "shell.execute_reply": "2025-05-21T14:50:46.581198Z"
    },
    "papermill": {
     "duration": 0.041881,
     "end_time": "2025-05-21T14:50:46.584318",
     "exception": false,
     "start_time": "2025-05-21T14:50:46.542437",
     "status": "completed"
    },
    "tags": []
   },
   "outputs": [
    {
     "data": {
      "text/html": [
       "<div>\n",
       "<style scoped>\n",
       "    .dataframe tbody tr th:only-of-type {\n",
       "        vertical-align: middle;\n",
       "    }\n",
       "\n",
       "    .dataframe tbody tr th {\n",
       "        vertical-align: top;\n",
       "    }\n",
       "\n",
       "    .dataframe thead th {\n",
       "        text-align: right;\n",
       "    }\n",
       "</style>\n",
       "<table border=\"1\" class=\"dataframe\">\n",
       "  <thead>\n",
       "    <tr style=\"text-align: right;\">\n",
       "      <th></th>\n",
       "      <th>RBS</th>\n",
       "      <th>RP</th>\n",
       "      <th>SYM</th>\n",
       "      <th>TO</th>\n",
       "      <th>UH</th>\n",
       "    </tr>\n",
       "  </thead>\n",
       "  <tbody>\n",
       "    <tr>\n",
       "      <th>RBS</th>\n",
       "      <td>2.217069e-06</td>\n",
       "      <td>2.217069e-06</td>\n",
       "      <td>2.217069e-06</td>\n",
       "      <td>0.008870</td>\n",
       "      <td>2.217069e-06</td>\n",
       "    </tr>\n",
       "    <tr>\n",
       "      <th>RP</th>\n",
       "      <td>3.756509e-07</td>\n",
       "      <td>7.516775e-04</td>\n",
       "      <td>3.756509e-07</td>\n",
       "      <td>0.051089</td>\n",
       "      <td>3.756509e-07</td>\n",
       "    </tr>\n",
       "    <tr>\n",
       "      <th>SYM</th>\n",
       "      <td>1.722772e-05</td>\n",
       "      <td>1.722772e-05</td>\n",
       "      <td>1.722772e-05</td>\n",
       "      <td>0.000017</td>\n",
       "      <td>1.722772e-05</td>\n",
       "    </tr>\n",
       "    <tr>\n",
       "      <th>TO</th>\n",
       "      <td>4.477336e-05</td>\n",
       "      <td>4.472863e-08</td>\n",
       "      <td>4.472863e-08</td>\n",
       "      <td>0.000090</td>\n",
       "      <td>4.477336e-05</td>\n",
       "    </tr>\n",
       "    <tr>\n",
       "      <th>UH</th>\n",
       "      <td>1.030439e-05</td>\n",
       "      <td>1.030439e-05</td>\n",
       "      <td>1.030439e-05</td>\n",
       "      <td>0.061837</td>\n",
       "      <td>3.092348e-02</td>\n",
       "    </tr>\n",
       "  </tbody>\n",
       "</table>\n",
       "</div>"
      ],
      "text/plain": [
       "              RBS            RP           SYM        TO            UH\n",
       "RBS  2.217069e-06  2.217069e-06  2.217069e-06  0.008870  2.217069e-06\n",
       "RP   3.756509e-07  7.516775e-04  3.756509e-07  0.051089  3.756509e-07\n",
       "SYM  1.722772e-05  1.722772e-05  1.722772e-05  0.000017  1.722772e-05\n",
       "TO   4.477336e-05  4.472863e-08  4.472863e-08  0.000090  4.477336e-05\n",
       "UH   1.030439e-05  1.030439e-05  1.030439e-05  0.061837  3.092348e-02"
      ]
     },
     "execution_count": 23,
     "metadata": {},
     "output_type": "execute_result"
    }
   ],
   "source": [
    "A_sub = pd.DataFrame(A[30:35,30:35], index=states[30:35], columns=states[30:35])\n",
    "A_sub"
   ]
  },
  {
   "cell_type": "code",
   "execution_count": 24,
   "id": "356014e4",
   "metadata": {
    "execution": {
     "iopub.execute_input": "2025-05-21T14:50:46.600259Z",
     "iopub.status.busy": "2025-05-21T14:50:46.599203Z",
     "iopub.status.idle": "2025-05-21T14:50:46.606290Z",
     "shell.execute_reply": "2025-05-21T14:50:46.605282Z"
    },
    "papermill": {
     "duration": 0.016518,
     "end_time": "2025-05-21T14:50:46.607754",
     "exception": false,
     "start_time": "2025-05-21T14:50:46.591236",
     "status": "completed"
    },
    "tags": []
   },
   "outputs": [],
   "source": [
    "def create_emi_mat(emission_counts, tag_counts, vocab, alpha):\n",
    "    num_tags = len(tag_counts)\n",
    "    all_tags = sorted(tag_counts.keys())\n",
    "    num_words = len(vocab)\n",
    "\n",
    "    B = np.zeros((num_tags, num_words))\n",
    "\n",
    "    for i in range(num_tags):\n",
    "        for j in range(num_words):\n",
    "            a = all_tags[i]\n",
    "            b = vocab[j]\n",
    "\n",
    "            count = emission_counts.get((a,b),0)\n",
    "            count_t = tag_counts[a]\n",
    "            B[i][j] = (count+alpha)/(count_t+alpha*num_words)\n",
    "    return B"
   ]
  },
  {
   "cell_type": "code",
   "execution_count": 25,
   "id": "ffde2f37",
   "metadata": {
    "execution": {
     "iopub.execute_input": "2025-05-21T14:50:46.622841Z",
     "iopub.status.busy": "2025-05-21T14:50:46.622449Z",
     "iopub.status.idle": "2025-05-21T14:50:47.437030Z",
     "shell.execute_reply": "2025-05-21T14:50:47.435992Z"
    },
    "papermill": {
     "duration": 0.824476,
     "end_time": "2025-05-21T14:50:47.439034",
     "exception": false,
     "start_time": "2025-05-21T14:50:46.614558",
     "status": "completed"
    },
    "tags": []
   },
   "outputs": [],
   "source": [
    "B = create_emi_mat(emission_counts, tag_counts, list(vocab), 0.001)"
   ]
  },
  {
   "cell_type": "code",
   "execution_count": 26,
   "id": "58779144",
   "metadata": {
    "execution": {
     "iopub.execute_input": "2025-05-21T14:50:47.455248Z",
     "iopub.status.busy": "2025-05-21T14:50:47.454861Z",
     "iopub.status.idle": "2025-05-21T14:50:47.461975Z",
     "shell.execute_reply": "2025-05-21T14:50:47.460687Z"
    },
    "papermill": {
     "duration": 0.017381,
     "end_time": "2025-05-21T14:50:47.463721",
     "exception": false,
     "start_time": "2025-05-21T14:50:47.446340",
     "status": "completed"
    },
    "tags": []
   },
   "outputs": [
    {
     "data": {
      "text/plain": [
       "6.032199882975323e-06"
      ]
     },
     "execution_count": 26,
     "metadata": {},
     "output_type": "execute_result"
    }
   ],
   "source": [
    "B[0][0]"
   ]
  },
  {
   "cell_type": "code",
   "execution_count": 27,
   "id": "1628d3d6",
   "metadata": {
    "execution": {
     "iopub.execute_input": "2025-05-21T14:50:47.480576Z",
     "iopub.status.busy": "2025-05-21T14:50:47.480288Z",
     "iopub.status.idle": "2025-05-21T14:50:47.495883Z",
     "shell.execute_reply": "2025-05-21T14:50:47.494493Z"
    },
    "papermill": {
     "duration": 0.026275,
     "end_time": "2025-05-21T14:50:47.497853",
     "exception": false,
     "start_time": "2025-05-21T14:50:47.471578",
     "status": "completed"
    },
    "tags": []
   },
   "outputs": [
    {
     "data": {
      "text/html": [
       "<div>\n",
       "<style scoped>\n",
       "    .dataframe tbody tr th:only-of-type {\n",
       "        vertical-align: middle;\n",
       "    }\n",
       "\n",
       "    .dataframe tbody tr th {\n",
       "        vertical-align: top;\n",
       "    }\n",
       "\n",
       "    .dataframe thead th {\n",
       "        text-align: right;\n",
       "    }\n",
       "</style>\n",
       "<table border=\"1\" class=\"dataframe\">\n",
       "  <thead>\n",
       "    <tr style=\"text-align: right;\">\n",
       "      <th></th>\n",
       "      <th>725</th>\n",
       "      <th>adroitly</th>\n",
       "      <th>engineers</th>\n",
       "      <th>promoted</th>\n",
       "      <th>synergy</th>\n",
       "    </tr>\n",
       "  </thead>\n",
       "  <tbody>\n",
       "    <tr>\n",
       "      <th>CD</th>\n",
       "      <td>8.201296e-05</td>\n",
       "      <td>2.732854e-08</td>\n",
       "      <td>2.732854e-08</td>\n",
       "      <td>2.732854e-08</td>\n",
       "      <td>2.732854e-08</td>\n",
       "    </tr>\n",
       "    <tr>\n",
       "      <th>NN</th>\n",
       "      <td>7.521128e-09</td>\n",
       "      <td>7.521128e-09</td>\n",
       "      <td>7.521128e-09</td>\n",
       "      <td>7.521128e-09</td>\n",
       "      <td>2.257091e-05</td>\n",
       "    </tr>\n",
       "    <tr>\n",
       "      <th>NNS</th>\n",
       "      <td>1.670013e-08</td>\n",
       "      <td>1.670013e-08</td>\n",
       "      <td>4.676203e-04</td>\n",
       "      <td>1.670013e-08</td>\n",
       "      <td>1.670013e-08</td>\n",
       "    </tr>\n",
       "    <tr>\n",
       "      <th>VB</th>\n",
       "      <td>3.779036e-08</td>\n",
       "      <td>3.779036e-08</td>\n",
       "      <td>3.779036e-08</td>\n",
       "      <td>3.779036e-08</td>\n",
       "      <td>3.779036e-08</td>\n",
       "    </tr>\n",
       "    <tr>\n",
       "      <th>RB</th>\n",
       "      <td>3.226454e-08</td>\n",
       "      <td>6.456135e-05</td>\n",
       "      <td>3.226454e-08</td>\n",
       "      <td>3.226454e-08</td>\n",
       "      <td>3.226454e-08</td>\n",
       "    </tr>\n",
       "    <tr>\n",
       "      <th>RP</th>\n",
       "      <td>3.723317e-07</td>\n",
       "      <td>3.723317e-07</td>\n",
       "      <td>3.723317e-07</td>\n",
       "      <td>3.723317e-07</td>\n",
       "      <td>3.723317e-07</td>\n",
       "    </tr>\n",
       "  </tbody>\n",
       "</table>\n",
       "</div>"
      ],
      "text/plain": [
       "              725      adroitly     engineers      promoted       synergy\n",
       "CD   8.201296e-05  2.732854e-08  2.732854e-08  2.732854e-08  2.732854e-08\n",
       "NN   7.521128e-09  7.521128e-09  7.521128e-09  7.521128e-09  2.257091e-05\n",
       "NNS  1.670013e-08  1.670013e-08  4.676203e-04  1.670013e-08  1.670013e-08\n",
       "VB   3.779036e-08  3.779036e-08  3.779036e-08  3.779036e-08  3.779036e-08\n",
       "RB   3.226454e-08  6.456135e-05  3.226454e-08  3.226454e-08  3.226454e-08\n",
       "RP   3.723317e-07  3.723317e-07  3.723317e-07  3.723317e-07  3.723317e-07"
      ]
     },
     "execution_count": 27,
     "metadata": {},
     "output_type": "execute_result"
    }
   ],
   "source": [
    "cidx = ['725','adroitly','engineers', 'promoted', 'synergy']\n",
    "cols = [vocab[a] for a in cidx]\n",
    "\n",
    "rvals =['CD','NN','NNS', 'VB','RB','RP']\n",
    "rows = [states.index(a) for a in rvals]\n",
    "\n",
    "B_sub = pd.DataFrame(B[np.ix_(rows,cols)], index=rvals, columns = cidx)\n",
    "B_sub"
   ]
  },
  {
   "cell_type": "code",
   "execution_count": 28,
   "id": "26af3d8b",
   "metadata": {
    "execution": {
     "iopub.execute_input": "2025-05-21T14:50:47.514531Z",
     "iopub.status.busy": "2025-05-21T14:50:47.514245Z",
     "iopub.status.idle": "2025-05-21T14:50:47.521974Z",
     "shell.execute_reply": "2025-05-21T14:50:47.520793Z"
    },
    "papermill": {
     "duration": 0.017525,
     "end_time": "2025-05-21T14:50:47.523573",
     "exception": false,
     "start_time": "2025-05-21T14:50:47.506048",
     "status": "completed"
    },
    "tags": []
   },
   "outputs": [
    {
     "data": {
      "text/plain": [
       "10"
      ]
     },
     "execution_count": 28,
     "metadata": {},
     "output_type": "execute_result"
    }
   ],
   "source": [
    "states.index('CD')"
   ]
  },
  {
   "cell_type": "code",
   "execution_count": null,
   "id": "2b883807",
   "metadata": {
    "papermill": {
     "duration": 0.006759,
     "end_time": "2025-05-21T14:50:47.537710",
     "exception": false,
     "start_time": "2025-05-21T14:50:47.530951",
     "status": "completed"
    },
    "tags": []
   },
   "outputs": [],
   "source": []
  }
 ],
 "metadata": {
  "kaggle": {
   "accelerator": "none",
   "dataSources": [
    {
     "datasetId": 7428875,
     "sourceId": 11825962,
     "sourceType": "datasetVersion"
    }
   ],
   "dockerImageVersionId": 31040,
   "isGpuEnabled": false,
   "isInternetEnabled": false,
   "language": "python",
   "sourceType": "notebook"
  },
  "kernelspec": {
   "display_name": "Python 3",
   "language": "python",
   "name": "python3"
  },
  "language_info": {
   "codemirror_mode": {
    "name": "ipython",
    "version": 3
   },
   "file_extension": ".py",
   "mimetype": "text/x-python",
   "name": "python",
   "nbconvert_exporter": "python",
   "pygments_lexer": "ipython3",
   "version": "3.11.11"
  },
  "papermill": {
   "default_parameters": {},
   "duration": 12.38081,
   "end_time": "2025-05-21T14:50:48.369860",
   "environment_variables": {},
   "exception": null,
   "input_path": "__notebook__.ipynb",
   "output_path": "__notebook__.ipynb",
   "parameters": {},
   "start_time": "2025-05-21T14:50:35.989050",
   "version": "2.6.0"
  }
 },
 "nbformat": 4,
 "nbformat_minor": 5
}
