{
 "cells": [
  {
   "cell_type": "code",
   "execution_count": 1,
   "id": "0fbf0617",
   "metadata": {
    "_cell_guid": "b1076dfc-b9ad-4769-8c92-a6c4dae69d19",
    "_uuid": "8f2839f25d086af736a60e9eeb907d3b93b6e0e5",
    "execution": {
     "iopub.execute_input": "2025-05-20T14:51:06.892071Z",
     "iopub.status.busy": "2025-05-20T14:51:06.891742Z",
     "iopub.status.idle": "2025-05-20T14:51:08.983500Z",
     "shell.execute_reply": "2025-05-20T14:51:08.982356Z"
    },
    "papermill": {
     "duration": 2.099034,
     "end_time": "2025-05-20T14:51:08.985494",
     "exception": false,
     "start_time": "2025-05-20T14:51:06.886460",
     "status": "completed"
    },
    "tags": []
   },
   "outputs": [
    {
     "name": "stdout",
     "output_type": "stream",
     "text": [
      "/kaggle/input/wall-street-journal-2/WSJ_24.pos\n",
      "/kaggle/input/wall-street-journal-2/test.words\n",
      "/kaggle/input/wall-street-journal-2/hmm_vocab.txt\n",
      "/kaggle/input/wall-street-journal-2/WSJ_02-21.pos\n"
     ]
    }
   ],
   "source": [
    "# This Python 3 environment comes with many helpful analytics libraries installed\n",
    "# It is defined by the kaggle/python Docker image: https://github.com/kaggle/docker-python\n",
    "# For example, here's several helpful packages to load\n",
    "\n",
    "import numpy as np # linear algebra\n",
    "import pandas as pd # data processing, CSV file I/O (e.g. pd.read_csv)\n",
    "\n",
    "# Input data files are available in the read-only \"../input/\" directory\n",
    "# For example, running this (by clicking run or pressing Shift+Enter) will list all files under the input directory\n",
    "\n",
    "import os\n",
    "for dirname, _, filenames in os.walk('/kaggle/input'):\n",
    "    for filename in filenames:\n",
    "        print(os.path.join(dirname, filename))\n",
    "\n",
    "# You can write up to 20GB to the current directory (/kaggle/working/) that gets preserved as output when you create a version using \"Save & Run All\" \n",
    "# You can also write temporary files to /kaggle/temp/, but they won't be saved outside of the current session"
   ]
  },
  {
   "cell_type": "code",
   "execution_count": 2,
   "id": "f59261ca",
   "metadata": {
    "execution": {
     "iopub.execute_input": "2025-05-20T14:51:08.997531Z",
     "iopub.status.busy": "2025-05-20T14:51:08.996132Z",
     "iopub.status.idle": "2025-05-20T14:51:09.001338Z",
     "shell.execute_reply": "2025-05-20T14:51:09.000374Z"
    },
    "papermill": {
     "duration": 0.013353,
     "end_time": "2025-05-20T14:51:09.003511",
     "exception": false,
     "start_time": "2025-05-20T14:51:08.990158",
     "status": "completed"
    },
    "tags": []
   },
   "outputs": [],
   "source": [
    "import string\n",
    "from collections import defaultdict"
   ]
  },
  {
   "cell_type": "code",
   "execution_count": 3,
   "id": "a7579f07",
   "metadata": {
    "execution": {
     "iopub.execute_input": "2025-05-20T14:51:09.012896Z",
     "iopub.status.busy": "2025-05-20T14:51:09.012589Z",
     "iopub.status.idle": "2025-05-20T14:51:09.252792Z",
     "shell.execute_reply": "2025-05-20T14:51:09.251674Z"
    },
    "papermill": {
     "duration": 0.247505,
     "end_time": "2025-05-20T14:51:09.254865",
     "exception": false,
     "start_time": "2025-05-20T14:51:09.007360",
     "status": "completed"
    },
    "tags": []
   },
   "outputs": [
    {
     "data": {
      "text/plain": [
       "['In\\tIN\\n', 'an\\tDT\\n', 'Oct.\\tNNP\\n', '19\\tCD\\n', 'review\\tNN\\n']"
      ]
     },
     "execution_count": 3,
     "metadata": {},
     "output_type": "execute_result"
    }
   ],
   "source": [
    "with open(\"/kaggle/input/wall-street-journal-2/WSJ_02-21.pos\") as f:\n",
    "    train_corpus = f.readlines()\n",
    "\n",
    "train_corpus[:5]"
   ]
  },
  {
   "cell_type": "code",
   "execution_count": 4,
   "id": "3506d7f3",
   "metadata": {
    "execution": {
     "iopub.execute_input": "2025-05-20T14:51:09.266388Z",
     "iopub.status.busy": "2025-05-20T14:51:09.265968Z",
     "iopub.status.idle": "2025-05-20T14:51:09.283678Z",
     "shell.execute_reply": "2025-05-20T14:51:09.281959Z"
    },
    "papermill": {
     "duration": 0.025989,
     "end_time": "2025-05-20T14:51:09.286069",
     "exception": false,
     "start_time": "2025-05-20T14:51:09.260080",
     "status": "completed"
    },
    "tags": []
   },
   "outputs": [
    {
     "name": "stdout",
     "output_type": "stream",
     "text": [
      "['!', '#', '$', '%', '&', \"'\", \"''\", \"'40s\", \"'60s\", \"'70s\", \"'80s\", \"'86\", \"'90s\", \"'N\", \"'S\", \"'d\", \"'em\", \"'ll\", \"'m\", \"'n'\", \"'re\", \"'s\", \"'til\", \"'ve\", '(', ')', ',', '-', '--', '--n--', '--unk--', '--unk_adj--', '--unk_adv--', '--unk_digit--', '--unk_noun--', '--unk_punct--', '--unk_upper--', '--unk_verb--', '.', '...', '0.01', '0.0108', '0.02', '0.03', '0.05', '0.1', '0.10', '0.12', '0.13', '0.15'] \n",
      "\n",
      "['yards', 'yardstick', 'year', 'year-ago', 'year-before', 'year-earlier', 'year-end', 'year-on-year', 'year-round', 'year-to-date', 'year-to-year', 'yearlong', 'yearly', 'years', 'yeast', 'yelled', 'yelling', 'yellow', 'yen', 'yes', 'yesterday', 'yet', 'yield', 'yielded', 'yielding', 'yields', 'you', 'young', 'younger', 'youngest', 'youngsters', 'your', 'yourself', 'youth', 'youthful', 'yuppie', 'yuppies', 'zero', 'zero-coupon', 'zeroing', 'zeros', 'zinc', 'zip', 'zombie', 'zone', 'zones', 'zoning', '{', '}', '']\n"
     ]
    }
   ],
   "source": [
    "with open(\"/kaggle/input/wall-street-journal-2/hmm_vocab.txt\", 'r') as f:\n",
    "    voc = f.read().split('\\n')\n",
    "\n",
    "print(voc[:50],'\\n')\n",
    "print(voc[-50:])"
   ]
  },
  {
   "cell_type": "code",
   "execution_count": 5,
   "id": "8c46afd8",
   "metadata": {
    "execution": {
     "iopub.execute_input": "2025-05-20T14:51:09.299977Z",
     "iopub.status.busy": "2025-05-20T14:51:09.299343Z",
     "iopub.status.idle": "2025-05-20T14:51:09.324038Z",
     "shell.execute_reply": "2025-05-20T14:51:09.323007Z"
    },
    "papermill": {
     "duration": 0.034996,
     "end_time": "2025-05-20T14:51:09.327183",
     "exception": false,
     "start_time": "2025-05-20T14:51:09.292187",
     "status": "completed"
    },
    "tags": []
   },
   "outputs": [
    {
     "name": "stdout",
     "output_type": "stream",
     "text": [
      ":0\n",
      "!:1\n",
      "#:2\n",
      "$:3\n",
      "%:4\n",
      "&:5\n",
      "':6\n",
      "'':7\n",
      "'40s:8\n",
      "'60s:9\n",
      "'70s:10\n",
      "'80s:11\n",
      "'86:12\n",
      "'90s:13\n",
      "'N:14\n",
      "'S:15\n",
      "'d:16\n",
      "'em:17\n",
      "'ll:18\n",
      "'m:19\n",
      "'n':20\n"
     ]
    }
   ],
   "source": [
    "voc.sort()\n",
    "vocab={}\n",
    "\n",
    "for i,word in enumerate(voc):\n",
    "    vocab[word] = i\n",
    "\n",
    "cnt = 0\n",
    "for k,v in vocab.items():\n",
    "    print(f\"{k}:{v}\")\n",
    "    cnt += 1\n",
    "    if cnt>20: break"
   ]
  },
  {
   "cell_type": "code",
   "execution_count": 6,
   "id": "2cbf3d6e",
   "metadata": {
    "execution": {
     "iopub.execute_input": "2025-05-20T14:51:09.338736Z",
     "iopub.status.busy": "2025-05-20T14:51:09.337797Z",
     "iopub.status.idle": "2025-05-20T14:51:09.357853Z",
     "shell.execute_reply": "2025-05-20T14:51:09.357006Z"
    },
    "papermill": {
     "duration": 0.026768,
     "end_time": "2025-05-20T14:51:09.359371",
     "exception": false,
     "start_time": "2025-05-20T14:51:09.332603",
     "status": "completed"
    },
    "tags": []
   },
   "outputs": [
    {
     "data": {
      "text/plain": [
       "['The\\tDT\\n',\n",
       " 'economy\\tNN\\n',\n",
       " \"'s\\tPOS\\n\",\n",
       " 'temperature\\tNN\\n',\n",
       " 'will\\tMD\\n',\n",
       " 'be\\tVB\\n',\n",
       " 'taken\\tVBN\\n',\n",
       " 'from\\tIN\\n',\n",
       " 'several\\tJJ\\n',\n",
       " 'vantage\\tNN\\n']"
      ]
     },
     "execution_count": 6,
     "metadata": {},
     "output_type": "execute_result"
    }
   ],
   "source": [
    "with open(\"/kaggle/input/wall-street-journal-2/WSJ_24.pos\",'r') as f:\n",
    "    y = f.readlines()\n",
    "\n",
    "y[:10]"
   ]
  },
  {
   "cell_type": "code",
   "execution_count": 7,
   "id": "0b1deb8f",
   "metadata": {
    "execution": {
     "iopub.execute_input": "2025-05-20T14:51:09.368831Z",
     "iopub.status.busy": "2025-05-20T14:51:09.368531Z",
     "iopub.status.idle": "2025-05-20T14:51:09.376490Z",
     "shell.execute_reply": "2025-05-20T14:51:09.375317Z"
    },
    "papermill": {
     "duration": 0.014433,
     "end_time": "2025-05-20T14:51:09.378259",
     "exception": false,
     "start_time": "2025-05-20T14:51:09.363826",
     "status": "completed"
    },
    "tags": []
   },
   "outputs": [],
   "source": [
    "def assign_unk(word):\n",
    "    punct = string.punctuation\n",
    "    noun_suffs = [\"action\", \"age\", \"ance\", \"cy\", \"dom\", \"ee\", \"ence\", \"er\", \"hood\", \"ion\", \"ism\", \"ist\", \"ity\", \"ling\", \"ment\", \"ness\", \"or\", \"ry\", \"scape\", \"ship\", \"ty\"]\n",
    "    verb_suffs = [\"ate\", \"ify\", \"ise\", \"ize\"]\n",
    "    adj_suffs = [\"able\", \"ese\", \"ful\", \"i\", \"ian\", \"ible\", \"ic\", \"ish\", \"ive\", \"less\", \"ly\", \"ous\"]\n",
    "    adv_suffs = [\"ward\", \"wards\", \"wise\"]\n",
    "    \n",
    "    if any(char.isdigit() for char in word):\n",
    "        return \"--unk_digit--\"\n",
    "\n",
    "    elif any(char in punct for char in word):\n",
    "        return \"--unk_punct--\"\n",
    "\n",
    "    elif any(char.isupper() for char in word):\n",
    "        return \"--unk_upper--\"\n",
    "\n",
    "    elif any(word.endswith(suff) for suff in noun_suffs):\n",
    "        return \"--unk_noun--\"\n",
    "\n",
    "    elif any(word.endswith(suff) for suff in verb_suffs):\n",
    "        return \"--unk_verb\"\n",
    "\n",
    "    elif any(word.endswith(suff) for suff in adj_suffs):\n",
    "        return \"--unk_adj--\"\n",
    "\n",
    "    elif any(word.endswith(suff) for suff in adv_suffs):\n",
    "        return \"--unk_adv--\"\n",
    "\n",
    "    return \"unk--\"\n",
    "    "
   ]
  },
  {
   "cell_type": "code",
   "execution_count": 8,
   "id": "4c11a4f5",
   "metadata": {
    "execution": {
     "iopub.execute_input": "2025-05-20T14:51:09.387054Z",
     "iopub.status.busy": "2025-05-20T14:51:09.386705Z",
     "iopub.status.idle": "2025-05-20T14:51:09.393912Z",
     "shell.execute_reply": "2025-05-20T14:51:09.393009Z"
    },
    "papermill": {
     "duration": 0.013584,
     "end_time": "2025-05-20T14:51:09.395692",
     "exception": false,
     "start_time": "2025-05-20T14:51:09.382108",
     "status": "completed"
    },
    "tags": []
   },
   "outputs": [],
   "source": [
    "def preprocess(vocab,data):\n",
    "    orig = []\n",
    "    prep = []\n",
    "\n",
    "    with open(data, 'r') as f:\n",
    "        for word in f:\n",
    "            if not word.split():\n",
    "                orig.append(word.strip())\n",
    "                word = \"--n--\"\n",
    "                prep.append(word)\n",
    "                continue\n",
    "\n",
    "            elif word.strip() not in vocab:\n",
    "                orig.append(word.strip())\n",
    "                word = assign_unk(word)\n",
    "                prep.append(word)\n",
    "                continue\n",
    "\n",
    "            else:\n",
    "                orig.append(word.strip())\n",
    "                prep.append(word.strip())\n",
    "\n",
    "    assert(len(orig) == len(open(data, \"r\").readlines()))\n",
    "    assert(len(prep) == len(open(data, \"r\").readlines()))\n",
    "\n",
    "    return orig, prep"
   ]
  },
  {
   "cell_type": "code",
   "execution_count": 9,
   "id": "30248807",
   "metadata": {
    "execution": {
     "iopub.execute_input": "2025-05-20T14:51:09.404518Z",
     "iopub.status.busy": "2025-05-20T14:51:09.404204Z",
     "iopub.status.idle": "2025-05-20T14:51:09.457501Z",
     "shell.execute_reply": "2025-05-20T14:51:09.455795Z"
    },
    "papermill": {
     "duration": 0.060427,
     "end_time": "2025-05-20T14:51:09.459999",
     "exception": false,
     "start_time": "2025-05-20T14:51:09.399572",
     "status": "completed"
    },
    "tags": []
   },
   "outputs": [],
   "source": [
    "_, prep = preprocess(vocab,\"/kaggle/input/wall-street-journal-2/test.words\")   "
   ]
  },
  {
   "cell_type": "code",
   "execution_count": 10,
   "id": "71512c5d",
   "metadata": {
    "execution": {
     "iopub.execute_input": "2025-05-20T14:51:09.472892Z",
     "iopub.status.busy": "2025-05-20T14:51:09.472583Z",
     "iopub.status.idle": "2025-05-20T14:51:09.480570Z",
     "shell.execute_reply": "2025-05-20T14:51:09.478977Z"
    },
    "papermill": {
     "duration": 0.0174,
     "end_time": "2025-05-20T14:51:09.483292",
     "exception": false,
     "start_time": "2025-05-20T14:51:09.465892",
     "status": "completed"
    },
    "tags": []
   },
   "outputs": [
    {
     "name": "stdout",
     "output_type": "stream",
     "text": [
      "34199\n"
     ]
    },
    {
     "data": {
      "text/plain": [
       "['The',\n",
       " 'economy',\n",
       " \"'s\",\n",
       " 'temperature',\n",
       " 'will',\n",
       " 'be',\n",
       " 'taken',\n",
       " 'from',\n",
       " 'several',\n",
       " 'unk--']"
      ]
     },
     "execution_count": 10,
     "metadata": {},
     "output_type": "execute_result"
    }
   ],
   "source": [
    "print(len(prep))\n",
    "prep[:10]"
   ]
  },
  {
   "cell_type": "code",
   "execution_count": 11,
   "id": "ae7f9304",
   "metadata": {
    "execution": {
     "iopub.execute_input": "2025-05-20T14:51:09.494801Z",
     "iopub.status.busy": "2025-05-20T14:51:09.494398Z",
     "iopub.status.idle": "2025-05-20T14:51:09.501151Z",
     "shell.execute_reply": "2025-05-20T14:51:09.499686Z"
    },
    "papermill": {
     "duration": 0.015626,
     "end_time": "2025-05-20T14:51:09.503168",
     "exception": false,
     "start_time": "2025-05-20T14:51:09.487542",
     "status": "completed"
    },
    "tags": []
   },
   "outputs": [],
   "source": [
    "def get_word_tag(line, vocab):\n",
    "    if not(line.split()):\n",
    "        word = \"--n--\"\n",
    "        tag = \"--s--\"\n",
    "    else:\n",
    "        word,tag = line.split()\n",
    "        if word not in vocab:\n",
    "            word = assign_unk(word)\n",
    "    return word, tag"
   ]
  },
  {
   "cell_type": "markdown",
   "id": "554e79dd",
   "metadata": {
    "papermill": {
     "duration": 0.00428,
     "end_time": "2025-05-20T14:51:09.512494",
     "exception": false,
     "start_time": "2025-05-20T14:51:09.508214",
     "status": "completed"
    },
    "tags": []
   },
   "source": [
    "**POS Tagging**"
   ]
  },
  {
   "cell_type": "code",
   "execution_count": 12,
   "id": "0b72f869",
   "metadata": {
    "execution": {
     "iopub.execute_input": "2025-05-20T14:51:09.521631Z",
     "iopub.status.busy": "2025-05-20T14:51:09.521260Z",
     "iopub.status.idle": "2025-05-20T14:51:09.527728Z",
     "shell.execute_reply": "2025-05-20T14:51:09.526853Z"
    },
    "papermill": {
     "duration": 0.012736,
     "end_time": "2025-05-20T14:51:09.529152",
     "exception": false,
     "start_time": "2025-05-20T14:51:09.516416",
     "status": "completed"
    },
    "tags": []
   },
   "outputs": [],
   "source": [
    "def create_dicts(train_corpus, vocab):\n",
    "    emission_counts = defaultdict(int)\n",
    "    transition_counts = defaultdict(int)\n",
    "    tag_counts = defaultdict(int)\n",
    "\n",
    "    prev_tag = '--s--'\n",
    "    i=0\n",
    "\n",
    "    for word_tag in train_corpus:\n",
    "        i+=1\n",
    "        \n",
    "        if i%50000 == 0:\n",
    "            print(f\"word count = {i}\")\n",
    "        word, tag = get_word_tag(word_tag, vocab)\n",
    "\n",
    "        transition_counts[(prev_tag, tag)]+=1\n",
    "        emission_counts[(tag, word)]+=1\n",
    "        tag_counts[tag]+=1\n",
    "\n",
    "        prev_tag = tag\n",
    "\n",
    "    return transition_counts, emission_counts, tag_counts\n",
    "    "
   ]
  },
  {
   "cell_type": "code",
   "execution_count": 13,
   "id": "42f38870",
   "metadata": {
    "execution": {
     "iopub.execute_input": "2025-05-20T14:51:09.539603Z",
     "iopub.status.busy": "2025-05-20T14:51:09.539318Z",
     "iopub.status.idle": "2025-05-20T14:51:11.288520Z",
     "shell.execute_reply": "2025-05-20T14:51:11.286914Z"
    },
    "papermill": {
     "duration": 1.757263,
     "end_time": "2025-05-20T14:51:11.291259",
     "exception": false,
     "start_time": "2025-05-20T14:51:09.533996",
     "status": "completed"
    },
    "tags": []
   },
   "outputs": [
    {
     "name": "stdout",
     "output_type": "stream",
     "text": [
      "word count = 50000\n",
      "word count = 100000\n",
      "word count = 150000\n",
      "word count = 200000\n",
      "word count = 250000\n",
      "word count = 300000\n",
      "word count = 350000\n",
      "word count = 400000\n",
      "word count = 450000\n",
      "word count = 500000\n",
      "word count = 550000\n",
      "word count = 600000\n",
      "word count = 650000\n",
      "word count = 700000\n",
      "word count = 750000\n",
      "word count = 800000\n",
      "word count = 850000\n",
      "word count = 900000\n",
      "word count = 950000\n"
     ]
    }
   ],
   "source": [
    "transition_counts, emission_counts, tag_counts = create_dicts(train_corpus, vocab)"
   ]
  },
  {
   "cell_type": "code",
   "execution_count": 14,
   "id": "0c5776e9",
   "metadata": {
    "execution": {
     "iopub.execute_input": "2025-05-20T14:51:11.304678Z",
     "iopub.status.busy": "2025-05-20T14:51:11.304352Z",
     "iopub.status.idle": "2025-05-20T14:51:11.311338Z",
     "shell.execute_reply": "2025-05-20T14:51:11.310018Z"
    },
    "papermill": {
     "duration": 0.016988,
     "end_time": "2025-05-20T14:51:11.313714",
     "exception": false,
     "start_time": "2025-05-20T14:51:11.296726",
     "status": "completed"
    },
    "tags": []
   },
   "outputs": [
    {
     "name": "stdout",
     "output_type": "stream",
     "text": [
      "Number of POS Tags (states):  46\n",
      "['#', '$', \"''\", '(', ')', ',', '--s--', '.', ':', 'CC', 'CD', 'DT', 'EX', 'FW', 'IN', 'JJ', 'JJR', 'JJS', 'LS', 'MD', 'NN', 'NNP', 'NNPS', 'NNS', 'PDT', 'POS', 'PRP', 'PRP$', 'RB', 'RBR', 'RBS', 'RP', 'SYM', 'TO', 'UH', 'VB', 'VBD', 'VBG', 'VBN', 'VBP', 'VBZ', 'WDT', 'WP', 'WP$', 'WRB', '``']\n"
     ]
    }
   ],
   "source": [
    "states = sorted(tag_counts.keys())\n",
    "print(\"Number of POS Tags (states): \", len(states))\n",
    "print(states)"
   ]
  },
  {
   "cell_type": "code",
   "execution_count": null,
   "id": "2c464982",
   "metadata": {
    "papermill": {
     "duration": 0.00489,
     "end_time": "2025-05-20T14:51:11.323511",
     "exception": false,
     "start_time": "2025-05-20T14:51:11.318621",
     "status": "completed"
    },
    "tags": []
   },
   "outputs": [],
   "source": []
  }
 ],
 "metadata": {
  "kaggle": {
   "accelerator": "none",
   "dataSources": [
    {
     "datasetId": 7428875,
     "sourceId": 11825962,
     "sourceType": "datasetVersion"
    }
   ],
   "dockerImageVersionId": 31040,
   "isGpuEnabled": false,
   "isInternetEnabled": false,
   "language": "python",
   "sourceType": "notebook"
  },
  "kernelspec": {
   "display_name": "Python 3",
   "language": "python",
   "name": "python3"
  },
  "language_info": {
   "codemirror_mode": {
    "name": "ipython",
    "version": 3
   },
   "file_extension": ".py",
   "mimetype": "text/x-python",
   "name": "python",
   "nbconvert_exporter": "python",
   "pygments_lexer": "ipython3",
   "version": "3.11.11"
  },
  "papermill": {
   "default_parameters": {},
   "duration": 10.30938,
   "end_time": "2025-05-20T14:51:11.950224",
   "environment_variables": {},
   "exception": null,
   "input_path": "__notebook__.ipynb",
   "output_path": "__notebook__.ipynb",
   "parameters": {},
   "start_time": "2025-05-20T14:51:01.640844",
   "version": "2.6.0"
  }
 },
 "nbformat": 4,
 "nbformat_minor": 5
}
