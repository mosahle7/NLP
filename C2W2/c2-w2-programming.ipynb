{
 "cells": [
  {
   "cell_type": "code",
   "execution_count": 1,
   "id": "f06d315e",
   "metadata": {
    "_cell_guid": "b1076dfc-b9ad-4769-8c92-a6c4dae69d19",
    "_uuid": "8f2839f25d086af736a60e9eeb907d3b93b6e0e5",
    "execution": {
     "iopub.execute_input": "2025-05-21T12:17:45.044320Z",
     "iopub.status.busy": "2025-05-21T12:17:45.043965Z",
     "iopub.status.idle": "2025-05-21T12:17:47.166249Z",
     "shell.execute_reply": "2025-05-21T12:17:47.165245Z"
    },
    "papermill": {
     "duration": 2.131154,
     "end_time": "2025-05-21T12:17:47.167824",
     "exception": false,
     "start_time": "2025-05-21T12:17:45.036670",
     "status": "completed"
    },
    "tags": []
   },
   "outputs": [
    {
     "name": "stdout",
     "output_type": "stream",
     "text": [
      "/kaggle/input/wall-street-journal-2/WSJ_24.pos\n",
      "/kaggle/input/wall-street-journal-2/test.words\n",
      "/kaggle/input/wall-street-journal-2/hmm_vocab.txt\n",
      "/kaggle/input/wall-street-journal-2/WSJ_02-21.pos\n"
     ]
    }
   ],
   "source": [
    "# This Python 3 environment comes with many helpful analytics libraries installed\n",
    "# It is defined by the kaggle/python Docker image: https://github.com/kaggle/docker-python\n",
    "# For example, here's several helpful packages to load\n",
    "\n",
    "import numpy as np # linear algebra\n",
    "import pandas as pd # data processing, CSV file I/O (e.g. pd.read_csv)\n",
    "\n",
    "# Input data files are available in the read-only \"../input/\" directory\n",
    "# For example, running this (by clicking run or pressing Shift+Enter) will list all files under the input directory\n",
    "\n",
    "import os\n",
    "for dirname, _, filenames in os.walk('/kaggle/input'):\n",
    "    for filename in filenames:\n",
    "        print(os.path.join(dirname, filename))\n",
    "\n",
    "# You can write up to 20GB to the current directory (/kaggle/working/) that gets preserved as output when you create a version using \"Save & Run All\" \n",
    "# You can also write temporary files to /kaggle/temp/, but they won't be saved outside of the current session"
   ]
  },
  {
   "cell_type": "code",
   "execution_count": 2,
   "id": "797ff970",
   "metadata": {
    "execution": {
     "iopub.execute_input": "2025-05-21T12:17:47.180353Z",
     "iopub.status.busy": "2025-05-21T12:17:47.179223Z",
     "iopub.status.idle": "2025-05-21T12:17:47.184476Z",
     "shell.execute_reply": "2025-05-21T12:17:47.183317Z"
    },
    "papermill": {
     "duration": 0.012694,
     "end_time": "2025-05-21T12:17:47.185883",
     "exception": false,
     "start_time": "2025-05-21T12:17:47.173189",
     "status": "completed"
    },
    "tags": []
   },
   "outputs": [],
   "source": [
    "import string\n",
    "from collections import defaultdict"
   ]
  },
  {
   "cell_type": "code",
   "execution_count": 3,
   "id": "0d0c962c",
   "metadata": {
    "execution": {
     "iopub.execute_input": "2025-05-21T12:17:47.200752Z",
     "iopub.status.busy": "2025-05-21T12:17:47.200099Z",
     "iopub.status.idle": "2025-05-21T12:17:47.399762Z",
     "shell.execute_reply": "2025-05-21T12:17:47.398530Z"
    },
    "papermill": {
     "duration": 0.210448,
     "end_time": "2025-05-21T12:17:47.401486",
     "exception": false,
     "start_time": "2025-05-21T12:17:47.191038",
     "status": "completed"
    },
    "tags": []
   },
   "outputs": [
    {
     "data": {
      "text/plain": [
       "['In\\tIN\\n', 'an\\tDT\\n', 'Oct.\\tNNP\\n', '19\\tCD\\n', 'review\\tNN\\n']"
      ]
     },
     "execution_count": 3,
     "metadata": {},
     "output_type": "execute_result"
    }
   ],
   "source": [
    "with open(\"/kaggle/input/wall-street-journal-2/WSJ_02-21.pos\") as f:\n",
    "    train_corpus = f.readlines()\n",
    "\n",
    "train_corpus[:5]"
   ]
  },
  {
   "cell_type": "code",
   "execution_count": 4,
   "id": "498ccdba",
   "metadata": {
    "execution": {
     "iopub.execute_input": "2025-05-21T12:17:47.413430Z",
     "iopub.status.busy": "2025-05-21T12:17:47.413083Z",
     "iopub.status.idle": "2025-05-21T12:17:47.429329Z",
     "shell.execute_reply": "2025-05-21T12:17:47.428320Z"
    },
    "papermill": {
     "duration": 0.024072,
     "end_time": "2025-05-21T12:17:47.430839",
     "exception": false,
     "start_time": "2025-05-21T12:17:47.406767",
     "status": "completed"
    },
    "tags": []
   },
   "outputs": [
    {
     "name": "stdout",
     "output_type": "stream",
     "text": [
      "['!', '#', '$', '%', '&', \"'\", \"''\", \"'40s\", \"'60s\", \"'70s\", \"'80s\", \"'86\", \"'90s\", \"'N\", \"'S\", \"'d\", \"'em\", \"'ll\", \"'m\", \"'n'\", \"'re\", \"'s\", \"'til\", \"'ve\", '(', ')', ',', '-', '--', '--n--', '--unk--', '--unk_adj--', '--unk_adv--', '--unk_digit--', '--unk_noun--', '--unk_punct--', '--unk_upper--', '--unk_verb--', '.', '...', '0.01', '0.0108', '0.02', '0.03', '0.05', '0.1', '0.10', '0.12', '0.13', '0.15'] \n",
      "\n",
      "['yards', 'yardstick', 'year', 'year-ago', 'year-before', 'year-earlier', 'year-end', 'year-on-year', 'year-round', 'year-to-date', 'year-to-year', 'yearlong', 'yearly', 'years', 'yeast', 'yelled', 'yelling', 'yellow', 'yen', 'yes', 'yesterday', 'yet', 'yield', 'yielded', 'yielding', 'yields', 'you', 'young', 'younger', 'youngest', 'youngsters', 'your', 'yourself', 'youth', 'youthful', 'yuppie', 'yuppies', 'zero', 'zero-coupon', 'zeroing', 'zeros', 'zinc', 'zip', 'zombie', 'zone', 'zones', 'zoning', '{', '}', '']\n"
     ]
    }
   ],
   "source": [
    "with open(\"/kaggle/input/wall-street-journal-2/hmm_vocab.txt\", 'r') as f:\n",
    "    voc = f.read().split('\\n')\n",
    "\n",
    "print(voc[:50],'\\n')\n",
    "print(voc[-50:])"
   ]
  },
  {
   "cell_type": "code",
   "execution_count": 5,
   "id": "52bd62ad",
   "metadata": {
    "execution": {
     "iopub.execute_input": "2025-05-21T12:17:47.443470Z",
     "iopub.status.busy": "2025-05-21T12:17:47.442617Z",
     "iopub.status.idle": "2025-05-21T12:17:47.456709Z",
     "shell.execute_reply": "2025-05-21T12:17:47.455663Z"
    },
    "papermill": {
     "duration": 0.021995,
     "end_time": "2025-05-21T12:17:47.458449",
     "exception": false,
     "start_time": "2025-05-21T12:17:47.436454",
     "status": "completed"
    },
    "tags": []
   },
   "outputs": [
    {
     "name": "stdout",
     "output_type": "stream",
     "text": [
      ":0\n",
      "!:1\n",
      "#:2\n",
      "$:3\n",
      "%:4\n",
      "&:5\n",
      "':6\n",
      "'':7\n",
      "'40s:8\n",
      "'60s:9\n",
      "'70s:10\n",
      "'80s:11\n",
      "'86:12\n",
      "'90s:13\n",
      "'N:14\n",
      "'S:15\n",
      "'d:16\n",
      "'em:17\n",
      "'ll:18\n",
      "'m:19\n",
      "'n':20\n"
     ]
    }
   ],
   "source": [
    "voc.sort()\n",
    "vocab={}\n",
    "\n",
    "for i,word in enumerate(voc):\n",
    "    vocab[word] = i\n",
    "\n",
    "cnt = 0\n",
    "for k,v in vocab.items():\n",
    "    print(f\"{k}:{v}\")\n",
    "    cnt += 1\n",
    "    if cnt>20: break"
   ]
  },
  {
   "cell_type": "code",
   "execution_count": 6,
   "id": "4afd0fd0",
   "metadata": {
    "execution": {
     "iopub.execute_input": "2025-05-21T12:17:47.470187Z",
     "iopub.status.busy": "2025-05-21T12:17:47.469889Z",
     "iopub.status.idle": "2025-05-21T12:17:47.488697Z",
     "shell.execute_reply": "2025-05-21T12:17:47.487720Z"
    },
    "papermill": {
     "duration": 0.026286,
     "end_time": "2025-05-21T12:17:47.490153",
     "exception": false,
     "start_time": "2025-05-21T12:17:47.463867",
     "status": "completed"
    },
    "tags": []
   },
   "outputs": [
    {
     "data": {
      "text/plain": [
       "['The\\tDT\\n',\n",
       " 'economy\\tNN\\n',\n",
       " \"'s\\tPOS\\n\",\n",
       " 'temperature\\tNN\\n',\n",
       " 'will\\tMD\\n',\n",
       " 'be\\tVB\\n',\n",
       " 'taken\\tVBN\\n',\n",
       " 'from\\tIN\\n',\n",
       " 'several\\tJJ\\n',\n",
       " 'vantage\\tNN\\n']"
      ]
     },
     "execution_count": 6,
     "metadata": {},
     "output_type": "execute_result"
    }
   ],
   "source": [
    "with open(\"/kaggle/input/wall-street-journal-2/WSJ_24.pos\",'r') as f:\n",
    "    y = f.readlines()\n",
    "\n",
    "y[:10]"
   ]
  },
  {
   "cell_type": "code",
   "execution_count": 7,
   "id": "7d6698f9",
   "metadata": {
    "execution": {
     "iopub.execute_input": "2025-05-21T12:17:47.502311Z",
     "iopub.status.busy": "2025-05-21T12:17:47.501957Z",
     "iopub.status.idle": "2025-05-21T12:17:47.510167Z",
     "shell.execute_reply": "2025-05-21T12:17:47.509191Z"
    },
    "papermill": {
     "duration": 0.016025,
     "end_time": "2025-05-21T12:17:47.511761",
     "exception": false,
     "start_time": "2025-05-21T12:17:47.495736",
     "status": "completed"
    },
    "tags": []
   },
   "outputs": [],
   "source": [
    "def assign_unk(word):\n",
    "    punct = string.punctuation\n",
    "    noun_suffs = [\"action\", \"age\", \"ance\", \"cy\", \"dom\", \"ee\", \"ence\", \"er\", \"hood\", \"ion\", \"ism\", \"ist\", \"ity\", \"ling\", \"ment\", \"ness\", \"or\", \"ry\", \"scape\", \"ship\", \"ty\"]\n",
    "    verb_suffs = [\"ate\", \"ify\", \"ise\", \"ize\"]\n",
    "    adj_suffs = [\"able\", \"ese\", \"ful\", \"i\", \"ian\", \"ible\", \"ic\", \"ish\", \"ive\", \"less\", \"ly\", \"ous\"]\n",
    "    adv_suffs = [\"ward\", \"wards\", \"wise\"]\n",
    "    \n",
    "    if any(char.isdigit() for char in word):\n",
    "        return \"--unk_digit--\"\n",
    "\n",
    "    elif any(char in punct for char in word):\n",
    "        return \"--unk_punct--\"\n",
    "\n",
    "    elif any(char.isupper() for char in word):\n",
    "        return \"--unk_upper--\"\n",
    "\n",
    "    elif any(word.endswith(suff) for suff in noun_suffs):\n",
    "        return \"--unk_noun--\"\n",
    "\n",
    "    elif any(word.endswith(suff) for suff in verb_suffs):\n",
    "        return \"--unk_verb\"\n",
    "\n",
    "    elif any(word.endswith(suff) for suff in adj_suffs):\n",
    "        return \"--unk_adj--\"\n",
    "\n",
    "    elif any(word.endswith(suff) for suff in adv_suffs):\n",
    "        return \"--unk_adv--\"\n",
    "\n",
    "    return \"unk--\"\n",
    "    "
   ]
  },
  {
   "cell_type": "code",
   "execution_count": 8,
   "id": "d2de5318",
   "metadata": {
    "execution": {
     "iopub.execute_input": "2025-05-21T12:17:47.524018Z",
     "iopub.status.busy": "2025-05-21T12:17:47.523520Z",
     "iopub.status.idle": "2025-05-21T12:17:47.530105Z",
     "shell.execute_reply": "2025-05-21T12:17:47.529373Z"
    },
    "papermill": {
     "duration": 0.014173,
     "end_time": "2025-05-21T12:17:47.531538",
     "exception": false,
     "start_time": "2025-05-21T12:17:47.517365",
     "status": "completed"
    },
    "tags": []
   },
   "outputs": [],
   "source": [
    "def preprocess(vocab,data):\n",
    "    orig = []\n",
    "    prep = []\n",
    "\n",
    "    with open(data, 'r') as f:\n",
    "        for word in f:\n",
    "            if not word.split():\n",
    "                orig.append(word.strip())\n",
    "                word = \"--n--\"\n",
    "                prep.append(word)\n",
    "                continue\n",
    "\n",
    "            elif word.strip() not in vocab:\n",
    "                orig.append(word.strip())\n",
    "                word = assign_unk(word)\n",
    "                prep.append(word)\n",
    "                continue\n",
    "\n",
    "            else:\n",
    "                orig.append(word.strip())\n",
    "                prep.append(word.strip())\n",
    "\n",
    "    assert(len(orig) == len(open(data, \"r\").readlines()))\n",
    "    assert(len(prep) == len(open(data, \"r\").readlines()))\n",
    "\n",
    "    return orig, prep"
   ]
  },
  {
   "cell_type": "code",
   "execution_count": 9,
   "id": "e89bd30d",
   "metadata": {
    "execution": {
     "iopub.execute_input": "2025-05-21T12:17:47.543739Z",
     "iopub.status.busy": "2025-05-21T12:17:47.543134Z",
     "iopub.status.idle": "2025-05-21T12:17:47.589505Z",
     "shell.execute_reply": "2025-05-21T12:17:47.588672Z"
    },
    "papermill": {
     "duration": 0.054116,
     "end_time": "2025-05-21T12:17:47.591156",
     "exception": false,
     "start_time": "2025-05-21T12:17:47.537040",
     "status": "completed"
    },
    "tags": []
   },
   "outputs": [],
   "source": [
    "_, prep = preprocess(vocab,\"/kaggle/input/wall-street-journal-2/test.words\")   "
   ]
  },
  {
   "cell_type": "code",
   "execution_count": 10,
   "id": "c5986e29",
   "metadata": {
    "execution": {
     "iopub.execute_input": "2025-05-21T12:17:47.603768Z",
     "iopub.status.busy": "2025-05-21T12:17:47.602886Z",
     "iopub.status.idle": "2025-05-21T12:17:47.609296Z",
     "shell.execute_reply": "2025-05-21T12:17:47.608451Z"
    },
    "papermill": {
     "duration": 0.013859,
     "end_time": "2025-05-21T12:17:47.610562",
     "exception": false,
     "start_time": "2025-05-21T12:17:47.596703",
     "status": "completed"
    },
    "tags": []
   },
   "outputs": [
    {
     "name": "stdout",
     "output_type": "stream",
     "text": [
      "34199\n"
     ]
    },
    {
     "data": {
      "text/plain": [
       "['The',\n",
       " 'economy',\n",
       " \"'s\",\n",
       " 'temperature',\n",
       " 'will',\n",
       " 'be',\n",
       " 'taken',\n",
       " 'from',\n",
       " 'several',\n",
       " 'unk--']"
      ]
     },
     "execution_count": 10,
     "metadata": {},
     "output_type": "execute_result"
    }
   ],
   "source": [
    "print(len(prep))\n",
    "prep[:10]"
   ]
  },
  {
   "cell_type": "code",
   "execution_count": 11,
   "id": "cf62d9b0",
   "metadata": {
    "execution": {
     "iopub.execute_input": "2025-05-21T12:17:47.622937Z",
     "iopub.status.busy": "2025-05-21T12:17:47.622370Z",
     "iopub.status.idle": "2025-05-21T12:17:47.627343Z",
     "shell.execute_reply": "2025-05-21T12:17:47.626452Z"
    },
    "papermill": {
     "duration": 0.012876,
     "end_time": "2025-05-21T12:17:47.628981",
     "exception": false,
     "start_time": "2025-05-21T12:17:47.616105",
     "status": "completed"
    },
    "tags": []
   },
   "outputs": [],
   "source": [
    "def get_word_tag(line, vocab):\n",
    "    if not(line.split()):\n",
    "        word = \"--n--\"\n",
    "        tag = \"--s--\"\n",
    "    else:\n",
    "        word,tag = line.split()\n",
    "        if word not in vocab:\n",
    "            word = assign_unk(word)\n",
    "    return word, tag"
   ]
  },
  {
   "cell_type": "markdown",
   "id": "3c548a85",
   "metadata": {
    "papermill": {
     "duration": 0.00515,
     "end_time": "2025-05-21T12:17:47.639663",
     "exception": false,
     "start_time": "2025-05-21T12:17:47.634513",
     "status": "completed"
    },
    "tags": []
   },
   "source": [
    "**POS Tagging**"
   ]
  },
  {
   "cell_type": "code",
   "execution_count": 12,
   "id": "01ae1cb4",
   "metadata": {
    "execution": {
     "iopub.execute_input": "2025-05-21T12:17:47.652760Z",
     "iopub.status.busy": "2025-05-21T12:17:47.652450Z",
     "iopub.status.idle": "2025-05-21T12:17:47.658369Z",
     "shell.execute_reply": "2025-05-21T12:17:47.657522Z"
    },
    "papermill": {
     "duration": 0.014236,
     "end_time": "2025-05-21T12:17:47.659842",
     "exception": false,
     "start_time": "2025-05-21T12:17:47.645606",
     "status": "completed"
    },
    "tags": []
   },
   "outputs": [],
   "source": [
    "def create_dicts(train_corpus, vocab):\n",
    "    emission_counts = defaultdict(int)\n",
    "    transition_counts = defaultdict(int)\n",
    "    tag_counts = defaultdict(int)\n",
    "\n",
    "    prev_tag = '--s--'\n",
    "    i=0\n",
    "\n",
    "    for word_tag in train_corpus:\n",
    "        i+=1\n",
    "        \n",
    "        if i%50000 == 0:\n",
    "            print(f\"word count = {i}\")\n",
    "        word, tag = get_word_tag(word_tag, vocab)\n",
    "\n",
    "        transition_counts[(prev_tag, tag)]+=1\n",
    "        emission_counts[(tag, word)]+=1\n",
    "        tag_counts[tag]+=1\n",
    "\n",
    "        prev_tag = tag\n",
    "\n",
    "    return transition_counts, emission_counts, tag_counts\n",
    "    "
   ]
  },
  {
   "cell_type": "code",
   "execution_count": 13,
   "id": "4434af50",
   "metadata": {
    "execution": {
     "iopub.execute_input": "2025-05-21T12:17:47.672073Z",
     "iopub.status.busy": "2025-05-21T12:17:47.671603Z",
     "iopub.status.idle": "2025-05-21T12:17:49.375690Z",
     "shell.execute_reply": "2025-05-21T12:17:49.374896Z"
    },
    "papermill": {
     "duration": 1.711756,
     "end_time": "2025-05-21T12:17:49.377166",
     "exception": false,
     "start_time": "2025-05-21T12:17:47.665410",
     "status": "completed"
    },
    "tags": []
   },
   "outputs": [
    {
     "name": "stdout",
     "output_type": "stream",
     "text": [
      "word count = 50000\n",
      "word count = 100000\n",
      "word count = 150000\n",
      "word count = 200000\n",
      "word count = 250000\n",
      "word count = 300000\n",
      "word count = 350000\n",
      "word count = 400000\n",
      "word count = 450000\n",
      "word count = 500000\n",
      "word count = 550000\n",
      "word count = 600000\n",
      "word count = 650000\n",
      "word count = 700000\n",
      "word count = 750000\n",
      "word count = 800000\n",
      "word count = 850000\n",
      "word count = 900000\n",
      "word count = 950000\n"
     ]
    }
   ],
   "source": [
    "transition_counts, emission_counts, tag_counts = create_dicts(train_corpus, vocab)"
   ]
  },
  {
   "cell_type": "code",
   "execution_count": 14,
   "id": "70bc74d8",
   "metadata": {
    "execution": {
     "iopub.execute_input": "2025-05-21T12:17:49.391130Z",
     "iopub.status.busy": "2025-05-21T12:17:49.390543Z",
     "iopub.status.idle": "2025-05-21T12:17:49.395861Z",
     "shell.execute_reply": "2025-05-21T12:17:49.395046Z"
    },
    "papermill": {
     "duration": 0.013679,
     "end_time": "2025-05-21T12:17:49.397343",
     "exception": false,
     "start_time": "2025-05-21T12:17:49.383664",
     "status": "completed"
    },
    "tags": []
   },
   "outputs": [
    {
     "name": "stdout",
     "output_type": "stream",
     "text": [
      "Number of POS Tags (states):  46\n",
      "['#', '$', \"''\", '(', ')', ',', '--s--', '.', ':', 'CC', 'CD', 'DT', 'EX', 'FW', 'IN', 'JJ', 'JJR', 'JJS', 'LS', 'MD', 'NN', 'NNP', 'NNPS', 'NNS', 'PDT', 'POS', 'PRP', 'PRP$', 'RB', 'RBR', 'RBS', 'RP', 'SYM', 'TO', 'UH', 'VB', 'VBD', 'VBG', 'VBN', 'VBP', 'VBZ', 'WDT', 'WP', 'WP$', 'WRB', '``']\n"
     ]
    }
   ],
   "source": [
    "states = sorted(tag_counts.keys())\n",
    "print(\"Number of POS Tags (states): \", len(states))\n",
    "print(states)"
   ]
  },
  {
   "cell_type": "code",
   "execution_count": 15,
   "id": "7e6ba378",
   "metadata": {
    "execution": {
     "iopub.execute_input": "2025-05-21T12:17:49.410907Z",
     "iopub.status.busy": "2025-05-21T12:17:49.410626Z",
     "iopub.status.idle": "2025-05-21T12:17:49.416657Z",
     "shell.execute_reply": "2025-05-21T12:17:49.415798Z"
    },
    "papermill": {
     "duration": 0.014299,
     "end_time": "2025-05-21T12:17:49.417991",
     "exception": false,
     "start_time": "2025-05-21T12:17:49.403692",
     "status": "completed"
    },
    "tags": []
   },
   "outputs": [
    {
     "data": {
      "text/plain": [
       "[(('--s--', 'IN'), 5050), (('IN', 'DT'), 32364), (('DT', 'NNP'), 9044)]"
      ]
     },
     "execution_count": 15,
     "metadata": {},
     "output_type": "execute_result"
    }
   ],
   "source": [
    "list(transition_counts.items())[:3]"
   ]
  },
  {
   "cell_type": "code",
   "execution_count": 16,
   "id": "fbaf2bc1",
   "metadata": {
    "execution": {
     "iopub.execute_input": "2025-05-21T12:17:49.432211Z",
     "iopub.status.busy": "2025-05-21T12:17:49.431608Z",
     "iopub.status.idle": "2025-05-21T12:17:49.443164Z",
     "shell.execute_reply": "2025-05-21T12:17:49.442455Z"
    },
    "papermill": {
     "duration": 0.019978,
     "end_time": "2025-05-21T12:17:49.444517",
     "exception": false,
     "start_time": "2025-05-21T12:17:49.424539",
     "status": "completed"
    },
    "tags": []
   },
   "outputs": [
    {
     "data": {
      "text/plain": [
       "[(('IN', 'In'), 1735), (('DT', 'an'), 3142), (('NNP', 'Oct.'), 317)]"
      ]
     },
     "execution_count": 16,
     "metadata": {},
     "output_type": "execute_result"
    }
   ],
   "source": [
    "list(emission_counts.items())[:3]"
   ]
  },
  {
   "cell_type": "code",
   "execution_count": 17,
   "id": "c82e6513",
   "metadata": {
    "execution": {
     "iopub.execute_input": "2025-05-21T12:17:49.458677Z",
     "iopub.status.busy": "2025-05-21T12:17:49.458125Z",
     "iopub.status.idle": "2025-05-21T12:17:49.467915Z",
     "shell.execute_reply": "2025-05-21T12:17:49.467073Z"
    },
    "papermill": {
     "duration": 0.018355,
     "end_time": "2025-05-21T12:17:49.469357",
     "exception": false,
     "start_time": "2025-05-21T12:17:49.451002",
     "status": "completed"
    },
    "tags": []
   },
   "outputs": [
    {
     "name": "stdout",
     "output_type": "stream",
     "text": [
      "('RB', 'back') 304\n",
      "('VB', 'back') 20\n",
      "('RP', 'back') 84\n",
      "('JJ', 'back') 25\n",
      "('NN', 'back') 29\n",
      "('VBP', 'back') 4\n"
     ]
    }
   ],
   "source": [
    "for tup,cnt in emission_counts.items():\n",
    "    if tup[1]=='back': print(tup,cnt)\n"
   ]
  },
  {
   "cell_type": "code",
   "execution_count": 18,
   "id": "4942bd47",
   "metadata": {
    "execution": {
     "iopub.execute_input": "2025-05-21T12:17:49.483853Z",
     "iopub.status.busy": "2025-05-21T12:17:49.483295Z",
     "iopub.status.idle": "2025-05-21T12:17:49.489698Z",
     "shell.execute_reply": "2025-05-21T12:17:49.488950Z"
    },
    "papermill": {
     "duration": 0.015101,
     "end_time": "2025-05-21T12:17:49.491024",
     "exception": false,
     "start_time": "2025-05-21T12:17:49.475923",
     "status": "completed"
    },
    "tags": []
   },
   "outputs": [],
   "source": [
    "def predict_pos(prep, y, emission_counts, vocab, states):\n",
    "    num_crct = 0\n",
    "    total = len(y)\n",
    "\n",
    "    all_words = set(emission_counts.keys())\n",
    "    \n",
    "    for word, y_tup in zip(prep,y):\n",
    "        y_tup_l = y_tup.split()\n",
    "        if len(y_tup_l)==2:\n",
    "            true_label = y_tup_l[1]\n",
    "        else:\n",
    "            continue\n",
    "\n",
    "        count_final = 0\n",
    "        pos_final = ''\n",
    "\n",
    "        if word in vocab:\n",
    "            for pos in states:\n",
    "                key = (pos,word)\n",
    "\n",
    "                if key in emission_counts:\n",
    "                    count = emission_counts[key]\n",
    "                    if count>count_final:\n",
    "                        count_final = count\n",
    "                        pos_final = pos\n",
    "\n",
    "            if pos_final == true_label:\n",
    "                num_crct+=1\n",
    "\n",
    "    accuracy = num_crct/total\n",
    "    return accuracy"
   ]
  },
  {
   "cell_type": "code",
   "execution_count": 19,
   "id": "89fe497e",
   "metadata": {
    "execution": {
     "iopub.execute_input": "2025-05-21T12:17:49.504912Z",
     "iopub.status.busy": "2025-05-21T12:17:49.504629Z",
     "iopub.status.idle": "2025-05-21T12:17:49.707809Z",
     "shell.execute_reply": "2025-05-21T12:17:49.707054Z"
    },
    "papermill": {
     "duration": 0.211803,
     "end_time": "2025-05-21T12:17:49.709303",
     "exception": false,
     "start_time": "2025-05-21T12:17:49.497500",
     "status": "completed"
    },
    "tags": []
   },
   "outputs": [
    {
     "data": {
      "text/plain": [
       "0.8858446153396298"
      ]
     },
     "execution_count": 19,
     "metadata": {},
     "output_type": "execute_result"
    }
   ],
   "source": [
    "accuracy = predict_pos(prep, y, emission_counts, vocab, states)\n",
    "accuracy"
   ]
  },
  {
   "cell_type": "markdown",
   "id": "60cdd208",
   "metadata": {
    "papermill": {
     "duration": 0.006415,
     "end_time": "2025-05-21T12:17:49.722354",
     "exception": false,
     "start_time": "2025-05-21T12:17:49.715939",
     "status": "completed"
    },
    "tags": []
   },
   "source": [
    "**Hidden Markov Models for POS**"
   ]
  },
  {
   "cell_type": "code",
   "execution_count": 20,
   "id": "257bf5f9",
   "metadata": {
    "execution": {
     "iopub.execute_input": "2025-05-21T12:17:49.736413Z",
     "iopub.status.busy": "2025-05-21T12:17:49.736068Z",
     "iopub.status.idle": "2025-05-21T12:17:49.742013Z",
     "shell.execute_reply": "2025-05-21T12:17:49.741116Z"
    },
    "papermill": {
     "duration": 0.014815,
     "end_time": "2025-05-21T12:17:49.743587",
     "exception": false,
     "start_time": "2025-05-21T12:17:49.728772",
     "status": "completed"
    },
    "tags": []
   },
   "outputs": [],
   "source": [
    "def create_trans_mat(transition_counts, tag_counts, alpha):\n",
    "    all_tags = sorted(tag_counts.keys())\n",
    "    num_tags = len(all_tags)\n",
    "\n",
    "    A = np.zeros((num_tags,num_tags))\n",
    "\n",
    "    for i in range(num_tags):\n",
    "        for j in range(num_tags):\n",
    "            a = all_tags[i]\n",
    "            b = all_tags[j]\n",
    "            count = transition_counts.get((a,b),0)\n",
    "            count_p = tag_counts[a]\n",
    "            A[i][j] = (count+alpha)/(count_p+alpha*num_tags)\n",
    "    return A\n",
    "    "
   ]
  },
  {
   "cell_type": "code",
   "execution_count": 21,
   "id": "2248cdad",
   "metadata": {
    "execution": {
     "iopub.execute_input": "2025-05-21T12:17:49.757895Z",
     "iopub.status.busy": "2025-05-21T12:17:49.757615Z",
     "iopub.status.idle": "2025-05-21T12:17:49.763659Z",
     "shell.execute_reply": "2025-05-21T12:17:49.762841Z"
    },
    "papermill": {
     "duration": 0.014846,
     "end_time": "2025-05-21T12:17:49.765051",
     "exception": false,
     "start_time": "2025-05-21T12:17:49.750205",
     "status": "completed"
    },
    "tags": []
   },
   "outputs": [],
   "source": [
    "A = create_trans_mat(transition_counts, tag_counts, 0.001)"
   ]
  },
  {
   "cell_type": "code",
   "execution_count": 22,
   "id": "3204db98",
   "metadata": {
    "execution": {
     "iopub.execute_input": "2025-05-21T12:17:49.779736Z",
     "iopub.status.busy": "2025-05-21T12:17:49.778983Z",
     "iopub.status.idle": "2025-05-21T12:17:49.784598Z",
     "shell.execute_reply": "2025-05-21T12:17:49.783856Z"
    },
    "papermill": {
     "duration": 0.014234,
     "end_time": "2025-05-21T12:17:49.785902",
     "exception": false,
     "start_time": "2025-05-21T12:17:49.771668",
     "status": "completed"
    },
    "tags": []
   },
   "outputs": [
    {
     "data": {
      "text/plain": [
       "0.16910191896905374"
      ]
     },
     "execution_count": 22,
     "metadata": {},
     "output_type": "execute_result"
    }
   ],
   "source": [
    "A[3][1]"
   ]
  },
  {
   "cell_type": "code",
   "execution_count": 23,
   "id": "6c38f0f8",
   "metadata": {
    "execution": {
     "iopub.execute_input": "2025-05-21T12:17:49.800189Z",
     "iopub.status.busy": "2025-05-21T12:17:49.799875Z",
     "iopub.status.idle": "2025-05-21T12:17:49.832101Z",
     "shell.execute_reply": "2025-05-21T12:17:49.831183Z"
    },
    "papermill": {
     "duration": 0.041127,
     "end_time": "2025-05-21T12:17:49.833652",
     "exception": false,
     "start_time": "2025-05-21T12:17:49.792525",
     "status": "completed"
    },
    "tags": []
   },
   "outputs": [
    {
     "data": {
      "text/html": [
       "<div>\n",
       "<style scoped>\n",
       "    .dataframe tbody tr th:only-of-type {\n",
       "        vertical-align: middle;\n",
       "    }\n",
       "\n",
       "    .dataframe tbody tr th {\n",
       "        vertical-align: top;\n",
       "    }\n",
       "\n",
       "    .dataframe thead th {\n",
       "        text-align: right;\n",
       "    }\n",
       "</style>\n",
       "<table border=\"1\" class=\"dataframe\">\n",
       "  <thead>\n",
       "    <tr style=\"text-align: right;\">\n",
       "      <th></th>\n",
       "      <th>RBS</th>\n",
       "      <th>RP</th>\n",
       "      <th>SYM</th>\n",
       "      <th>TO</th>\n",
       "      <th>UH</th>\n",
       "    </tr>\n",
       "  </thead>\n",
       "  <tbody>\n",
       "    <tr>\n",
       "      <th>RBS</th>\n",
       "      <td>2.217069e-06</td>\n",
       "      <td>2.217069e-06</td>\n",
       "      <td>2.217069e-06</td>\n",
       "      <td>0.008870</td>\n",
       "      <td>2.217069e-06</td>\n",
       "    </tr>\n",
       "    <tr>\n",
       "      <th>RP</th>\n",
       "      <td>3.756509e-07</td>\n",
       "      <td>7.516775e-04</td>\n",
       "      <td>3.756509e-07</td>\n",
       "      <td>0.051089</td>\n",
       "      <td>3.756509e-07</td>\n",
       "    </tr>\n",
       "    <tr>\n",
       "      <th>SYM</th>\n",
       "      <td>1.722772e-05</td>\n",
       "      <td>1.722772e-05</td>\n",
       "      <td>1.722772e-05</td>\n",
       "      <td>0.000017</td>\n",
       "      <td>1.722772e-05</td>\n",
       "    </tr>\n",
       "    <tr>\n",
       "      <th>TO</th>\n",
       "      <td>4.477336e-05</td>\n",
       "      <td>4.472863e-08</td>\n",
       "      <td>4.472863e-08</td>\n",
       "      <td>0.000090</td>\n",
       "      <td>4.477336e-05</td>\n",
       "    </tr>\n",
       "    <tr>\n",
       "      <th>UH</th>\n",
       "      <td>1.030439e-05</td>\n",
       "      <td>1.030439e-05</td>\n",
       "      <td>1.030439e-05</td>\n",
       "      <td>0.061837</td>\n",
       "      <td>3.092348e-02</td>\n",
       "    </tr>\n",
       "  </tbody>\n",
       "</table>\n",
       "</div>"
      ],
      "text/plain": [
       "              RBS            RP           SYM        TO            UH\n",
       "RBS  2.217069e-06  2.217069e-06  2.217069e-06  0.008870  2.217069e-06\n",
       "RP   3.756509e-07  7.516775e-04  3.756509e-07  0.051089  3.756509e-07\n",
       "SYM  1.722772e-05  1.722772e-05  1.722772e-05  0.000017  1.722772e-05\n",
       "TO   4.477336e-05  4.472863e-08  4.472863e-08  0.000090  4.477336e-05\n",
       "UH   1.030439e-05  1.030439e-05  1.030439e-05  0.061837  3.092348e-02"
      ]
     },
     "execution_count": 23,
     "metadata": {},
     "output_type": "execute_result"
    }
   ],
   "source": [
    "A_sub = pd.DataFrame(A[30:35,30:35], index=states[30:35], columns=states[30:35])\n",
    "A_sub"
   ]
  },
  {
   "cell_type": "code",
   "execution_count": null,
   "id": "eb84f05a",
   "metadata": {
    "papermill": {
     "duration": 0.006374,
     "end_time": "2025-05-21T12:17:49.846993",
     "exception": false,
     "start_time": "2025-05-21T12:17:49.840619",
     "status": "completed"
    },
    "tags": []
   },
   "outputs": [],
   "source": []
  }
 ],
 "metadata": {
  "kaggle": {
   "accelerator": "none",
   "dataSources": [
    {
     "datasetId": 7428875,
     "sourceId": 11825962,
     "sourceType": "datasetVersion"
    }
   ],
   "dockerImageVersionId": 31040,
   "isGpuEnabled": false,
   "isInternetEnabled": false,
   "language": "python",
   "sourceType": "notebook"
  },
  "kernelspec": {
   "display_name": "Python 3",
   "language": "python",
   "name": "python3"
  },
  "language_info": {
   "codemirror_mode": {
    "name": "ipython",
    "version": 3
   },
   "file_extension": ".py",
   "mimetype": "text/x-python",
   "name": "python",
   "nbconvert_exporter": "python",
   "pygments_lexer": "ipython3",
   "version": "3.11.11"
  },
  "papermill": {
   "default_parameters": {},
   "duration": 10.516131,
   "end_time": "2025-05-21T12:17:50.271478",
   "environment_variables": {},
   "exception": null,
   "input_path": "__notebook__.ipynb",
   "output_path": "__notebook__.ipynb",
   "parameters": {},
   "start_time": "2025-05-21T12:17:39.755347",
   "version": "2.6.0"
  }
 },
 "nbformat": 4,
 "nbformat_minor": 5
}
