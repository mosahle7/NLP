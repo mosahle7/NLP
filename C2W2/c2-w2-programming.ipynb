{
 "cells": [
  {
   "cell_type": "code",
   "execution_count": 1,
   "id": "de6ba749",
   "metadata": {
    "_cell_guid": "b1076dfc-b9ad-4769-8c92-a6c4dae69d19",
    "_uuid": "8f2839f25d086af736a60e9eeb907d3b93b6e0e5",
    "execution": {
     "iopub.execute_input": "2025-05-18T14:43:55.429477Z",
     "iopub.status.busy": "2025-05-18T14:43:55.429070Z",
     "iopub.status.idle": "2025-05-18T14:43:57.325961Z",
     "shell.execute_reply": "2025-05-18T14:43:57.324556Z"
    },
    "papermill": {
     "duration": 1.904482,
     "end_time": "2025-05-18T14:43:57.328564",
     "exception": false,
     "start_time": "2025-05-18T14:43:55.424082",
     "status": "completed"
    },
    "tags": []
   },
   "outputs": [
    {
     "name": "stdout",
     "output_type": "stream",
     "text": [
      "/kaggle/input/wall-street-journal-2/WSJ_24.pos\n",
      "/kaggle/input/wall-street-journal-2/test.words\n",
      "/kaggle/input/wall-street-journal-2/hmm_vocab.txt\n",
      "/kaggle/input/wall-street-journal-2/WSJ_02-21.pos\n"
     ]
    }
   ],
   "source": [
    "# This Python 3 environment comes with many helpful analytics libraries installed\n",
    "# It is defined by the kaggle/python Docker image: https://github.com/kaggle/docker-python\n",
    "# For example, here's several helpful packages to load\n",
    "\n",
    "import numpy as np # linear algebra\n",
    "import pandas as pd # data processing, CSV file I/O (e.g. pd.read_csv)\n",
    "\n",
    "# Input data files are available in the read-only \"../input/\" directory\n",
    "# For example, running this (by clicking run or pressing Shift+Enter) will list all files under the input directory\n",
    "\n",
    "import os\n",
    "for dirname, _, filenames in os.walk('/kaggle/input'):\n",
    "    for filename in filenames:\n",
    "        print(os.path.join(dirname, filename))\n",
    "\n",
    "# You can write up to 20GB to the current directory (/kaggle/working/) that gets preserved as output when you create a version using \"Save & Run All\" \n",
    "# You can also write temporary files to /kaggle/temp/, but they won't be saved outside of the current session"
   ]
  },
  {
   "cell_type": "code",
   "execution_count": 2,
   "id": "3626192a",
   "metadata": {
    "execution": {
     "iopub.execute_input": "2025-05-18T14:43:57.338756Z",
     "iopub.status.busy": "2025-05-18T14:43:57.338059Z",
     "iopub.status.idle": "2025-05-18T14:43:57.610570Z",
     "shell.execute_reply": "2025-05-18T14:43:57.609585Z"
    },
    "papermill": {
     "duration": 0.278372,
     "end_time": "2025-05-18T14:43:57.612107",
     "exception": false,
     "start_time": "2025-05-18T14:43:57.333735",
     "status": "completed"
    },
    "tags": []
   },
   "outputs": [
    {
     "data": {
      "text/plain": [
       "['In\\tIN\\n', 'an\\tDT\\n', 'Oct.\\tNNP\\n', '19\\tCD\\n', 'review\\tNN\\n']"
      ]
     },
     "execution_count": 2,
     "metadata": {},
     "output_type": "execute_result"
    }
   ],
   "source": [
    "with open(\"/kaggle/input/wall-street-journal-2/WSJ_02-21.pos\") as f:\n",
    "    train_corpus = f.readlines()\n",
    "\n",
    "train_corpus[:5]"
   ]
  },
  {
   "cell_type": "code",
   "execution_count": 3,
   "id": "1b520a1e",
   "metadata": {
    "execution": {
     "iopub.execute_input": "2025-05-18T14:43:57.618294Z",
     "iopub.status.busy": "2025-05-18T14:43:57.617628Z",
     "iopub.status.idle": "2025-05-18T14:43:57.633340Z",
     "shell.execute_reply": "2025-05-18T14:43:57.632396Z"
    },
    "papermill": {
     "duration": 0.020029,
     "end_time": "2025-05-18T14:43:57.634575",
     "exception": false,
     "start_time": "2025-05-18T14:43:57.614546",
     "status": "completed"
    },
    "tags": []
   },
   "outputs": [
    {
     "name": "stdout",
     "output_type": "stream",
     "text": [
      "['!', '#', '$', '%', '&', \"'\", \"''\", \"'40s\", \"'60s\", \"'70s\", \"'80s\", \"'86\", \"'90s\", \"'N\", \"'S\", \"'d\", \"'em\", \"'ll\", \"'m\", \"'n'\", \"'re\", \"'s\", \"'til\", \"'ve\", '(', ')', ',', '-', '--', '--n--', '--unk--', '--unk_adj--', '--unk_adv--', '--unk_digit--', '--unk_noun--', '--unk_punct--', '--unk_upper--', '--unk_verb--', '.', '...', '0.01', '0.0108', '0.02', '0.03', '0.05', '0.1', '0.10', '0.12', '0.13', '0.15'] \n",
      "\n",
      "['yards', 'yardstick', 'year', 'year-ago', 'year-before', 'year-earlier', 'year-end', 'year-on-year', 'year-round', 'year-to-date', 'year-to-year', 'yearlong', 'yearly', 'years', 'yeast', 'yelled', 'yelling', 'yellow', 'yen', 'yes', 'yesterday', 'yet', 'yield', 'yielded', 'yielding', 'yields', 'you', 'young', 'younger', 'youngest', 'youngsters', 'your', 'yourself', 'youth', 'youthful', 'yuppie', 'yuppies', 'zero', 'zero-coupon', 'zeroing', 'zeros', 'zinc', 'zip', 'zombie', 'zone', 'zones', 'zoning', '{', '}', '']\n"
     ]
    }
   ],
   "source": [
    "with open(\"/kaggle/input/wall-street-journal-2/hmm_vocab.txt\", 'r') as f:\n",
    "    voc = f.read().split('\\n')\n",
    "\n",
    "print(voc[:50],'\\n')\n",
    "print(voc[-50:])"
   ]
  },
  {
   "cell_type": "code",
   "execution_count": 4,
   "id": "28143081",
   "metadata": {
    "execution": {
     "iopub.execute_input": "2025-05-18T14:43:57.640542Z",
     "iopub.status.busy": "2025-05-18T14:43:57.640249Z",
     "iopub.status.idle": "2025-05-18T14:43:57.653394Z",
     "shell.execute_reply": "2025-05-18T14:43:57.652303Z"
    },
    "papermill": {
     "duration": 0.017577,
     "end_time": "2025-05-18T14:43:57.654713",
     "exception": false,
     "start_time": "2025-05-18T14:43:57.637136",
     "status": "completed"
    },
    "tags": []
   },
   "outputs": [
    {
     "name": "stdout",
     "output_type": "stream",
     "text": [
      ":0\n",
      "!:1\n",
      "#:2\n",
      "$:3\n",
      "%:4\n",
      "&:5\n",
      "':6\n",
      "'':7\n",
      "'40s:8\n",
      "'60s:9\n",
      "'70s:10\n",
      "'80s:11\n",
      "'86:12\n",
      "'90s:13\n",
      "'N:14\n",
      "'S:15\n",
      "'d:16\n",
      "'em:17\n",
      "'ll:18\n",
      "'m:19\n",
      "'n':20\n"
     ]
    }
   ],
   "source": [
    "voc.sort()\n",
    "vocab={}\n",
    "\n",
    "for i,word in enumerate(voc):\n",
    "    vocab[word] = i\n",
    "\n",
    "cnt = 0\n",
    "for k,v in vocab.items():\n",
    "    print(f\"{k}:{v}\")\n",
    "    cnt += 1\n",
    "    if cnt>20: break"
   ]
  },
  {
   "cell_type": "code",
   "execution_count": 5,
   "id": "ff311186",
   "metadata": {
    "execution": {
     "iopub.execute_input": "2025-05-18T14:43:57.660899Z",
     "iopub.status.busy": "2025-05-18T14:43:57.660563Z",
     "iopub.status.idle": "2025-05-18T14:43:57.690665Z",
     "shell.execute_reply": "2025-05-18T14:43:57.689811Z"
    },
    "papermill": {
     "duration": 0.034869,
     "end_time": "2025-05-18T14:43:57.692292",
     "exception": false,
     "start_time": "2025-05-18T14:43:57.657423",
     "status": "completed"
    },
    "tags": []
   },
   "outputs": [
    {
     "data": {
      "text/plain": [
       "['The\\tDT\\n',\n",
       " 'economy\\tNN\\n',\n",
       " \"'s\\tPOS\\n\",\n",
       " 'temperature\\tNN\\n',\n",
       " 'will\\tMD\\n',\n",
       " 'be\\tVB\\n',\n",
       " 'taken\\tVBN\\n',\n",
       " 'from\\tIN\\n',\n",
       " 'several\\tJJ\\n',\n",
       " 'vantage\\tNN\\n']"
      ]
     },
     "execution_count": 5,
     "metadata": {},
     "output_type": "execute_result"
    }
   ],
   "source": [
    "with open(\"/kaggle/input/wall-street-journal-2/WSJ_24.pos\",'r') as f:\n",
    "    y = f.readlines()\n",
    "\n",
    "y[:10]"
   ]
  },
  {
   "cell_type": "code",
   "execution_count": 6,
   "id": "496628e0",
   "metadata": {
    "execution": {
     "iopub.execute_input": "2025-05-18T14:43:57.698616Z",
     "iopub.status.busy": "2025-05-18T14:43:57.698356Z",
     "iopub.status.idle": "2025-05-18T14:43:57.705707Z",
     "shell.execute_reply": "2025-05-18T14:43:57.704824Z"
    },
    "papermill": {
     "duration": 0.012212,
     "end_time": "2025-05-18T14:43:57.707185",
     "exception": false,
     "start_time": "2025-05-18T14:43:57.694973",
     "status": "completed"
    },
    "tags": []
   },
   "outputs": [],
   "source": [
    "def assign_unk(word):\n",
    "    punct = string.punctuation\n",
    "    noun_suffs = [\"action\", \"age\", \"ance\", \"cy\", \"dom\", \"ee\", \"ence\", \"er\", \"hood\", \"ion\", \"ism\", \"ist\", \"ity\", \"ling\", \"ment\", \"ness\", \"or\", \"ry\", \"scape\", \"ship\", \"ty\"]\n",
    "    verb_suffs = [\"ate\", \"ify\", \"ise\", \"ize\"]\n",
    "    adj_suffs = [\"able\", \"ese\", \"ful\", \"i\", \"ian\", \"ible\", \"ic\", \"ish\", \"ive\", \"less\", \"ly\", \"ous\"]\n",
    "    adv_suffs = [\"ward\", \"wards\", \"wise\"]\n",
    "    \n",
    "    if any(char.isdigit() for char in word):\n",
    "        return \"--unk_digit--\"\n",
    "\n",
    "    elif any(char in punct for char in word):\n",
    "        return \"--unk_punct--\"\n",
    "\n",
    "    elif any(char.isupper() for char in word):\n",
    "        return \"--unk_upper--\"\n",
    "\n",
    "    elif any(word.endswith(suff) for suff in noun_suffs):\n",
    "        return \"--unk_noun--\"\n",
    "\n",
    "    elif any(word.endswith(suff) for suff in verb_suffs):\n",
    "        return \"--unk_verb\"\n",
    "\n",
    "    elif any(word.endswith(suff) for suff in adj_suffs):\n",
    "        return \"--unk_adj--\"\n",
    "\n",
    "    elif any(word.endswith(suff) for suff in adv_suffs):\n",
    "        return \"--unk_adv--\"\n",
    "\n",
    "    return \"unk--\"\n",
    "    "
   ]
  },
  {
   "cell_type": "code",
   "execution_count": 7,
   "id": "447c700e",
   "metadata": {
    "execution": {
     "iopub.execute_input": "2025-05-18T14:43:57.713442Z",
     "iopub.status.busy": "2025-05-18T14:43:57.713198Z",
     "iopub.status.idle": "2025-05-18T14:43:57.719447Z",
     "shell.execute_reply": "2025-05-18T14:43:57.718569Z"
    },
    "papermill": {
     "duration": 0.011295,
     "end_time": "2025-05-18T14:43:57.721255",
     "exception": false,
     "start_time": "2025-05-18T14:43:57.709960",
     "status": "completed"
    },
    "tags": []
   },
   "outputs": [],
   "source": [
    "def preprocess(vocab,data):\n",
    "    orig = []\n",
    "    prep = []\n",
    "\n",
    "    with open(data, 'r') as f:\n",
    "        for word in f:\n",
    "            if not word.split():\n",
    "                orig.append(word.strip())\n",
    "                word = \"--n--\"\n",
    "                prep.append(word)\n",
    "                continue\n",
    "\n",
    "            elif word not in vocab:\n",
    "                orig.append(word.strip())\n",
    "                word = assign_unk(word)\n",
    "                prep.append(word)\n",
    "                continue\n",
    "\n",
    "            else:\n",
    "                orig.append(word.strip())\n",
    "                prep.append(word.strip())\n",
    "\n",
    "    assert(len(orig) == len(open(data, \"r\").readlines()))\n",
    "    assert(len(prep) == len(open(data, \"r\").readlines()))\n",
    "\n",
    "    return orig, prep"
   ]
  },
  {
   "cell_type": "code",
   "execution_count": null,
   "id": "3a92e276",
   "metadata": {
    "papermill": {
     "duration": 0.002647,
     "end_time": "2025-05-18T14:43:57.726796",
     "exception": false,
     "start_time": "2025-05-18T14:43:57.724149",
     "status": "completed"
    },
    "tags": []
   },
   "outputs": [],
   "source": []
  }
 ],
 "metadata": {
  "kaggle": {
   "accelerator": "none",
   "dataSources": [
    {
     "datasetId": 7428875,
     "sourceId": 11825962,
     "sourceType": "datasetVersion"
    }
   ],
   "dockerImageVersionId": 31040,
   "isGpuEnabled": false,
   "isInternetEnabled": false,
   "language": "python",
   "sourceType": "notebook"
  },
  "kernelspec": {
   "display_name": "Python 3",
   "language": "python",
   "name": "python3"
  },
  "language_info": {
   "codemirror_mode": {
    "name": "ipython",
    "version": 3
   },
   "file_extension": ".py",
   "mimetype": "text/x-python",
   "name": "python",
   "nbconvert_exporter": "python",
   "pygments_lexer": "ipython3",
   "version": "3.11.11"
  },
  "papermill": {
   "default_parameters": {},
   "duration": 8.034695,
   "end_time": "2025-05-18T14:43:58.350172",
   "environment_variables": {},
   "exception": null,
   "input_path": "__notebook__.ipynb",
   "output_path": "__notebook__.ipynb",
   "parameters": {},
   "start_time": "2025-05-18T14:43:50.315477",
   "version": "2.6.0"
  }
 },
 "nbformat": 4,
 "nbformat_minor": 5
}
