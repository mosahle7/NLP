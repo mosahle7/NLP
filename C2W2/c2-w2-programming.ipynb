{
 "cells": [
  {
   "cell_type": "code",
   "execution_count": 1,
   "id": "06733021",
   "metadata": {
    "_cell_guid": "b1076dfc-b9ad-4769-8c92-a6c4dae69d19",
    "_uuid": "8f2839f25d086af736a60e9eeb907d3b93b6e0e5",
    "execution": {
     "iopub.execute_input": "2025-05-18T15:48:04.132733Z",
     "iopub.status.busy": "2025-05-18T15:48:04.132303Z",
     "iopub.status.idle": "2025-05-18T15:48:06.637283Z",
     "shell.execute_reply": "2025-05-18T15:48:06.636290Z"
    },
    "papermill": {
     "duration": 2.512979,
     "end_time": "2025-05-18T15:48:06.639813",
     "exception": false,
     "start_time": "2025-05-18T15:48:04.126834",
     "status": "completed"
    },
    "tags": []
   },
   "outputs": [
    {
     "name": "stdout",
     "output_type": "stream",
     "text": [
      "/kaggle/input/wall-street-journal-2/WSJ_24.pos\n",
      "/kaggle/input/wall-street-journal-2/test.words\n",
      "/kaggle/input/wall-street-journal-2/hmm_vocab.txt\n",
      "/kaggle/input/wall-street-journal-2/WSJ_02-21.pos\n"
     ]
    }
   ],
   "source": [
    "# This Python 3 environment comes with many helpful analytics libraries installed\n",
    "# It is defined by the kaggle/python Docker image: https://github.com/kaggle/docker-python\n",
    "# For example, here's several helpful packages to load\n",
    "\n",
    "import numpy as np # linear algebra\n",
    "import pandas as pd # data processing, CSV file I/O (e.g. pd.read_csv)\n",
    "\n",
    "# Input data files are available in the read-only \"../input/\" directory\n",
    "# For example, running this (by clicking run or pressing Shift+Enter) will list all files under the input directory\n",
    "\n",
    "import os\n",
    "for dirname, _, filenames in os.walk('/kaggle/input'):\n",
    "    for filename in filenames:\n",
    "        print(os.path.join(dirname, filename))\n",
    "\n",
    "# You can write up to 20GB to the current directory (/kaggle/working/) that gets preserved as output when you create a version using \"Save & Run All\" \n",
    "# You can also write temporary files to /kaggle/temp/, but they won't be saved outside of the current session"
   ]
  },
  {
   "cell_type": "code",
   "execution_count": 2,
   "id": "0f4303eb",
   "metadata": {
    "execution": {
     "iopub.execute_input": "2025-05-18T15:48:06.648392Z",
     "iopub.status.busy": "2025-05-18T15:48:06.647730Z",
     "iopub.status.idle": "2025-05-18T15:48:06.653838Z",
     "shell.execute_reply": "2025-05-18T15:48:06.652540Z"
    },
    "papermill": {
     "duration": 0.01235,
     "end_time": "2025-05-18T15:48:06.655824",
     "exception": false,
     "start_time": "2025-05-18T15:48:06.643474",
     "status": "completed"
    },
    "tags": []
   },
   "outputs": [],
   "source": [
    "import string\n",
    "from collections import defaultdict"
   ]
  },
  {
   "cell_type": "code",
   "execution_count": 3,
   "id": "e68df4fa",
   "metadata": {
    "execution": {
     "iopub.execute_input": "2025-05-18T15:48:06.663961Z",
     "iopub.status.busy": "2025-05-18T15:48:06.663644Z",
     "iopub.status.idle": "2025-05-18T15:48:06.882045Z",
     "shell.execute_reply": "2025-05-18T15:48:06.881017Z"
    },
    "papermill": {
     "duration": 0.224656,
     "end_time": "2025-05-18T15:48:06.883777",
     "exception": false,
     "start_time": "2025-05-18T15:48:06.659121",
     "status": "completed"
    },
    "tags": []
   },
   "outputs": [
    {
     "data": {
      "text/plain": [
       "['In\\tIN\\n', 'an\\tDT\\n', 'Oct.\\tNNP\\n', '19\\tCD\\n', 'review\\tNN\\n']"
      ]
     },
     "execution_count": 3,
     "metadata": {},
     "output_type": "execute_result"
    }
   ],
   "source": [
    "with open(\"/kaggle/input/wall-street-journal-2/WSJ_02-21.pos\") as f:\n",
    "    train_corpus = f.readlines()\n",
    "\n",
    "train_corpus[:5]"
   ]
  },
  {
   "cell_type": "code",
   "execution_count": 4,
   "id": "526f7ffd",
   "metadata": {
    "execution": {
     "iopub.execute_input": "2025-05-18T15:48:06.892267Z",
     "iopub.status.busy": "2025-05-18T15:48:06.891952Z",
     "iopub.status.idle": "2025-05-18T15:48:06.907683Z",
     "shell.execute_reply": "2025-05-18T15:48:06.906290Z"
    },
    "papermill": {
     "duration": 0.022127,
     "end_time": "2025-05-18T15:48:06.909413",
     "exception": false,
     "start_time": "2025-05-18T15:48:06.887286",
     "status": "completed"
    },
    "tags": []
   },
   "outputs": [
    {
     "name": "stdout",
     "output_type": "stream",
     "text": [
      "['!', '#', '$', '%', '&', \"'\", \"''\", \"'40s\", \"'60s\", \"'70s\", \"'80s\", \"'86\", \"'90s\", \"'N\", \"'S\", \"'d\", \"'em\", \"'ll\", \"'m\", \"'n'\", \"'re\", \"'s\", \"'til\", \"'ve\", '(', ')', ',', '-', '--', '--n--', '--unk--', '--unk_adj--', '--unk_adv--', '--unk_digit--', '--unk_noun--', '--unk_punct--', '--unk_upper--', '--unk_verb--', '.', '...', '0.01', '0.0108', '0.02', '0.03', '0.05', '0.1', '0.10', '0.12', '0.13', '0.15'] \n",
      "\n",
      "['yards', 'yardstick', 'year', 'year-ago', 'year-before', 'year-earlier', 'year-end', 'year-on-year', 'year-round', 'year-to-date', 'year-to-year', 'yearlong', 'yearly', 'years', 'yeast', 'yelled', 'yelling', 'yellow', 'yen', 'yes', 'yesterday', 'yet', 'yield', 'yielded', 'yielding', 'yields', 'you', 'young', 'younger', 'youngest', 'youngsters', 'your', 'yourself', 'youth', 'youthful', 'yuppie', 'yuppies', 'zero', 'zero-coupon', 'zeroing', 'zeros', 'zinc', 'zip', 'zombie', 'zone', 'zones', 'zoning', '{', '}', '']\n"
     ]
    }
   ],
   "source": [
    "with open(\"/kaggle/input/wall-street-journal-2/hmm_vocab.txt\", 'r') as f:\n",
    "    voc = f.read().split('\\n')\n",
    "\n",
    "print(voc[:50],'\\n')\n",
    "print(voc[-50:])"
   ]
  },
  {
   "cell_type": "code",
   "execution_count": 5,
   "id": "22a2c971",
   "metadata": {
    "execution": {
     "iopub.execute_input": "2025-05-18T15:48:06.917361Z",
     "iopub.status.busy": "2025-05-18T15:48:06.917017Z",
     "iopub.status.idle": "2025-05-18T15:48:06.933180Z",
     "shell.execute_reply": "2025-05-18T15:48:06.932055Z"
    },
    "papermill": {
     "duration": 0.021907,
     "end_time": "2025-05-18T15:48:06.934657",
     "exception": false,
     "start_time": "2025-05-18T15:48:06.912750",
     "status": "completed"
    },
    "tags": []
   },
   "outputs": [
    {
     "name": "stdout",
     "output_type": "stream",
     "text": [
      ":0\n",
      "!:1\n",
      "#:2\n",
      "$:3\n",
      "%:4\n",
      "&:5\n",
      "':6\n",
      "'':7\n",
      "'40s:8\n",
      "'60s:9\n",
      "'70s:10\n",
      "'80s:11\n",
      "'86:12\n",
      "'90s:13\n",
      "'N:14\n",
      "'S:15\n",
      "'d:16\n",
      "'em:17\n",
      "'ll:18\n",
      "'m:19\n",
      "'n':20\n"
     ]
    }
   ],
   "source": [
    "voc.sort()\n",
    "vocab={}\n",
    "\n",
    "for i,word in enumerate(voc):\n",
    "    vocab[word] = i\n",
    "\n",
    "cnt = 0\n",
    "for k,v in vocab.items():\n",
    "    print(f\"{k}:{v}\")\n",
    "    cnt += 1\n",
    "    if cnt>20: break"
   ]
  },
  {
   "cell_type": "code",
   "execution_count": 6,
   "id": "3425bf88",
   "metadata": {
    "execution": {
     "iopub.execute_input": "2025-05-18T15:48:06.942446Z",
     "iopub.status.busy": "2025-05-18T15:48:06.942129Z",
     "iopub.status.idle": "2025-05-18T15:48:06.960502Z",
     "shell.execute_reply": "2025-05-18T15:48:06.959293Z"
    },
    "papermill": {
     "duration": 0.024202,
     "end_time": "2025-05-18T15:48:06.962146",
     "exception": false,
     "start_time": "2025-05-18T15:48:06.937944",
     "status": "completed"
    },
    "tags": []
   },
   "outputs": [
    {
     "data": {
      "text/plain": [
       "['The\\tDT\\n',\n",
       " 'economy\\tNN\\n',\n",
       " \"'s\\tPOS\\n\",\n",
       " 'temperature\\tNN\\n',\n",
       " 'will\\tMD\\n',\n",
       " 'be\\tVB\\n',\n",
       " 'taken\\tVBN\\n',\n",
       " 'from\\tIN\\n',\n",
       " 'several\\tJJ\\n',\n",
       " 'vantage\\tNN\\n']"
      ]
     },
     "execution_count": 6,
     "metadata": {},
     "output_type": "execute_result"
    }
   ],
   "source": [
    "with open(\"/kaggle/input/wall-street-journal-2/WSJ_24.pos\",'r') as f:\n",
    "    y = f.readlines()\n",
    "\n",
    "y[:10]"
   ]
  },
  {
   "cell_type": "code",
   "execution_count": 7,
   "id": "448d8c66",
   "metadata": {
    "execution": {
     "iopub.execute_input": "2025-05-18T15:48:06.970804Z",
     "iopub.status.busy": "2025-05-18T15:48:06.970486Z",
     "iopub.status.idle": "2025-05-18T15:48:06.978882Z",
     "shell.execute_reply": "2025-05-18T15:48:06.977735Z"
    },
    "papermill": {
     "duration": 0.014962,
     "end_time": "2025-05-18T15:48:06.980667",
     "exception": false,
     "start_time": "2025-05-18T15:48:06.965705",
     "status": "completed"
    },
    "tags": []
   },
   "outputs": [],
   "source": [
    "def assign_unk(word):\n",
    "    punct = string.punctuation\n",
    "    noun_suffs = [\"action\", \"age\", \"ance\", \"cy\", \"dom\", \"ee\", \"ence\", \"er\", \"hood\", \"ion\", \"ism\", \"ist\", \"ity\", \"ling\", \"ment\", \"ness\", \"or\", \"ry\", \"scape\", \"ship\", \"ty\"]\n",
    "    verb_suffs = [\"ate\", \"ify\", \"ise\", \"ize\"]\n",
    "    adj_suffs = [\"able\", \"ese\", \"ful\", \"i\", \"ian\", \"ible\", \"ic\", \"ish\", \"ive\", \"less\", \"ly\", \"ous\"]\n",
    "    adv_suffs = [\"ward\", \"wards\", \"wise\"]\n",
    "    \n",
    "    if any(char.isdigit() for char in word):\n",
    "        return \"--unk_digit--\"\n",
    "\n",
    "    elif any(char in punct for char in word):\n",
    "        return \"--unk_punct--\"\n",
    "\n",
    "    elif any(char.isupper() for char in word):\n",
    "        return \"--unk_upper--\"\n",
    "\n",
    "    elif any(word.endswith(suff) for suff in noun_suffs):\n",
    "        return \"--unk_noun--\"\n",
    "\n",
    "    elif any(word.endswith(suff) for suff in verb_suffs):\n",
    "        return \"--unk_verb\"\n",
    "\n",
    "    elif any(word.endswith(suff) for suff in adj_suffs):\n",
    "        return \"--unk_adj--\"\n",
    "\n",
    "    elif any(word.endswith(suff) for suff in adv_suffs):\n",
    "        return \"--unk_adv--\"\n",
    "\n",
    "    return \"unk--\"\n",
    "    "
   ]
  },
  {
   "cell_type": "code",
   "execution_count": 8,
   "id": "b9f8e2b9",
   "metadata": {
    "execution": {
     "iopub.execute_input": "2025-05-18T15:48:06.989221Z",
     "iopub.status.busy": "2025-05-18T15:48:06.988685Z",
     "iopub.status.idle": "2025-05-18T15:48:06.996256Z",
     "shell.execute_reply": "2025-05-18T15:48:06.995073Z"
    },
    "papermill": {
     "duration": 0.013614,
     "end_time": "2025-05-18T15:48:06.998003",
     "exception": false,
     "start_time": "2025-05-18T15:48:06.984389",
     "status": "completed"
    },
    "tags": []
   },
   "outputs": [],
   "source": [
    "def preprocess(vocab,data):\n",
    "    orig = []\n",
    "    prep = []\n",
    "\n",
    "    with open(data, 'r') as f:\n",
    "        for word in f:\n",
    "            if not word.split():\n",
    "                orig.append(word.strip())\n",
    "                word = \"--n--\"\n",
    "                prep.append(word)\n",
    "                continue\n",
    "\n",
    "            elif word.strip() not in vocab:\n",
    "                orig.append(word.strip())\n",
    "                word = assign_unk(word)\n",
    "                prep.append(word)\n",
    "                continue\n",
    "\n",
    "            else:\n",
    "                orig.append(word.strip())\n",
    "                prep.append(word.strip())\n",
    "\n",
    "    assert(len(orig) == len(open(data, \"r\").readlines()))\n",
    "    assert(len(prep) == len(open(data, \"r\").readlines()))\n",
    "\n",
    "    return orig, prep"
   ]
  },
  {
   "cell_type": "code",
   "execution_count": 9,
   "id": "c056ad6e",
   "metadata": {
    "execution": {
     "iopub.execute_input": "2025-05-18T15:48:07.007445Z",
     "iopub.status.busy": "2025-05-18T15:48:07.006156Z",
     "iopub.status.idle": "2025-05-18T15:48:07.062420Z",
     "shell.execute_reply": "2025-05-18T15:48:07.061205Z"
    },
    "papermill": {
     "duration": 0.062353,
     "end_time": "2025-05-18T15:48:07.064235",
     "exception": false,
     "start_time": "2025-05-18T15:48:07.001882",
     "status": "completed"
    },
    "tags": []
   },
   "outputs": [],
   "source": [
    "_, prep = preprocess(vocab,\"/kaggle/input/wall-street-journal-2/test.words\")   "
   ]
  },
  {
   "cell_type": "code",
   "execution_count": 10,
   "id": "14987e1e",
   "metadata": {
    "execution": {
     "iopub.execute_input": "2025-05-18T15:48:07.072243Z",
     "iopub.status.busy": "2025-05-18T15:48:07.071940Z",
     "iopub.status.idle": "2025-05-18T15:48:07.078873Z",
     "shell.execute_reply": "2025-05-18T15:48:07.077913Z"
    },
    "papermill": {
     "duration": 0.012566,
     "end_time": "2025-05-18T15:48:07.080206",
     "exception": false,
     "start_time": "2025-05-18T15:48:07.067640",
     "status": "completed"
    },
    "tags": []
   },
   "outputs": [
    {
     "name": "stdout",
     "output_type": "stream",
     "text": [
      "34199\n"
     ]
    },
    {
     "data": {
      "text/plain": [
       "['The',\n",
       " 'economy',\n",
       " \"'s\",\n",
       " 'temperature',\n",
       " 'will',\n",
       " 'be',\n",
       " 'taken',\n",
       " 'from',\n",
       " 'several',\n",
       " 'unk--']"
      ]
     },
     "execution_count": 10,
     "metadata": {},
     "output_type": "execute_result"
    }
   ],
   "source": [
    "print(len(prep))\n",
    "prep[:10]"
   ]
  },
  {
   "cell_type": "code",
   "execution_count": 11,
   "id": "c00857aa",
   "metadata": {
    "execution": {
     "iopub.execute_input": "2025-05-18T15:48:07.088879Z",
     "iopub.status.busy": "2025-05-18T15:48:07.088564Z",
     "iopub.status.idle": "2025-05-18T15:48:07.094560Z",
     "shell.execute_reply": "2025-05-18T15:48:07.093505Z"
    },
    "papermill": {
     "duration": 0.012464,
     "end_time": "2025-05-18T15:48:07.096217",
     "exception": false,
     "start_time": "2025-05-18T15:48:07.083753",
     "status": "completed"
    },
    "tags": []
   },
   "outputs": [
    {
     "name": "stdout",
     "output_type": "stream",
     "text": [
      ":0\n",
      "!:1\n",
      "#:2\n",
      "$:3\n",
      "%:4\n",
      "&:5\n",
      "':6\n",
      "'':7\n",
      "'40s:8\n",
      "'60s:9\n",
      "'70s:10\n",
      "'80s:11\n",
      "'86:12\n",
      "'90s:13\n",
      "'N:14\n",
      "'S:15\n",
      "'d:16\n",
      "'em:17\n",
      "'ll:18\n",
      "'m:19\n",
      "'n':20\n",
      "'re:21\n",
      "'s:22\n",
      "'til:23\n",
      "'ve:24\n",
      "(:25\n",
      "):26\n",
      ",:27\n",
      "-:28\n",
      "--:29\n",
      "--n--:30\n",
      "--unk--:31\n",
      "--unk_adj--:32\n",
      "--unk_adv--:33\n",
      "--unk_digit--:34\n",
      "--unk_noun--:35\n",
      "--unk_punct--:36\n",
      "--unk_upper--:37\n",
      "--unk_verb--:38\n",
      ".:39\n",
      "...:40\n",
      "0.01:41\n",
      "0.0108:42\n",
      "0.02:43\n",
      "0.03:44\n",
      "0.05:45\n",
      "0.1:46\n",
      "0.10:47\n",
      "0.12:48\n",
      "0.13:49\n"
     ]
    }
   ],
   "source": [
    "# train_corpus[:5]\n",
    "for k,v in vocab.items():\n",
    "    print(f\"{k}:{v}\")\n",
    "    cnt += 1\n",
    "    if cnt>70: break"
   ]
  },
  {
   "cell_type": "markdown",
   "id": "680019b6",
   "metadata": {
    "papermill": {
     "duration": 0.00319,
     "end_time": "2025-05-18T15:48:07.103098",
     "exception": false,
     "start_time": "2025-05-18T15:48:07.099908",
     "status": "completed"
    },
    "tags": []
   },
   "source": [
    "**POS Tagging**"
   ]
  },
  {
   "cell_type": "code",
   "execution_count": 12,
   "id": "30cce7c6",
   "metadata": {
    "execution": {
     "iopub.execute_input": "2025-05-18T15:48:07.111280Z",
     "iopub.status.busy": "2025-05-18T15:48:07.110986Z",
     "iopub.status.idle": "2025-05-18T15:48:07.116377Z",
     "shell.execute_reply": "2025-05-18T15:48:07.115219Z"
    },
    "papermill": {
     "duration": 0.011462,
     "end_time": "2025-05-18T15:48:07.118043",
     "exception": false,
     "start_time": "2025-05-18T15:48:07.106581",
     "status": "completed"
    },
    "tags": []
   },
   "outputs": [],
   "source": [
    "def create_dicts(train_corpus, vocab):\n",
    "    emission_counts = defaultdict(int)\n",
    "    transition_counts = defaultdict(int)\n",
    "    tag_counts = defaultdict(int)\n",
    "\n",
    "    "
   ]
  }
 ],
 "metadata": {
  "kaggle": {
   "accelerator": "none",
   "dataSources": [
    {
     "datasetId": 7428875,
     "sourceId": 11825962,
     "sourceType": "datasetVersion"
    }
   ],
   "dockerImageVersionId": 31040,
   "isGpuEnabled": false,
   "isInternetEnabled": false,
   "language": "python",
   "sourceType": "notebook"
  },
  "kernelspec": {
   "display_name": "Python 3",
   "language": "python",
   "name": "python3"
  },
  "language_info": {
   "codemirror_mode": {
    "name": "ipython",
    "version": 3
   },
   "file_extension": ".py",
   "mimetype": "text/x-python",
   "name": "python",
   "nbconvert_exporter": "python",
   "pygments_lexer": "ipython3",
   "version": "3.11.11"
  },
  "papermill": {
   "default_parameters": {},
   "duration": 9.888448,
   "end_time": "2025-05-18T15:48:07.744734",
   "environment_variables": {},
   "exception": null,
   "input_path": "__notebook__.ipynb",
   "output_path": "__notebook__.ipynb",
   "parameters": {},
   "start_time": "2025-05-18T15:47:57.856286",
   "version": "2.6.0"
  }
 },
 "nbformat": 4,
 "nbformat_minor": 5
}
