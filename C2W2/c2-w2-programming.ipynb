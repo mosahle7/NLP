{
 "cells": [
  {
   "cell_type": "code",
   "execution_count": 1,
   "id": "40cd6a91",
   "metadata": {
    "_cell_guid": "b1076dfc-b9ad-4769-8c92-a6c4dae69d19",
    "_uuid": "8f2839f25d086af736a60e9eeb907d3b93b6e0e5",
    "execution": {
     "iopub.execute_input": "2025-05-15T16:15:40.463301Z",
     "iopub.status.busy": "2025-05-15T16:15:40.462946Z",
     "iopub.status.idle": "2025-05-15T16:15:42.670915Z",
     "shell.execute_reply": "2025-05-15T16:15:42.669826Z"
    },
    "papermill": {
     "duration": 2.213344,
     "end_time": "2025-05-15T16:15:42.672519",
     "exception": false,
     "start_time": "2025-05-15T16:15:40.459175",
     "status": "completed"
    },
    "tags": []
   },
   "outputs": [
    {
     "name": "stdout",
     "output_type": "stream",
     "text": [
      "/kaggle/input/wall-street-journal-2/WSJ_24.pos\n",
      "/kaggle/input/wall-street-journal-2/test.words\n",
      "/kaggle/input/wall-street-journal-2/hmm_vocab.txt\n",
      "/kaggle/input/wall-street-journal-2/WSJ_02-21.pos\n"
     ]
    }
   ],
   "source": [
    "# This Python 3 environment comes with many helpful analytics libraries installed\n",
    "# It is defined by the kaggle/python Docker image: https://github.com/kaggle/docker-python\n",
    "# For example, here's several helpful packages to load\n",
    "\n",
    "import numpy as np # linear algebra\n",
    "import pandas as pd # data processing, CSV file I/O (e.g. pd.read_csv)\n",
    "\n",
    "# Input data files are available in the read-only \"../input/\" directory\n",
    "# For example, running this (by clicking run or pressing Shift+Enter) will list all files under the input directory\n",
    "\n",
    "import os\n",
    "for dirname, _, filenames in os.walk('/kaggle/input'):\n",
    "    for filename in filenames:\n",
    "        print(os.path.join(dirname, filename))\n",
    "\n",
    "# You can write up to 20GB to the current directory (/kaggle/working/) that gets preserved as output when you create a version using \"Save & Run All\" \n",
    "# You can also write temporary files to /kaggle/temp/, but they won't be saved outside of the current session"
   ]
  },
  {
   "cell_type": "code",
   "execution_count": 2,
   "id": "ab32cdda",
   "metadata": {
    "execution": {
     "iopub.execute_input": "2025-05-15T16:15:42.678124Z",
     "iopub.status.busy": "2025-05-15T16:15:42.677743Z",
     "iopub.status.idle": "2025-05-15T16:15:42.918050Z",
     "shell.execute_reply": "2025-05-15T16:15:42.916602Z"
    },
    "papermill": {
     "duration": 0.245186,
     "end_time": "2025-05-15T16:15:42.920005",
     "exception": false,
     "start_time": "2025-05-15T16:15:42.674819",
     "status": "completed"
    },
    "tags": []
   },
   "outputs": [
    {
     "data": {
      "text/plain": [
       "['In\\tIN\\n', 'an\\tDT\\n', 'Oct.\\tNNP\\n', '19\\tCD\\n', 'review\\tNN\\n']"
      ]
     },
     "execution_count": 2,
     "metadata": {},
     "output_type": "execute_result"
    }
   ],
   "source": [
    "with open(\"/kaggle/input/wall-street-journal-2/WSJ_02-21.pos\") as f:\n",
    "    train_corpus = f.readlines()\n",
    "\n",
    "train_corpus[:5]"
   ]
  },
  {
   "cell_type": "code",
   "execution_count": 3,
   "id": "e350b3ad",
   "metadata": {
    "execution": {
     "iopub.execute_input": "2025-05-15T16:15:42.925577Z",
     "iopub.status.busy": "2025-05-15T16:15:42.925224Z",
     "iopub.status.idle": "2025-05-15T16:15:42.938004Z",
     "shell.execute_reply": "2025-05-15T16:15:42.936690Z"
    },
    "papermill": {
     "duration": 0.01842,
     "end_time": "2025-05-15T16:15:42.940516",
     "exception": false,
     "start_time": "2025-05-15T16:15:42.922096",
     "status": "completed"
    },
    "tags": []
   },
   "outputs": [
    {
     "name": "stdout",
     "output_type": "stream",
     "text": [
      "['!', '#', '$', '%', '&', \"'\", \"''\", \"'40s\", \"'60s\", \"'70s\", \"'80s\", \"'86\", \"'90s\", \"'N\", \"'S\", \"'d\", \"'em\", \"'ll\", \"'m\", \"'n'\", \"'re\", \"'s\", \"'til\", \"'ve\", '(', ')', ',', '-', '--', '--n--', '--unk--', '--unk_adj--', '--unk_adv--', '--unk_digit--', '--unk_noun--', '--unk_punct--', '--unk_upper--', '--unk_verb--', '.', '...', '0.01', '0.0108', '0.02', '0.03', '0.05', '0.1', '0.10', '0.12', '0.13', '0.15'] \n",
      "\n",
      "['yards', 'yardstick', 'year', 'year-ago', 'year-before', 'year-earlier', 'year-end', 'year-on-year', 'year-round', 'year-to-date', 'year-to-year', 'yearlong', 'yearly', 'years', 'yeast', 'yelled', 'yelling', 'yellow', 'yen', 'yes', 'yesterday', 'yet', 'yield', 'yielded', 'yielding', 'yields', 'you', 'young', 'younger', 'youngest', 'youngsters', 'your', 'yourself', 'youth', 'youthful', 'yuppie', 'yuppies', 'zero', 'zero-coupon', 'zeroing', 'zeros', 'zinc', 'zip', 'zombie', 'zone', 'zones', 'zoning', '{', '}', '']\n"
     ]
    }
   ],
   "source": [
    "with open(\"/kaggle/input/wall-street-journal-2/hmm_vocab.txt\", 'r') as f:\n",
    "    voc = f.read().split('\\n')\n",
    "\n",
    "print(voc[:50],'\\n')\n",
    "print(voc[-50:])"
   ]
  },
  {
   "cell_type": "code",
   "execution_count": 4,
   "id": "13b87315",
   "metadata": {
    "execution": {
     "iopub.execute_input": "2025-05-15T16:15:42.946652Z",
     "iopub.status.busy": "2025-05-15T16:15:42.946351Z",
     "iopub.status.idle": "2025-05-15T16:15:42.950729Z",
     "shell.execute_reply": "2025-05-15T16:15:42.949661Z"
    },
    "papermill": {
     "duration": 0.009034,
     "end_time": "2025-05-15T16:15:42.952548",
     "exception": false,
     "start_time": "2025-05-15T16:15:42.943514",
     "status": "completed"
    },
    "tags": []
   },
   "outputs": [],
   "source": [
    "# voc.sort()\n",
    "\n",
    "# for "
   ]
  }
 ],
 "metadata": {
  "kaggle": {
   "accelerator": "none",
   "dataSources": [
    {
     "datasetId": 7428875,
     "sourceId": 11825962,
     "sourceType": "datasetVersion"
    }
   ],
   "dockerImageVersionId": 31040,
   "isGpuEnabled": false,
   "isInternetEnabled": false,
   "language": "python",
   "sourceType": "notebook"
  },
  "kernelspec": {
   "display_name": "Python 3",
   "language": "python",
   "name": "python3"
  },
  "language_info": {
   "codemirror_mode": {
    "name": "ipython",
    "version": 3
   },
   "file_extension": ".py",
   "mimetype": "text/x-python",
   "name": "python",
   "nbconvert_exporter": "python",
   "pygments_lexer": "ipython3",
   "version": "3.11.11"
  },
  "papermill": {
   "default_parameters": {},
   "duration": 8.881911,
   "end_time": "2025-05-15T16:15:43.576944",
   "environment_variables": {},
   "exception": null,
   "input_path": "__notebook__.ipynb",
   "output_path": "__notebook__.ipynb",
   "parameters": {},
   "start_time": "2025-05-15T16:15:34.695033",
   "version": "2.6.0"
  }
 },
 "nbformat": 4,
 "nbformat_minor": 5
}
