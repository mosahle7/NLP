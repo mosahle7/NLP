{
 "cells": [
  {
   "cell_type": "code",
   "execution_count": 1,
   "id": "48d0043a",
   "metadata": {
    "_cell_guid": "b1076dfc-b9ad-4769-8c92-a6c4dae69d19",
    "_uuid": "8f2839f25d086af736a60e9eeb907d3b93b6e0e5",
    "execution": {
     "iopub.execute_input": "2025-05-23T16:20:27.157760Z",
     "iopub.status.busy": "2025-05-23T16:20:27.157322Z",
     "iopub.status.idle": "2025-05-23T16:20:29.266642Z",
     "shell.execute_reply": "2025-05-23T16:20:29.265482Z"
    },
    "papermill": {
     "duration": 2.119994,
     "end_time": "2025-05-23T16:20:29.268267",
     "exception": false,
     "start_time": "2025-05-23T16:20:27.148273",
     "status": "completed"
    },
    "tags": []
   },
   "outputs": [
    {
     "name": "stdout",
     "output_type": "stream",
     "text": [
      "/kaggle/input/wall-street-journal-2/WSJ_24.pos\n",
      "/kaggle/input/wall-street-journal-2/test.words\n",
      "/kaggle/input/wall-street-journal-2/hmm_vocab.txt\n",
      "/kaggle/input/wall-street-journal-2/WSJ_02-21.pos\n"
     ]
    }
   ],
   "source": [
    "# This Python 3 environment comes with many helpful analytics libraries installed\n",
    "# It is defined by the kaggle/python Docker image: https://github.com/kaggle/docker-python\n",
    "# For example, here's several helpful packages to load\n",
    "\n",
    "import numpy as np # linear algebra\n",
    "import pandas as pd # data processing, CSV file I/O (e.g. pd.read_csv)\n",
    "\n",
    "# Input data files are available in the read-only \"../input/\" directory\n",
    "# For example, running this (by clicking run or pressing Shift+Enter) will list all files under the input directory\n",
    "\n",
    "import os\n",
    "for dirname, _, filenames in os.walk('/kaggle/input'):\n",
    "    for filename in filenames:\n",
    "        print(os.path.join(dirname, filename))\n",
    "\n",
    "# You can write up to 20GB to the current directory (/kaggle/working/) that gets preserved as output when you create a version using \"Save & Run All\" \n",
    "# You can also write temporary files to /kaggle/temp/, but they won't be saved outside of the current session"
   ]
  },
  {
   "cell_type": "code",
   "execution_count": 2,
   "id": "d3ef329c",
   "metadata": {
    "execution": {
     "iopub.execute_input": "2025-05-23T16:20:29.283127Z",
     "iopub.status.busy": "2025-05-23T16:20:29.282745Z",
     "iopub.status.idle": "2025-05-23T16:20:29.287718Z",
     "shell.execute_reply": "2025-05-23T16:20:29.286640Z"
    },
    "papermill": {
     "duration": 0.013879,
     "end_time": "2025-05-23T16:20:29.289261",
     "exception": false,
     "start_time": "2025-05-23T16:20:29.275382",
     "status": "completed"
    },
    "tags": []
   },
   "outputs": [],
   "source": [
    "import string\n",
    "from collections import defaultdict"
   ]
  },
  {
   "cell_type": "code",
   "execution_count": 3,
   "id": "38e8f068",
   "metadata": {
    "execution": {
     "iopub.execute_input": "2025-05-23T16:20:29.303650Z",
     "iopub.status.busy": "2025-05-23T16:20:29.303314Z",
     "iopub.status.idle": "2025-05-23T16:20:29.554381Z",
     "shell.execute_reply": "2025-05-23T16:20:29.553355Z"
    },
    "papermill": {
     "duration": 0.259946,
     "end_time": "2025-05-23T16:20:29.555891",
     "exception": false,
     "start_time": "2025-05-23T16:20:29.295945",
     "status": "completed"
    },
    "tags": []
   },
   "outputs": [
    {
     "data": {
      "text/plain": [
       "['In\\tIN\\n', 'an\\tDT\\n', 'Oct.\\tNNP\\n', '19\\tCD\\n', 'review\\tNN\\n']"
      ]
     },
     "execution_count": 3,
     "metadata": {},
     "output_type": "execute_result"
    }
   ],
   "source": [
    "with open(\"/kaggle/input/wall-street-journal-2/WSJ_02-21.pos\") as f:\n",
    "    train_corpus = f.readlines()\n",
    "\n",
    "train_corpus[:5]"
   ]
  },
  {
   "cell_type": "code",
   "execution_count": 4,
   "id": "51d80710",
   "metadata": {
    "execution": {
     "iopub.execute_input": "2025-05-23T16:20:29.570749Z",
     "iopub.status.busy": "2025-05-23T16:20:29.570415Z",
     "iopub.status.idle": "2025-05-23T16:20:29.587343Z",
     "shell.execute_reply": "2025-05-23T16:20:29.586177Z"
    },
    "papermill": {
     "duration": 0.026213,
     "end_time": "2025-05-23T16:20:29.589000",
     "exception": false,
     "start_time": "2025-05-23T16:20:29.562787",
     "status": "completed"
    },
    "tags": []
   },
   "outputs": [
    {
     "name": "stdout",
     "output_type": "stream",
     "text": [
      "['!', '#', '$', '%', '&', \"'\", \"''\", \"'40s\", \"'60s\", \"'70s\", \"'80s\", \"'86\", \"'90s\", \"'N\", \"'S\", \"'d\", \"'em\", \"'ll\", \"'m\", \"'n'\", \"'re\", \"'s\", \"'til\", \"'ve\", '(', ')', ',', '-', '--', '--n--', '--unk--', '--unk_adj--', '--unk_adv--', '--unk_digit--', '--unk_noun--', '--unk_punct--', '--unk_upper--', '--unk_verb--', '.', '...', '0.01', '0.0108', '0.02', '0.03', '0.05', '0.1', '0.10', '0.12', '0.13', '0.15'] \n",
      "\n",
      "['yards', 'yardstick', 'year', 'year-ago', 'year-before', 'year-earlier', 'year-end', 'year-on-year', 'year-round', 'year-to-date', 'year-to-year', 'yearlong', 'yearly', 'years', 'yeast', 'yelled', 'yelling', 'yellow', 'yen', 'yes', 'yesterday', 'yet', 'yield', 'yielded', 'yielding', 'yields', 'you', 'young', 'younger', 'youngest', 'youngsters', 'your', 'yourself', 'youth', 'youthful', 'yuppie', 'yuppies', 'zero', 'zero-coupon', 'zeroing', 'zeros', 'zinc', 'zip', 'zombie', 'zone', 'zones', 'zoning', '{', '}', '']\n"
     ]
    }
   ],
   "source": [
    "with open(\"/kaggle/input/wall-street-journal-2/hmm_vocab.txt\", 'r') as f:\n",
    "    voc = f.read().split('\\n')\n",
    "\n",
    "print(voc[:50],'\\n')\n",
    "print(voc[-50:])"
   ]
  },
  {
   "cell_type": "code",
   "execution_count": 5,
   "id": "f8a65787",
   "metadata": {
    "execution": {
     "iopub.execute_input": "2025-05-23T16:20:29.604505Z",
     "iopub.status.busy": "2025-05-23T16:20:29.604178Z",
     "iopub.status.idle": "2025-05-23T16:20:29.618534Z",
     "shell.execute_reply": "2025-05-23T16:20:29.617522Z"
    },
    "papermill": {
     "duration": 0.023999,
     "end_time": "2025-05-23T16:20:29.620052",
     "exception": false,
     "start_time": "2025-05-23T16:20:29.596053",
     "status": "completed"
    },
    "tags": []
   },
   "outputs": [
    {
     "name": "stdout",
     "output_type": "stream",
     "text": [
      ":0\n",
      "!:1\n",
      "#:2\n",
      "$:3\n",
      "%:4\n",
      "&:5\n",
      "':6\n",
      "'':7\n",
      "'40s:8\n",
      "'60s:9\n",
      "'70s:10\n",
      "'80s:11\n",
      "'86:12\n",
      "'90s:13\n",
      "'N:14\n",
      "'S:15\n",
      "'d:16\n",
      "'em:17\n",
      "'ll:18\n",
      "'m:19\n",
      "'n':20\n"
     ]
    }
   ],
   "source": [
    "voc.sort()\n",
    "vocab={}\n",
    "\n",
    "for i,word in enumerate(voc):\n",
    "    vocab[word] = i\n",
    "\n",
    "cnt = 0\n",
    "for k,v in vocab.items():\n",
    "    print(f\"{k}:{v}\")\n",
    "    cnt += 1\n",
    "    if cnt>20: break"
   ]
  },
  {
   "cell_type": "code",
   "execution_count": 6,
   "id": "d8c931d5",
   "metadata": {
    "execution": {
     "iopub.execute_input": "2025-05-23T16:20:29.635183Z",
     "iopub.status.busy": "2025-05-23T16:20:29.634876Z",
     "iopub.status.idle": "2025-05-23T16:20:29.657000Z",
     "shell.execute_reply": "2025-05-23T16:20:29.655914Z"
    },
    "papermill": {
     "duration": 0.031659,
     "end_time": "2025-05-23T16:20:29.658669",
     "exception": false,
     "start_time": "2025-05-23T16:20:29.627010",
     "status": "completed"
    },
    "tags": []
   },
   "outputs": [
    {
     "data": {
      "text/plain": [
       "['The\\tDT\\n',\n",
       " 'economy\\tNN\\n',\n",
       " \"'s\\tPOS\\n\",\n",
       " 'temperature\\tNN\\n',\n",
       " 'will\\tMD\\n',\n",
       " 'be\\tVB\\n',\n",
       " 'taken\\tVBN\\n',\n",
       " 'from\\tIN\\n',\n",
       " 'several\\tJJ\\n',\n",
       " 'vantage\\tNN\\n']"
      ]
     },
     "execution_count": 6,
     "metadata": {},
     "output_type": "execute_result"
    }
   ],
   "source": [
    "with open(\"/kaggle/input/wall-street-journal-2/WSJ_24.pos\",'r') as f:\n",
    "    y = f.readlines()\n",
    "\n",
    "y[:10]"
   ]
  },
  {
   "cell_type": "code",
   "execution_count": 7,
   "id": "641459d4",
   "metadata": {
    "execution": {
     "iopub.execute_input": "2025-05-23T16:20:29.677024Z",
     "iopub.status.busy": "2025-05-23T16:20:29.676732Z",
     "iopub.status.idle": "2025-05-23T16:20:29.684505Z",
     "shell.execute_reply": "2025-05-23T16:20:29.683719Z"
    },
    "papermill": {
     "duration": 0.020125,
     "end_time": "2025-05-23T16:20:29.685882",
     "exception": false,
     "start_time": "2025-05-23T16:20:29.665757",
     "status": "completed"
    },
    "tags": []
   },
   "outputs": [],
   "source": [
    "def assign_unk(word):\n",
    "    punct = string.punctuation\n",
    "    noun_suffs = [\"action\", \"age\", \"ance\", \"cy\", \"dom\", \"ee\", \"ence\", \"er\", \"hood\", \"ion\", \"ism\", \"ist\", \"ity\", \"ling\", \"ment\", \"ness\", \"or\", \"ry\", \"scape\", \"ship\", \"ty\"]\n",
    "    verb_suffs = [\"ate\", \"ify\", \"ise\", \"ize\"]\n",
    "    adj_suffs = [\"able\", \"ese\", \"ful\", \"i\", \"ian\", \"ible\", \"ic\", \"ish\", \"ive\", \"less\", \"ly\", \"ous\"]\n",
    "    adv_suffs = [\"ward\", \"wards\", \"wise\"]\n",
    "    \n",
    "    if any(char.isdigit() for char in word):\n",
    "        return \"--unk_digit--\"\n",
    "\n",
    "    elif any(char in punct for char in word):\n",
    "        return \"--unk_punct--\"\n",
    "\n",
    "    elif any(char.isupper() for char in word):\n",
    "        return \"--unk_upper--\"\n",
    "\n",
    "    elif any(word.endswith(suff) for suff in noun_suffs):\n",
    "        return \"--unk_noun--\"\n",
    "\n",
    "    elif any(word.endswith(suff) for suff in verb_suffs):\n",
    "        return \"--unk_verb\"\n",
    "\n",
    "    elif any(word.endswith(suff) for suff in adj_suffs):\n",
    "        return \"--unk_adj--\"\n",
    "\n",
    "    elif any(word.endswith(suff) for suff in adv_suffs):\n",
    "        return \"--unk_adv--\"\n",
    "\n",
    "    return \"--unk--\"\n",
    "    "
   ]
  },
  {
   "cell_type": "code",
   "execution_count": 8,
   "id": "e8d47ea1",
   "metadata": {
    "execution": {
     "iopub.execute_input": "2025-05-23T16:20:29.701079Z",
     "iopub.status.busy": "2025-05-23T16:20:29.700789Z",
     "iopub.status.idle": "2025-05-23T16:20:29.708556Z",
     "shell.execute_reply": "2025-05-23T16:20:29.707603Z"
    },
    "papermill": {
     "duration": 0.017264,
     "end_time": "2025-05-23T16:20:29.710050",
     "exception": false,
     "start_time": "2025-05-23T16:20:29.692786",
     "status": "completed"
    },
    "tags": []
   },
   "outputs": [],
   "source": [
    "def preprocess(vocab,data):\n",
    "    orig = []\n",
    "    prep = []\n",
    "\n",
    "    with open(data, 'r') as f:\n",
    "        for word in f:\n",
    "            if not word.split():\n",
    "                orig.append(word.strip())\n",
    "                word = \"--n--\"\n",
    "                prep.append(word)\n",
    "                continue\n",
    "\n",
    "            elif word.strip() not in vocab:\n",
    "                orig.append(word.strip())\n",
    "                word = assign_unk(word)\n",
    "                prep.append(word)\n",
    "                continue\n",
    "\n",
    "            else:\n",
    "                orig.append(word.strip())\n",
    "                prep.append(word.strip())\n",
    "\n",
    "    assert(len(orig) == len(open(data, \"r\").readlines()))\n",
    "    assert(len(prep) == len(open(data, \"r\").readlines()))\n",
    "\n",
    "    return orig, prep"
   ]
  },
  {
   "cell_type": "code",
   "execution_count": 9,
   "id": "d199dcc5",
   "metadata": {
    "execution": {
     "iopub.execute_input": "2025-05-23T16:20:29.724942Z",
     "iopub.status.busy": "2025-05-23T16:20:29.724635Z",
     "iopub.status.idle": "2025-05-23T16:20:29.774088Z",
     "shell.execute_reply": "2025-05-23T16:20:29.773108Z"
    },
    "papermill": {
     "duration": 0.059007,
     "end_time": "2025-05-23T16:20:29.775940",
     "exception": false,
     "start_time": "2025-05-23T16:20:29.716933",
     "status": "completed"
    },
    "tags": []
   },
   "outputs": [],
   "source": [
    "_, prep = preprocess(vocab,\"/kaggle/input/wall-street-journal-2/test.words\")   "
   ]
  },
  {
   "cell_type": "code",
   "execution_count": 10,
   "id": "ee154bcc",
   "metadata": {
    "execution": {
     "iopub.execute_input": "2025-05-23T16:20:29.791473Z",
     "iopub.status.busy": "2025-05-23T16:20:29.791125Z",
     "iopub.status.idle": "2025-05-23T16:20:29.797362Z",
     "shell.execute_reply": "2025-05-23T16:20:29.796477Z"
    },
    "papermill": {
     "duration": 0.015911,
     "end_time": "2025-05-23T16:20:29.798917",
     "exception": false,
     "start_time": "2025-05-23T16:20:29.783006",
     "status": "completed"
    },
    "tags": []
   },
   "outputs": [
    {
     "name": "stdout",
     "output_type": "stream",
     "text": [
      "34199\n"
     ]
    },
    {
     "data": {
      "text/plain": [
       "['The',\n",
       " 'economy',\n",
       " \"'s\",\n",
       " 'temperature',\n",
       " 'will',\n",
       " 'be',\n",
       " 'taken',\n",
       " 'from',\n",
       " 'several',\n",
       " '--unk--']"
      ]
     },
     "execution_count": 10,
     "metadata": {},
     "output_type": "execute_result"
    }
   ],
   "source": [
    "print(len(prep))\n",
    "prep[:10]"
   ]
  },
  {
   "cell_type": "code",
   "execution_count": 11,
   "id": "a693524d",
   "metadata": {
    "execution": {
     "iopub.execute_input": "2025-05-23T16:20:29.814192Z",
     "iopub.status.busy": "2025-05-23T16:20:29.813894Z",
     "iopub.status.idle": "2025-05-23T16:20:29.819005Z",
     "shell.execute_reply": "2025-05-23T16:20:29.818103Z"
    },
    "papermill": {
     "duration": 0.014581,
     "end_time": "2025-05-23T16:20:29.820559",
     "exception": false,
     "start_time": "2025-05-23T16:20:29.805978",
     "status": "completed"
    },
    "tags": []
   },
   "outputs": [],
   "source": [
    "def get_word_tag(line, vocab):\n",
    "    if not(line.split()):\n",
    "        word = \"--n--\"\n",
    "        tag = \"--s--\"\n",
    "    else:\n",
    "        word,tag = line.split()\n",
    "        if word not in vocab:\n",
    "            word = assign_unk(word)\n",
    "    return word, tag"
   ]
  },
  {
   "cell_type": "markdown",
   "id": "37567028",
   "metadata": {
    "papermill": {
     "duration": 0.006784,
     "end_time": "2025-05-23T16:20:29.834829",
     "exception": false,
     "start_time": "2025-05-23T16:20:29.828045",
     "status": "completed"
    },
    "tags": []
   },
   "source": [
    "**POS Tagging**"
   ]
  },
  {
   "cell_type": "code",
   "execution_count": 12,
   "id": "76f11926",
   "metadata": {
    "execution": {
     "iopub.execute_input": "2025-05-23T16:20:29.850288Z",
     "iopub.status.busy": "2025-05-23T16:20:29.849991Z",
     "iopub.status.idle": "2025-05-23T16:20:29.855824Z",
     "shell.execute_reply": "2025-05-23T16:20:29.854927Z"
    },
    "papermill": {
     "duration": 0.015732,
     "end_time": "2025-05-23T16:20:29.857333",
     "exception": false,
     "start_time": "2025-05-23T16:20:29.841601",
     "status": "completed"
    },
    "tags": []
   },
   "outputs": [],
   "source": [
    "def create_dicts(train_corpus, vocab):\n",
    "    emission_counts = defaultdict(int)\n",
    "    transition_counts = defaultdict(int)\n",
    "    tag_counts = defaultdict(int)\n",
    "\n",
    "    prev_tag = '--s--'\n",
    "    i=0\n",
    "\n",
    "    for word_tag in train_corpus:\n",
    "        i+=1\n",
    "        \n",
    "        if i%50000 == 0:\n",
    "            print(f\"word count = {i}\")\n",
    "        word, tag = get_word_tag(word_tag, vocab)\n",
    "\n",
    "        transition_counts[(prev_tag, tag)]+=1\n",
    "        emission_counts[(tag, word)]+=1\n",
    "        tag_counts[tag]+=1\n",
    "\n",
    "        prev_tag = tag\n",
    "\n",
    "    return transition_counts, emission_counts, tag_counts\n",
    "    "
   ]
  },
  {
   "cell_type": "code",
   "execution_count": 13,
   "id": "c5b949cb",
   "metadata": {
    "execution": {
     "iopub.execute_input": "2025-05-23T16:20:29.872523Z",
     "iopub.status.busy": "2025-05-23T16:20:29.872197Z",
     "iopub.status.idle": "2025-05-23T16:20:31.546701Z",
     "shell.execute_reply": "2025-05-23T16:20:31.545632Z"
    },
    "papermill": {
     "duration": 1.683931,
     "end_time": "2025-05-23T16:20:31.548278",
     "exception": false,
     "start_time": "2025-05-23T16:20:29.864347",
     "status": "completed"
    },
    "tags": []
   },
   "outputs": [
    {
     "name": "stdout",
     "output_type": "stream",
     "text": [
      "word count = 50000\n",
      "word count = 100000\n",
      "word count = 150000\n",
      "word count = 200000\n",
      "word count = 250000\n",
      "word count = 300000\n",
      "word count = 350000\n",
      "word count = 400000\n",
      "word count = 450000\n",
      "word count = 500000\n",
      "word count = 550000\n",
      "word count = 600000\n",
      "word count = 650000\n",
      "word count = 700000\n",
      "word count = 750000\n",
      "word count = 800000\n",
      "word count = 850000\n",
      "word count = 900000\n",
      "word count = 950000\n"
     ]
    }
   ],
   "source": [
    "transition_counts, emission_counts, tag_counts = create_dicts(train_corpus, vocab)"
   ]
  },
  {
   "cell_type": "code",
   "execution_count": 14,
   "id": "1e458aae",
   "metadata": {
    "execution": {
     "iopub.execute_input": "2025-05-23T16:20:31.564325Z",
     "iopub.status.busy": "2025-05-23T16:20:31.564040Z",
     "iopub.status.idle": "2025-05-23T16:20:31.569218Z",
     "shell.execute_reply": "2025-05-23T16:20:31.568131Z"
    },
    "papermill": {
     "duration": 0.015069,
     "end_time": "2025-05-23T16:20:31.570874",
     "exception": false,
     "start_time": "2025-05-23T16:20:31.555805",
     "status": "completed"
    },
    "tags": []
   },
   "outputs": [
    {
     "name": "stdout",
     "output_type": "stream",
     "text": [
      "Number of POS Tags (states):  46\n",
      "['#', '$', \"''\", '(', ')', ',', '--s--', '.', ':', 'CC', 'CD', 'DT', 'EX', 'FW', 'IN', 'JJ', 'JJR', 'JJS', 'LS', 'MD', 'NN', 'NNP', 'NNPS', 'NNS', 'PDT', 'POS', 'PRP', 'PRP$', 'RB', 'RBR', 'RBS', 'RP', 'SYM', 'TO', 'UH', 'VB', 'VBD', 'VBG', 'VBN', 'VBP', 'VBZ', 'WDT', 'WP', 'WP$', 'WRB', '``']\n"
     ]
    }
   ],
   "source": [
    "states = sorted(tag_counts.keys())\n",
    "print(\"Number of POS Tags (states): \", len(states))\n",
    "print(states)"
   ]
  },
  {
   "cell_type": "code",
   "execution_count": 15,
   "id": "a8d61071",
   "metadata": {
    "execution": {
     "iopub.execute_input": "2025-05-23T16:20:31.587155Z",
     "iopub.status.busy": "2025-05-23T16:20:31.586863Z",
     "iopub.status.idle": "2025-05-23T16:20:31.593302Z",
     "shell.execute_reply": "2025-05-23T16:20:31.592370Z"
    },
    "papermill": {
     "duration": 0.016188,
     "end_time": "2025-05-23T16:20:31.594947",
     "exception": false,
     "start_time": "2025-05-23T16:20:31.578759",
     "status": "completed"
    },
    "tags": []
   },
   "outputs": [
    {
     "data": {
      "text/plain": [
       "[(('--s--', 'IN'), 5050), (('IN', 'DT'), 32364), (('DT', 'NNP'), 9044)]"
      ]
     },
     "execution_count": 15,
     "metadata": {},
     "output_type": "execute_result"
    }
   ],
   "source": [
    "list(transition_counts.items())[:3]"
   ]
  },
  {
   "cell_type": "code",
   "execution_count": 16,
   "id": "8f3454d5",
   "metadata": {
    "execution": {
     "iopub.execute_input": "2025-05-23T16:20:31.612103Z",
     "iopub.status.busy": "2025-05-23T16:20:31.611770Z",
     "iopub.status.idle": "2025-05-23T16:20:31.624766Z",
     "shell.execute_reply": "2025-05-23T16:20:31.623982Z"
    },
    "papermill": {
     "duration": 0.023749,
     "end_time": "2025-05-23T16:20:31.626213",
     "exception": false,
     "start_time": "2025-05-23T16:20:31.602464",
     "status": "completed"
    },
    "tags": []
   },
   "outputs": [
    {
     "data": {
      "text/plain": [
       "[(('IN', 'In'), 1735), (('DT', 'an'), 3142), (('NNP', 'Oct.'), 317)]"
      ]
     },
     "execution_count": 16,
     "metadata": {},
     "output_type": "execute_result"
    }
   ],
   "source": [
    "list(emission_counts.items())[:3]"
   ]
  },
  {
   "cell_type": "code",
   "execution_count": 17,
   "id": "ee9a54f3",
   "metadata": {
    "execution": {
     "iopub.execute_input": "2025-05-23T16:20:31.642415Z",
     "iopub.status.busy": "2025-05-23T16:20:31.642140Z",
     "iopub.status.idle": "2025-05-23T16:20:31.651155Z",
     "shell.execute_reply": "2025-05-23T16:20:31.650285Z"
    },
    "papermill": {
     "duration": 0.018814,
     "end_time": "2025-05-23T16:20:31.652566",
     "exception": false,
     "start_time": "2025-05-23T16:20:31.633752",
     "status": "completed"
    },
    "tags": []
   },
   "outputs": [
    {
     "name": "stdout",
     "output_type": "stream",
     "text": [
      "('RB', 'back') 304\n",
      "('VB', 'back') 20\n",
      "('RP', 'back') 84\n",
      "('JJ', 'back') 25\n",
      "('NN', 'back') 29\n",
      "('VBP', 'back') 4\n"
     ]
    }
   ],
   "source": [
    "for tup,cnt in emission_counts.items():\n",
    "    if tup[1]=='back': print(tup,cnt)\n"
   ]
  },
  {
   "cell_type": "code",
   "execution_count": 18,
   "id": "b526a1dd",
   "metadata": {
    "execution": {
     "iopub.execute_input": "2025-05-23T16:20:31.668988Z",
     "iopub.status.busy": "2025-05-23T16:20:31.668314Z",
     "iopub.status.idle": "2025-05-23T16:20:31.674676Z",
     "shell.execute_reply": "2025-05-23T16:20:31.673712Z"
    },
    "papermill": {
     "duration": 0.016015,
     "end_time": "2025-05-23T16:20:31.676070",
     "exception": false,
     "start_time": "2025-05-23T16:20:31.660055",
     "status": "completed"
    },
    "tags": []
   },
   "outputs": [],
   "source": [
    "def predict_pos(prep, y, emission_counts, vocab, states):\n",
    "    num_crct = 0\n",
    "    total = len(y)\n",
    "\n",
    "    all_words = set(emission_counts.keys())\n",
    "    \n",
    "    for word, y_tup in zip(prep,y):\n",
    "        y_tup_l = y_tup.split()\n",
    "        if len(y_tup_l)==2:\n",
    "            true_label = y_tup_l[1]\n",
    "        else:\n",
    "            continue\n",
    "\n",
    "        count_final = 0\n",
    "        pos_final = ''\n",
    "\n",
    "        if word in vocab:\n",
    "            for pos in states:\n",
    "                key = (pos,word)\n",
    "\n",
    "                if key in emission_counts:\n",
    "                    count = emission_counts[key]\n",
    "                    if count>count_final:\n",
    "                        count_final = count\n",
    "                        pos_final = pos\n",
    "\n",
    "            if pos_final == true_label:\n",
    "                num_crct+=1\n",
    "\n",
    "    accuracy = num_crct/total\n",
    "    return accuracy"
   ]
  },
  {
   "cell_type": "code",
   "execution_count": 19,
   "id": "ab8ef8b2",
   "metadata": {
    "execution": {
     "iopub.execute_input": "2025-05-23T16:20:31.692544Z",
     "iopub.status.busy": "2025-05-23T16:20:31.692189Z",
     "iopub.status.idle": "2025-05-23T16:20:31.913300Z",
     "shell.execute_reply": "2025-05-23T16:20:31.912192Z"
    },
    "papermill": {
     "duration": 0.231098,
     "end_time": "2025-05-23T16:20:31.914894",
     "exception": false,
     "start_time": "2025-05-23T16:20:31.683796",
     "status": "completed"
    },
    "tags": []
   },
   "outputs": [
    {
     "data": {
      "text/plain": [
       "0.8888563993099213"
      ]
     },
     "execution_count": 19,
     "metadata": {},
     "output_type": "execute_result"
    }
   ],
   "source": [
    "accuracy = predict_pos(prep, y, emission_counts, vocab, states)\n",
    "accuracy"
   ]
  },
  {
   "cell_type": "markdown",
   "id": "855d8c9f",
   "metadata": {
    "papermill": {
     "duration": 0.007432,
     "end_time": "2025-05-23T16:20:31.930393",
     "exception": false,
     "start_time": "2025-05-23T16:20:31.922961",
     "status": "completed"
    },
    "tags": []
   },
   "source": [
    "**Hidden Markov Models for POS**"
   ]
  },
  {
   "cell_type": "code",
   "execution_count": 20,
   "id": "3516e3be",
   "metadata": {
    "execution": {
     "iopub.execute_input": "2025-05-23T16:20:31.947750Z",
     "iopub.status.busy": "2025-05-23T16:20:31.947405Z",
     "iopub.status.idle": "2025-05-23T16:20:31.953490Z",
     "shell.execute_reply": "2025-05-23T16:20:31.952515Z"
    },
    "papermill": {
     "duration": 0.017271,
     "end_time": "2025-05-23T16:20:31.955266",
     "exception": false,
     "start_time": "2025-05-23T16:20:31.937995",
     "status": "completed"
    },
    "tags": []
   },
   "outputs": [],
   "source": [
    "def create_trans_mat(transition_counts, tag_counts, alpha):\n",
    "    all_tags = sorted(tag_counts.keys())\n",
    "    num_tags = len(all_tags)\n",
    "\n",
    "    A = np.zeros((num_tags,num_tags))\n",
    "\n",
    "    for i in range(num_tags):\n",
    "        for j in range(num_tags):\n",
    "            a = all_tags[i]\n",
    "            b = all_tags[j]\n",
    "            count = transition_counts.get((a,b),0)\n",
    "            count_p = tag_counts[a]\n",
    "            A[i][j] = (count+alpha)/(count_p+alpha*num_tags)\n",
    "    return A\n",
    "    "
   ]
  },
  {
   "cell_type": "code",
   "execution_count": 21,
   "id": "8cdbcb9f",
   "metadata": {
    "execution": {
     "iopub.execute_input": "2025-05-23T16:20:32.040304Z",
     "iopub.status.busy": "2025-05-23T16:20:32.039999Z",
     "iopub.status.idle": "2025-05-23T16:20:32.046125Z",
     "shell.execute_reply": "2025-05-23T16:20:32.045208Z"
    },
    "papermill": {
     "duration": 0.084624,
     "end_time": "2025-05-23T16:20:32.048012",
     "exception": false,
     "start_time": "2025-05-23T16:20:31.963388",
     "status": "completed"
    },
    "tags": []
   },
   "outputs": [],
   "source": [
    "A = create_trans_mat(transition_counts, tag_counts, 0.001)"
   ]
  },
  {
   "cell_type": "code",
   "execution_count": 22,
   "id": "969347e1",
   "metadata": {
    "execution": {
     "iopub.execute_input": "2025-05-23T16:20:32.065131Z",
     "iopub.status.busy": "2025-05-23T16:20:32.064835Z",
     "iopub.status.idle": "2025-05-23T16:20:32.070661Z",
     "shell.execute_reply": "2025-05-23T16:20:32.069723Z"
    },
    "papermill": {
     "duration": 0.016317,
     "end_time": "2025-05-23T16:20:32.072153",
     "exception": false,
     "start_time": "2025-05-23T16:20:32.055836",
     "status": "completed"
    },
    "tags": []
   },
   "outputs": [
    {
     "data": {
      "text/plain": [
       "0.16910191896905374"
      ]
     },
     "execution_count": 22,
     "metadata": {},
     "output_type": "execute_result"
    }
   ],
   "source": [
    "A[3][1]"
   ]
  },
  {
   "cell_type": "code",
   "execution_count": 23,
   "id": "9790be22",
   "metadata": {
    "execution": {
     "iopub.execute_input": "2025-05-23T16:20:32.090242Z",
     "iopub.status.busy": "2025-05-23T16:20:32.089913Z",
     "iopub.status.idle": "2025-05-23T16:20:32.121548Z",
     "shell.execute_reply": "2025-05-23T16:20:32.120418Z"
    },
    "papermill": {
     "duration": 0.043099,
     "end_time": "2025-05-23T16:20:32.123240",
     "exception": false,
     "start_time": "2025-05-23T16:20:32.080141",
     "status": "completed"
    },
    "tags": []
   },
   "outputs": [
    {
     "data": {
      "text/html": [
       "<div>\n",
       "<style scoped>\n",
       "    .dataframe tbody tr th:only-of-type {\n",
       "        vertical-align: middle;\n",
       "    }\n",
       "\n",
       "    .dataframe tbody tr th {\n",
       "        vertical-align: top;\n",
       "    }\n",
       "\n",
       "    .dataframe thead th {\n",
       "        text-align: right;\n",
       "    }\n",
       "</style>\n",
       "<table border=\"1\" class=\"dataframe\">\n",
       "  <thead>\n",
       "    <tr style=\"text-align: right;\">\n",
       "      <th></th>\n",
       "      <th>RBS</th>\n",
       "      <th>RP</th>\n",
       "      <th>SYM</th>\n",
       "      <th>TO</th>\n",
       "      <th>UH</th>\n",
       "    </tr>\n",
       "  </thead>\n",
       "  <tbody>\n",
       "    <tr>\n",
       "      <th>RBS</th>\n",
       "      <td>2.217069e-06</td>\n",
       "      <td>2.217069e-06</td>\n",
       "      <td>2.217069e-06</td>\n",
       "      <td>0.008870</td>\n",
       "      <td>2.217069e-06</td>\n",
       "    </tr>\n",
       "    <tr>\n",
       "      <th>RP</th>\n",
       "      <td>3.756509e-07</td>\n",
       "      <td>7.516775e-04</td>\n",
       "      <td>3.756509e-07</td>\n",
       "      <td>0.051089</td>\n",
       "      <td>3.756509e-07</td>\n",
       "    </tr>\n",
       "    <tr>\n",
       "      <th>SYM</th>\n",
       "      <td>1.722772e-05</td>\n",
       "      <td>1.722772e-05</td>\n",
       "      <td>1.722772e-05</td>\n",
       "      <td>0.000017</td>\n",
       "      <td>1.722772e-05</td>\n",
       "    </tr>\n",
       "    <tr>\n",
       "      <th>TO</th>\n",
       "      <td>4.477336e-05</td>\n",
       "      <td>4.472863e-08</td>\n",
       "      <td>4.472863e-08</td>\n",
       "      <td>0.000090</td>\n",
       "      <td>4.477336e-05</td>\n",
       "    </tr>\n",
       "    <tr>\n",
       "      <th>UH</th>\n",
       "      <td>1.030439e-05</td>\n",
       "      <td>1.030439e-05</td>\n",
       "      <td>1.030439e-05</td>\n",
       "      <td>0.061837</td>\n",
       "      <td>3.092348e-02</td>\n",
       "    </tr>\n",
       "  </tbody>\n",
       "</table>\n",
       "</div>"
      ],
      "text/plain": [
       "              RBS            RP           SYM        TO            UH\n",
       "RBS  2.217069e-06  2.217069e-06  2.217069e-06  0.008870  2.217069e-06\n",
       "RP   3.756509e-07  7.516775e-04  3.756509e-07  0.051089  3.756509e-07\n",
       "SYM  1.722772e-05  1.722772e-05  1.722772e-05  0.000017  1.722772e-05\n",
       "TO   4.477336e-05  4.472863e-08  4.472863e-08  0.000090  4.477336e-05\n",
       "UH   1.030439e-05  1.030439e-05  1.030439e-05  0.061837  3.092348e-02"
      ]
     },
     "execution_count": 23,
     "metadata": {},
     "output_type": "execute_result"
    }
   ],
   "source": [
    "A_sub = pd.DataFrame(A[30:35,30:35], index=states[30:35], columns=states[30:35])\n",
    "A_sub"
   ]
  },
  {
   "cell_type": "code",
   "execution_count": 24,
   "id": "f35f4c89",
   "metadata": {
    "execution": {
     "iopub.execute_input": "2025-05-23T16:20:32.141131Z",
     "iopub.status.busy": "2025-05-23T16:20:32.140827Z",
     "iopub.status.idle": "2025-05-23T16:20:32.147383Z",
     "shell.execute_reply": "2025-05-23T16:20:32.146456Z"
    },
    "papermill": {
     "duration": 0.017285,
     "end_time": "2025-05-23T16:20:32.149096",
     "exception": false,
     "start_time": "2025-05-23T16:20:32.131811",
     "status": "completed"
    },
    "tags": []
   },
   "outputs": [],
   "source": [
    "def create_emi_mat(emission_counts, tag_counts, vocab, alpha):\n",
    "    num_tags = len(tag_counts)\n",
    "    all_tags = sorted(tag_counts.keys())\n",
    "    num_words = len(vocab)\n",
    "\n",
    "    B = np.zeros((num_tags, num_words))\n",
    "\n",
    "    for i in range(num_tags):\n",
    "        for j in range(num_words):\n",
    "            a = all_tags[i]\n",
    "            b = vocab[j]\n",
    "\n",
    "            count = emission_counts.get((a,b),0)\n",
    "            count_t = tag_counts[a]\n",
    "            B[i][j] = (count+alpha)/(count_t+alpha*num_words)\n",
    "    return B"
   ]
  },
  {
   "cell_type": "code",
   "execution_count": 25,
   "id": "3ef7beba",
   "metadata": {
    "execution": {
     "iopub.execute_input": "2025-05-23T16:20:32.168944Z",
     "iopub.status.busy": "2025-05-23T16:20:32.168496Z",
     "iopub.status.idle": "2025-05-23T16:20:32.925622Z",
     "shell.execute_reply": "2025-05-23T16:20:32.924527Z"
    },
    "papermill": {
     "duration": 0.76961,
     "end_time": "2025-05-23T16:20:32.927387",
     "exception": false,
     "start_time": "2025-05-23T16:20:32.157777",
     "status": "completed"
    },
    "tags": []
   },
   "outputs": [],
   "source": [
    "B = create_emi_mat(emission_counts, tag_counts, list(vocab), 0.001)"
   ]
  },
  {
   "cell_type": "code",
   "execution_count": 26,
   "id": "12f15dbe",
   "metadata": {
    "execution": {
     "iopub.execute_input": "2025-05-23T16:20:32.946474Z",
     "iopub.status.busy": "2025-05-23T16:20:32.946109Z",
     "iopub.status.idle": "2025-05-23T16:20:32.952364Z",
     "shell.execute_reply": "2025-05-23T16:20:32.951363Z"
    },
    "papermill": {
     "duration": 0.018364,
     "end_time": "2025-05-23T16:20:32.953957",
     "exception": false,
     "start_time": "2025-05-23T16:20:32.935593",
     "status": "completed"
    },
    "tags": []
   },
   "outputs": [
    {
     "data": {
      "text/plain": [
       "6.032199882975323e-06"
      ]
     },
     "execution_count": 26,
     "metadata": {},
     "output_type": "execute_result"
    }
   ],
   "source": [
    "B[0][0]"
   ]
  },
  {
   "cell_type": "code",
   "execution_count": 27,
   "id": "d2bd7e8a",
   "metadata": {
    "execution": {
     "iopub.execute_input": "2025-05-23T16:20:32.971501Z",
     "iopub.status.busy": "2025-05-23T16:20:32.971164Z",
     "iopub.status.idle": "2025-05-23T16:20:32.986008Z",
     "shell.execute_reply": "2025-05-23T16:20:32.984967Z"
    },
    "papermill": {
     "duration": 0.025662,
     "end_time": "2025-05-23T16:20:32.987803",
     "exception": false,
     "start_time": "2025-05-23T16:20:32.962141",
     "status": "completed"
    },
    "tags": []
   },
   "outputs": [
    {
     "data": {
      "text/html": [
       "<div>\n",
       "<style scoped>\n",
       "    .dataframe tbody tr th:only-of-type {\n",
       "        vertical-align: middle;\n",
       "    }\n",
       "\n",
       "    .dataframe tbody tr th {\n",
       "        vertical-align: top;\n",
       "    }\n",
       "\n",
       "    .dataframe thead th {\n",
       "        text-align: right;\n",
       "    }\n",
       "</style>\n",
       "<table border=\"1\" class=\"dataframe\">\n",
       "  <thead>\n",
       "    <tr style=\"text-align: right;\">\n",
       "      <th></th>\n",
       "      <th>725</th>\n",
       "      <th>adroitly</th>\n",
       "      <th>engineers</th>\n",
       "      <th>promoted</th>\n",
       "      <th>synergy</th>\n",
       "    </tr>\n",
       "  </thead>\n",
       "  <tbody>\n",
       "    <tr>\n",
       "      <th>CD</th>\n",
       "      <td>8.201296e-05</td>\n",
       "      <td>2.732854e-08</td>\n",
       "      <td>2.732854e-08</td>\n",
       "      <td>2.732854e-08</td>\n",
       "      <td>2.732854e-08</td>\n",
       "    </tr>\n",
       "    <tr>\n",
       "      <th>NN</th>\n",
       "      <td>7.521128e-09</td>\n",
       "      <td>7.521128e-09</td>\n",
       "      <td>7.521128e-09</td>\n",
       "      <td>7.521128e-09</td>\n",
       "      <td>2.257091e-05</td>\n",
       "    </tr>\n",
       "    <tr>\n",
       "      <th>NNS</th>\n",
       "      <td>1.670013e-08</td>\n",
       "      <td>1.670013e-08</td>\n",
       "      <td>4.676203e-04</td>\n",
       "      <td>1.670013e-08</td>\n",
       "      <td>1.670013e-08</td>\n",
       "    </tr>\n",
       "    <tr>\n",
       "      <th>VB</th>\n",
       "      <td>3.779036e-08</td>\n",
       "      <td>3.779036e-08</td>\n",
       "      <td>3.779036e-08</td>\n",
       "      <td>3.779036e-08</td>\n",
       "      <td>3.779036e-08</td>\n",
       "    </tr>\n",
       "    <tr>\n",
       "      <th>RB</th>\n",
       "      <td>3.226454e-08</td>\n",
       "      <td>6.456135e-05</td>\n",
       "      <td>3.226454e-08</td>\n",
       "      <td>3.226454e-08</td>\n",
       "      <td>3.226454e-08</td>\n",
       "    </tr>\n",
       "    <tr>\n",
       "      <th>RP</th>\n",
       "      <td>3.723317e-07</td>\n",
       "      <td>3.723317e-07</td>\n",
       "      <td>3.723317e-07</td>\n",
       "      <td>3.723317e-07</td>\n",
       "      <td>3.723317e-07</td>\n",
       "    </tr>\n",
       "  </tbody>\n",
       "</table>\n",
       "</div>"
      ],
      "text/plain": [
       "              725      adroitly     engineers      promoted       synergy\n",
       "CD   8.201296e-05  2.732854e-08  2.732854e-08  2.732854e-08  2.732854e-08\n",
       "NN   7.521128e-09  7.521128e-09  7.521128e-09  7.521128e-09  2.257091e-05\n",
       "NNS  1.670013e-08  1.670013e-08  4.676203e-04  1.670013e-08  1.670013e-08\n",
       "VB   3.779036e-08  3.779036e-08  3.779036e-08  3.779036e-08  3.779036e-08\n",
       "RB   3.226454e-08  6.456135e-05  3.226454e-08  3.226454e-08  3.226454e-08\n",
       "RP   3.723317e-07  3.723317e-07  3.723317e-07  3.723317e-07  3.723317e-07"
      ]
     },
     "execution_count": 27,
     "metadata": {},
     "output_type": "execute_result"
    }
   ],
   "source": [
    "cidx = ['725','adroitly','engineers', 'promoted', 'synergy']\n",
    "cols = [vocab[a] for a in cidx]\n",
    "\n",
    "rvals =['CD','NN','NNS', 'VB','RB','RP']\n",
    "rows = [states.index(a) for a in rvals]\n",
    "\n",
    "B_sub = pd.DataFrame(B[np.ix_(rows,cols)], index=rvals, columns = cidx)\n",
    "B_sub"
   ]
  },
  {
   "cell_type": "markdown",
   "id": "22bce647",
   "metadata": {
    "papermill": {
     "duration": 0.009543,
     "end_time": "2025-05-23T16:20:33.005874",
     "exception": false,
     "start_time": "2025-05-23T16:20:32.996331",
     "status": "completed"
    },
    "tags": []
   },
   "source": [
    "**Viterbi Algorithm and Dynamic Programming**"
   ]
  },
  {
   "cell_type": "code",
   "execution_count": 28,
   "id": "a6a360f6",
   "metadata": {
    "execution": {
     "iopub.execute_input": "2025-05-23T16:20:33.023790Z",
     "iopub.status.busy": "2025-05-23T16:20:33.023337Z",
     "iopub.status.idle": "2025-05-23T16:20:33.029457Z",
     "shell.execute_reply": "2025-05-23T16:20:33.028651Z"
    },
    "papermill": {
     "duration": 0.01684,
     "end_time": "2025-05-23T16:20:33.030955",
     "exception": false,
     "start_time": "2025-05-23T16:20:33.014115",
     "status": "completed"
    },
    "tags": []
   },
   "outputs": [],
   "source": [
    "def initialize(states, tag_counts, A, B, corpus, vocab):\n",
    "    num_tags = len(tag_counts)\n",
    "    best_probs = np.zeros((num_tags, len(corpus)))\n",
    "    best_paths = np.zeros((num_tags, len(corpus)), dtype=int)\n",
    "\n",
    "    s_idx = states.index(\"--s--\")\n",
    "\n",
    "    for i in range(num_tags):\n",
    "        if A[s_idx,i] == 0:\n",
    "            best_probs[i,0] = float('-inf')\n",
    "\n",
    "        else:\n",
    "            best_probs[i,0] = np.log(A[s_idx,i]) + np.log(B[i,vocab[corpus[0]]])\n",
    "    return best_probs, best_paths  "
   ]
  },
  {
   "cell_type": "code",
   "execution_count": 29,
   "id": "538dcd35",
   "metadata": {
    "execution": {
     "iopub.execute_input": "2025-05-23T16:20:33.049825Z",
     "iopub.status.busy": "2025-05-23T16:20:33.049468Z",
     "iopub.status.idle": "2025-05-23T16:20:33.055989Z",
     "shell.execute_reply": "2025-05-23T16:20:33.054950Z"
    },
    "papermill": {
     "duration": 0.017631,
     "end_time": "2025-05-23T16:20:33.057356",
     "exception": false,
     "start_time": "2025-05-23T16:20:33.039725",
     "status": "completed"
    },
    "tags": []
   },
   "outputs": [
    {
     "name": "stdout",
     "output_type": "stream",
     "text": [
      "-22.6098\n"
     ]
    }
   ],
   "source": [
    "best_probs, best_paths = initialize(states, tag_counts, A, B, prep, vocab)\n",
    "print(f\"{best_probs[0,0]:.4f}\")"
   ]
  },
  {
   "cell_type": "code",
   "execution_count": 30,
   "id": "71ca2248",
   "metadata": {
    "execution": {
     "iopub.execute_input": "2025-05-23T16:20:33.076553Z",
     "iopub.status.busy": "2025-05-23T16:20:33.076236Z",
     "iopub.status.idle": "2025-05-23T16:20:33.083375Z",
     "shell.execute_reply": "2025-05-23T16:20:33.082197Z"
    },
    "papermill": {
     "duration": 0.019484,
     "end_time": "2025-05-23T16:20:33.085283",
     "exception": false,
     "start_time": "2025-05-23T16:20:33.065799",
     "status": "completed"
    },
    "tags": []
   },
   "outputs": [],
   "source": [
    "def viterbi_forward(A, B, test_corpus, best_probs, best_paths, vocab):\n",
    "    num_tags = best_probs.shape[0]\n",
    "    for i in range(1, len(test_corpus)):\n",
    "        if i%5000 == 0:\n",
    "            print(\"Words processed: {:>8}\".format(i))\n",
    "\n",
    "        for j in range(num_tags):\n",
    "            best_prob_i = float('-inf')\n",
    "\n",
    "            best_path_i = None\n",
    "\n",
    "            for k in range(num_tags):\n",
    "                prob = best_probs[k,i-1] + np.log(A[k,j]) + np.log(B[j,vocab[test_corpus[i]]])\n",
    "                if prob>best_prob_i:\n",
    "                    best_prob_i = prob\n",
    "                    best_path_i = k\n",
    "                    \n",
    "            best_probs[j,i] = best_prob_i\n",
    "            best_paths[j,i] = best_path_i\n",
    "    return best_probs, best_paths"
   ]
  },
  {
   "cell_type": "code",
   "execution_count": 31,
   "id": "d83d5927",
   "metadata": {
    "execution": {
     "iopub.execute_input": "2025-05-23T16:20:33.105085Z",
     "iopub.status.busy": "2025-05-23T16:20:33.104738Z",
     "iopub.status.idle": "2025-05-23T16:23:48.742917Z",
     "shell.execute_reply": "2025-05-23T16:23:48.741937Z"
    },
    "papermill": {
     "duration": 195.649366,
     "end_time": "2025-05-23T16:23:48.744774",
     "exception": false,
     "start_time": "2025-05-23T16:20:33.095408",
     "status": "completed"
    },
    "tags": []
   },
   "outputs": [
    {
     "name": "stdout",
     "output_type": "stream",
     "text": [
      "Words processed:     5000\n",
      "Words processed:    10000\n",
      "Words processed:    15000\n",
      "Words processed:    20000\n",
      "Words processed:    25000\n",
      "Words processed:    30000\n"
     ]
    }
   ],
   "source": [
    "best_probs, best_paths = viterbi_forward(A,B,prep,best_probs,best_paths,vocab)"
   ]
  },
  {
   "cell_type": "code",
   "execution_count": 32,
   "id": "18c3facc",
   "metadata": {
    "execution": {
     "iopub.execute_input": "2025-05-23T16:23:48.764674Z",
     "iopub.status.busy": "2025-05-23T16:23:48.764340Z",
     "iopub.status.idle": "2025-05-23T16:23:48.771608Z",
     "shell.execute_reply": "2025-05-23T16:23:48.770502Z"
    },
    "papermill": {
     "duration": 0.019428,
     "end_time": "2025-05-23T16:23:48.773073",
     "exception": false,
     "start_time": "2025-05-23T16:23:48.753645",
     "status": "completed"
    },
    "tags": []
   },
   "outputs": [
    {
     "data": {
      "text/plain": [
       "-24.78215632717346"
      ]
     },
     "execution_count": 32,
     "metadata": {},
     "output_type": "execute_result"
    }
   ],
   "source": [
    "best_probs[0,1]"
   ]
  },
  {
   "cell_type": "markdown",
   "id": "13ce5752",
   "metadata": {
    "papermill": {
     "duration": 0.008506,
     "end_time": "2025-05-23T16:23:48.790392",
     "exception": false,
     "start_time": "2025-05-23T16:23:48.781886",
     "status": "completed"
    },
    "tags": []
   },
   "source": [
    "**Viterbi Backward**"
   ]
  },
  {
   "cell_type": "code",
   "execution_count": 33,
   "id": "8868c5c7",
   "metadata": {
    "execution": {
     "iopub.execute_input": "2025-05-23T16:23:48.808947Z",
     "iopub.status.busy": "2025-05-23T16:23:48.808514Z",
     "iopub.status.idle": "2025-05-23T16:23:48.815841Z",
     "shell.execute_reply": "2025-05-23T16:23:48.814611Z"
    },
    "papermill": {
     "duration": 0.018614,
     "end_time": "2025-05-23T16:23:48.817532",
     "exception": false,
     "start_time": "2025-05-23T16:23:48.798918",
     "status": "completed"
    },
    "tags": []
   },
   "outputs": [],
   "source": [
    "def viterbi_backward(best_probs, best_paths, corpus, states):\n",
    "    m = best_paths.shape[1]\n",
    "    z = [None] * m\n",
    "    num_tags = best_paths.shape[0]\n",
    "\n",
    "    best_prob_for_last_word = float('-inf')\n",
    "\n",
    "    pred = [None]*m\n",
    "\n",
    "    for i in range(num_tags):\n",
    "        if best_probs[i,-1]>best_prob_for_last_word:\n",
    "            best_prob_for_last_word = best_probs[i,-1]\n",
    "            z[m-1] = i\n",
    "\n",
    "    pred[m-1] = states[z[m-1]]\n",
    "\n",
    "    for i in range(len(corpus)-1,-1,-1):\n",
    "        pos_tag_for_word_i = best_paths[np.argmax(best_probs[:,i]),i]\n",
    "        z[i-1] = best_paths[pos_tag_for_word_i,i]\n",
    "\n",
    "        pred[i-1] = states[pos_tag_for_word_i]\n",
    "    return pred\n",
    "    "
   ]
  },
  {
   "cell_type": "code",
   "execution_count": 34,
   "id": "605df97e",
   "metadata": {
    "execution": {
     "iopub.execute_input": "2025-05-23T16:23:48.839892Z",
     "iopub.status.busy": "2025-05-23T16:23:48.839551Z",
     "iopub.status.idle": "2025-05-23T16:23:48.988312Z",
     "shell.execute_reply": "2025-05-23T16:23:48.987419Z"
    },
    "papermill": {
     "duration": 0.161451,
     "end_time": "2025-05-23T16:23:48.989917",
     "exception": false,
     "start_time": "2025-05-23T16:23:48.828466",
     "status": "completed"
    },
    "tags": []
   },
   "outputs": [],
   "source": [
    "pred = viterbi_backward(best_probs, best_paths, prep, states)\n"
   ]
  },
  {
   "cell_type": "code",
   "execution_count": 35,
   "id": "fc02d1fb",
   "metadata": {
    "execution": {
     "iopub.execute_input": "2025-05-23T16:23:49.011142Z",
     "iopub.status.busy": "2025-05-23T16:23:49.010814Z",
     "iopub.status.idle": "2025-05-23T16:23:49.016870Z",
     "shell.execute_reply": "2025-05-23T16:23:49.015761Z"
    },
    "papermill": {
     "duration": 0.019523,
     "end_time": "2025-05-23T16:23:49.018547",
     "exception": false,
     "start_time": "2025-05-23T16:23:48.999024",
     "status": "completed"
    },
    "tags": []
   },
   "outputs": [
    {
     "name": "stdout",
     "output_type": "stream",
     "text": [
      "['see', 'them', 'here', 'with', 'us', '.']\n",
      "['VB', 'PRP', 'RB', 'IN', 'PRP', '.']\n",
      "['The', 'economy', \"'s\", 'temperature', 'will', 'be', 'taken']\n",
      "['DT', 'NN', 'POS', 'NN', 'MD', 'VB', 'VBN']\n"
     ]
    }
   ],
   "source": [
    "m = len(pred)\n",
    "print(prep[-7:m-1])\n",
    "print(pred[-7:m-1],end=\"\\n\")\n",
    "print(prep[:7])\n",
    "print(pred[:7],end=\"\\n\")"
   ]
  },
  {
   "cell_type": "markdown",
   "id": "54671cd0",
   "metadata": {
    "papermill": {
     "duration": 0.008197,
     "end_time": "2025-05-23T16:23:49.035465",
     "exception": false,
     "start_time": "2025-05-23T16:23:49.027268",
     "status": "completed"
    },
    "tags": []
   },
   "source": [
    "**Accuracy**"
   ]
  },
  {
   "cell_type": "code",
   "execution_count": 36,
   "id": "84c361f6",
   "metadata": {
    "execution": {
     "iopub.execute_input": "2025-05-23T16:23:49.054251Z",
     "iopub.status.busy": "2025-05-23T16:23:49.053939Z",
     "iopub.status.idle": "2025-05-23T16:23:49.059736Z",
     "shell.execute_reply": "2025-05-23T16:23:49.058762Z"
    },
    "papermill": {
     "duration": 0.016895,
     "end_time": "2025-05-23T16:23:49.061253",
     "exception": false,
     "start_time": "2025-05-23T16:23:49.044358",
     "status": "completed"
    },
    "tags": []
   },
   "outputs": [],
   "source": [
    "def compute_accuracy(pred,y):\n",
    "    total = 0\n",
    "    num_crct = 0\n",
    "    for predi,y in zip(pred,y):\n",
    "        word_tag_tup = y.split()\n",
    "        if len(word_tag_tup)!=2:\n",
    "            continue\n",
    "        word,tag = word_tag_tup\n",
    "        if predi == tag:\n",
    "            num_crct+=1\n",
    "        total+=1\n",
    "    return num_crct/total"
   ]
  },
  {
   "cell_type": "code",
   "execution_count": 37,
   "id": "ecace544",
   "metadata": {
    "execution": {
     "iopub.execute_input": "2025-05-23T16:23:49.080512Z",
     "iopub.status.busy": "2025-05-23T16:23:49.080191Z",
     "iopub.status.idle": "2025-05-23T16:23:49.096821Z",
     "shell.execute_reply": "2025-05-23T16:23:49.095631Z"
    },
    "papermill": {
     "duration": 0.027836,
     "end_time": "2025-05-23T16:23:49.098342",
     "exception": false,
     "start_time": "2025-05-23T16:23:49.070506",
     "status": "completed"
    },
    "tags": []
   },
   "outputs": [
    {
     "data": {
      "text/plain": [
       "0.9527592609502937"
      ]
     },
     "execution_count": 37,
     "metadata": {},
     "output_type": "execute_result"
    }
   ],
   "source": [
    "accuracy = compute_accuracy(pred,y)\n",
    "accuracy"
   ]
  }
 ],
 "metadata": {
  "kaggle": {
   "accelerator": "none",
   "dataSources": [
    {
     "datasetId": 7428875,
     "sourceId": 11825962,
     "sourceType": "datasetVersion"
    }
   ],
   "dockerImageVersionId": 31040,
   "isGpuEnabled": false,
   "isInternetEnabled": false,
   "language": "python",
   "sourceType": "notebook"
  },
  "kernelspec": {
   "display_name": "Python 3",
   "language": "python",
   "name": "python3"
  },
  "language_info": {
   "codemirror_mode": {
    "name": "ipython",
    "version": 3
   },
   "file_extension": ".py",
   "mimetype": "text/x-python",
   "name": "python",
   "nbconvert_exporter": "python",
   "pygments_lexer": "ipython3",
   "version": "3.11.11"
  },
  "papermill": {
   "default_parameters": {},
   "duration": 207.935084,
   "end_time": "2025-05-23T16:23:49.729841",
   "environment_variables": {},
   "exception": null,
   "input_path": "__notebook__.ipynb",
   "output_path": "__notebook__.ipynb",
   "parameters": {},
   "start_time": "2025-05-23T16:20:21.794757",
   "version": "2.6.0"
  }
 },
 "nbformat": 4,
 "nbformat_minor": 5
}
