{
 "cells": [
  {
   "cell_type": "code",
   "execution_count": 1,
   "id": "a4fbf461",
   "metadata": {
    "_cell_guid": "b1076dfc-b9ad-4769-8c92-a6c4dae69d19",
    "_uuid": "8f2839f25d086af736a60e9eeb907d3b93b6e0e5",
    "execution": {
     "iopub.execute_input": "2025-05-15T15:54:19.525504Z",
     "iopub.status.busy": "2025-05-15T15:54:19.525182Z",
     "iopub.status.idle": "2025-05-15T15:54:21.519444Z",
     "shell.execute_reply": "2025-05-15T15:54:21.518349Z"
    },
    "papermill": {
     "duration": 2.003038,
     "end_time": "2025-05-15T15:54:21.521340",
     "exception": false,
     "start_time": "2025-05-15T15:54:19.518302",
     "status": "completed"
    },
    "tags": []
   },
   "outputs": [
    {
     "name": "stdout",
     "output_type": "stream",
     "text": [
      "/kaggle/input/wall-street-journal/WSJ_02-21.pos\n"
     ]
    }
   ],
   "source": [
    "# This Python 3 environment comes with many helpful analytics libraries installed\n",
    "# It is defined by the kaggle/python Docker image: https://github.com/kaggle/docker-python\n",
    "# For example, here's several helpful packages to load\n",
    "\n",
    "import numpy as np # linear algebra\n",
    "import pandas as pd # data processing, CSV file I/O (e.g. pd.read_csv)\n",
    "\n",
    "# Input data files are available in the read-only \"../input/\" directory\n",
    "# For example, running this (by clicking run or pressing Shift+Enter) will list all files under the input directory\n",
    "\n",
    "import os\n",
    "for dirname, _, filenames in os.walk('/kaggle/input'):\n",
    "    for filename in filenames:\n",
    "        print(os.path.join(dirname, filename))\n",
    "\n",
    "# You can write up to 20GB to the current directory (/kaggle/working/) that gets preserved as output when you create a version using \"Save & Run All\" \n",
    "# You can also write temporary files to /kaggle/temp/, but they won't be saved outside of the current session"
   ]
  },
  {
   "cell_type": "code",
   "execution_count": 2,
   "id": "68e06bb1",
   "metadata": {
    "execution": {
     "iopub.execute_input": "2025-05-15T15:54:21.533349Z",
     "iopub.status.busy": "2025-05-15T15:54:21.532891Z",
     "iopub.status.idle": "2025-05-15T15:54:21.537731Z",
     "shell.execute_reply": "2025-05-15T15:54:21.536809Z"
    },
    "papermill": {
     "duration": 0.012566,
     "end_time": "2025-05-15T15:54:21.539248",
     "exception": false,
     "start_time": "2025-05-15T15:54:21.526682",
     "status": "completed"
    },
    "tags": []
   },
   "outputs": [],
   "source": [
    "import string\n",
    "from collections import defaultdict"
   ]
  },
  {
   "cell_type": "markdown",
   "id": "e3daad99",
   "metadata": {
    "papermill": {
     "duration": 0.004507,
     "end_time": "2025-05-15T15:54:21.548774",
     "exception": false,
     "start_time": "2025-05-15T15:54:21.544267",
     "status": "completed"
    },
    "tags": []
   },
   "source": [
    "**Reading Data**"
   ]
  },
  {
   "cell_type": "code",
   "execution_count": 3,
   "id": "8ea5353b",
   "metadata": {
    "execution": {
     "iopub.execute_input": "2025-05-15T15:54:21.559421Z",
     "iopub.status.busy": "2025-05-15T15:54:21.559084Z",
     "iopub.status.idle": "2025-05-15T15:54:21.563636Z",
     "shell.execute_reply": "2025-05-15T15:54:21.562648Z"
    },
    "papermill": {
     "duration": 0.011988,
     "end_time": "2025-05-15T15:54:21.565414",
     "exception": false,
     "start_time": "2025-05-15T15:54:21.553426",
     "status": "completed"
    },
    "tags": []
   },
   "outputs": [],
   "source": [
    "file = '/kaggle/input/wall-street-journal/WSJ_02-21.pos'"
   ]
  },
  {
   "cell_type": "code",
   "execution_count": 4,
   "id": "7afc740d",
   "metadata": {
    "execution": {
     "iopub.execute_input": "2025-05-15T15:54:21.576241Z",
     "iopub.status.busy": "2025-05-15T15:54:21.575908Z",
     "iopub.status.idle": "2025-05-15T15:54:21.754012Z",
     "shell.execute_reply": "2025-05-15T15:54:21.752853Z"
    },
    "papermill": {
     "duration": 0.185892,
     "end_time": "2025-05-15T15:54:21.756160",
     "exception": false,
     "start_time": "2025-05-15T15:54:21.570268",
     "status": "completed"
    },
    "tags": []
   },
   "outputs": [],
   "source": [
    "with open(file,'r') as f:\n",
    "    lines = f.readlines()"
   ]
  },
  {
   "cell_type": "code",
   "execution_count": 5,
   "id": "d0c71018",
   "metadata": {
    "execution": {
     "iopub.execute_input": "2025-05-15T15:54:21.769991Z",
     "iopub.status.busy": "2025-05-15T15:54:21.769601Z",
     "iopub.status.idle": "2025-05-15T15:54:21.778636Z",
     "shell.execute_reply": "2025-05-15T15:54:21.777194Z"
    },
    "papermill": {
     "duration": 0.018376,
     "end_time": "2025-05-15T15:54:21.781828",
     "exception": false,
     "start_time": "2025-05-15T15:54:21.763452",
     "status": "completed"
    },
    "tags": []
   },
   "outputs": [
    {
     "data": {
      "text/plain": [
       "['In\\tIN\\n', 'an\\tDT\\n', 'Oct.\\tNNP\\n', '19\\tCD\\n', 'review\\tNN\\n']"
      ]
     },
     "execution_count": 5,
     "metadata": {},
     "output_type": "execute_result"
    }
   ],
   "source": [
    "lines[:5]"
   ]
  },
  {
   "cell_type": "code",
   "execution_count": 6,
   "id": "d2c1be1f",
   "metadata": {
    "execution": {
     "iopub.execute_input": "2025-05-15T15:54:21.795029Z",
     "iopub.status.busy": "2025-05-15T15:54:21.794629Z",
     "iopub.status.idle": "2025-05-15T15:54:21.800106Z",
     "shell.execute_reply": "2025-05-15T15:54:21.799164Z"
    },
    "papermill": {
     "duration": 0.012881,
     "end_time": "2025-05-15T15:54:21.801557",
     "exception": false,
     "start_time": "2025-05-15T15:54:21.788676",
     "status": "completed"
    },
    "tags": []
   },
   "outputs": [
    {
     "name": "stdout",
     "output_type": "stream",
     "text": [
      "\t\tWord \tTag\n",
      "\n",
      "line number 1: In\tIN\n",
      "\n",
      "line number 2: an\tDT\n",
      "\n",
      "line number 3: Oct.\tNNP\n",
      "\n",
      "line number 4: 19\tCD\n",
      "\n",
      "line number 5: review\tNN\n",
      "\n"
     ]
    }
   ],
   "source": [
    "print(\"\\t\\tWord\", \"\\tTag\\n\")\n",
    "for i in range(5):\n",
    "    print(f'line number {i+1}: {lines[i]}')"
   ]
  },
  {
   "cell_type": "code",
   "execution_count": 7,
   "id": "da4d7061",
   "metadata": {
    "execution": {
     "iopub.execute_input": "2025-05-15T15:54:21.812911Z",
     "iopub.status.busy": "2025-05-15T15:54:21.812594Z",
     "iopub.status.idle": "2025-05-15T15:54:22.075776Z",
     "shell.execute_reply": "2025-05-15T15:54:22.074722Z"
    },
    "papermill": {
     "duration": 0.270852,
     "end_time": "2025-05-15T15:54:22.077636",
     "exception": false,
     "start_time": "2025-05-15T15:54:21.806784",
     "status": "completed"
    },
    "tags": []
   },
   "outputs": [
    {
     "data": {
      "text/plain": [
       "'In'"
      ]
     },
     "execution_count": 7,
     "metadata": {},
     "output_type": "execute_result"
    }
   ],
   "source": [
    "words = [line.split('\\t')[0] for line in lines]\n",
    "words[0]"
   ]
  },
  {
   "cell_type": "code",
   "execution_count": 8,
   "id": "dad14033",
   "metadata": {
    "execution": {
     "iopub.execute_input": "2025-05-15T15:54:22.095871Z",
     "iopub.status.busy": "2025-05-15T15:54:22.095562Z",
     "iopub.status.idle": "2025-05-15T15:54:22.349223Z",
     "shell.execute_reply": "2025-05-15T15:54:22.348171Z"
    },
    "papermill": {
     "duration": 0.264451,
     "end_time": "2025-05-15T15:54:22.351065",
     "exception": false,
     "start_time": "2025-05-15T15:54:22.086614",
     "status": "completed"
    },
    "tags": []
   },
   "outputs": [],
   "source": [
    "freq = defaultdict(int)\n",
    "for word in words:\n",
    "    freq[word] += 1"
   ]
  },
  {
   "cell_type": "code",
   "execution_count": 9,
   "id": "dd78a993",
   "metadata": {
    "execution": {
     "iopub.execute_input": "2025-05-15T15:54:22.363010Z",
     "iopub.status.busy": "2025-05-15T15:54:22.362678Z",
     "iopub.status.idle": "2025-05-15T15:54:22.373309Z",
     "shell.execute_reply": "2025-05-15T15:54:22.372480Z"
    },
    "papermill": {
     "duration": 0.017977,
     "end_time": "2025-05-15T15:54:22.374752",
     "exception": false,
     "start_time": "2025-05-15T15:54:22.356775",
     "status": "completed"
    },
    "tags": []
   },
   "outputs": [],
   "source": [
    "vocab = [k for k,v in freq.items() if (v>1 and k!='\\n')]"
   ]
  },
  {
   "cell_type": "code",
   "execution_count": 10,
   "id": "30594bf9",
   "metadata": {
    "execution": {
     "iopub.execute_input": "2025-05-15T15:54:22.386912Z",
     "iopub.status.busy": "2025-05-15T15:54:22.386313Z",
     "iopub.status.idle": "2025-05-15T15:54:22.402050Z",
     "shell.execute_reply": "2025-05-15T15:54:22.401109Z"
    },
    "papermill": {
     "duration": 0.023432,
     "end_time": "2025-05-15T15:54:22.403710",
     "exception": false,
     "start_time": "2025-05-15T15:54:22.380278",
     "status": "completed"
    },
    "tags": []
   },
   "outputs": [],
   "source": [
    "vocab.sort()"
   ]
  },
  {
   "cell_type": "code",
   "execution_count": 11,
   "id": "077749a8",
   "metadata": {
    "execution": {
     "iopub.execute_input": "2025-05-15T15:54:22.415919Z",
     "iopub.status.busy": "2025-05-15T15:54:22.415349Z",
     "iopub.status.idle": "2025-05-15T15:54:22.423917Z",
     "shell.execute_reply": "2025-05-15T15:54:22.422854Z"
    },
    "papermill": {
     "duration": 0.016667,
     "end_time": "2025-05-15T15:54:22.425698",
     "exception": false,
     "start_time": "2025-05-15T15:54:22.409031",
     "status": "completed"
    },
    "tags": []
   },
   "outputs": [],
   "source": [
    "def assign_unk(word):\n",
    "    punct = string.punctuation\n",
    "    noun_suffs = [\"action\", \"age\", \"ance\", \"cy\", \"dom\", \"ee\", \"ence\", \"er\", \"hood\", \"ion\", \"ism\", \"ist\", \"ity\", \"ling\", \"ment\", \"ness\", \"or\", \"ry\", \"scape\", \"ship\", \"ty\"]\n",
    "    verb_suffs = [\"ate\", \"ify\", \"ise\", \"ize\"]\n",
    "    adj_suffs = [\"able\", \"ese\", \"ful\", \"i\", \"ian\", \"ible\", \"ic\", \"ish\", \"ive\", \"less\", \"ly\", \"ous\"]\n",
    "    adv_suffs = [\"ward\", \"wards\", \"wise\"]\n",
    "    \n",
    "    if any(char.isdigit() for char in word):\n",
    "        return \"--unk_digit--\"\n",
    "\n",
    "    elif any(char in punct for char in word):\n",
    "        return \"--unk_punct--\"\n",
    "\n",
    "    elif any(char.isupper() for char in word):\n",
    "        return \"--unk_upper--\"\n",
    "\n",
    "    elif any(word.endswith(suff) for suff in noun_suffs):\n",
    "        return \"--unk_noun--\"\n",
    "\n",
    "    elif any(word.endswith(suff) for suff in verb_suffs):\n",
    "        return \"--unk_verb\"\n",
    "\n",
    "    elif any(word.endswith(suff) for suff in adj_suffs):\n",
    "        return \"--unk_adj--\"\n",
    "\n",
    "    elif any(word.endswith(suff) for suff in adv_suffs):\n",
    "        return \"--unk_adv--\"\n",
    "\n",
    "    return \"unk--\"\n",
    "    "
   ]
  },
  {
   "cell_type": "code",
   "execution_count": 12,
   "id": "9eaa8e1e",
   "metadata": {
    "execution": {
     "iopub.execute_input": "2025-05-15T15:54:22.437665Z",
     "iopub.status.busy": "2025-05-15T15:54:22.437354Z",
     "iopub.status.idle": "2025-05-15T15:54:22.443071Z",
     "shell.execute_reply": "2025-05-15T15:54:22.442113Z"
    },
    "papermill": {
     "duration": 0.013775,
     "end_time": "2025-05-15T15:54:22.444773",
     "exception": false,
     "start_time": "2025-05-15T15:54:22.430998",
     "status": "completed"
    },
    "tags": []
   },
   "outputs": [],
   "source": [
    "def get_word_tag(line, vocab):\n",
    "    if not(line.split()):\n",
    "        word = \"--n--\"\n",
    "        tag = \"--s--\"\n",
    "    else:\n",
    "        word,tag = line.split()\n",
    "        if word not in vocab:\n",
    "            word = assign_unk(word)\n",
    "    return word, tag"
   ]
  },
  {
   "cell_type": "code",
   "execution_count": 13,
   "id": "1eacfddb",
   "metadata": {
    "execution": {
     "iopub.execute_input": "2025-05-15T15:54:22.457891Z",
     "iopub.status.busy": "2025-05-15T15:54:22.457563Z",
     "iopub.status.idle": "2025-05-15T15:54:22.463699Z",
     "shell.execute_reply": "2025-05-15T15:54:22.462695Z"
    },
    "papermill": {
     "duration": 0.014772,
     "end_time": "2025-05-15T15:54:22.465415",
     "exception": false,
     "start_time": "2025-05-15T15:54:22.450643",
     "status": "completed"
    },
    "tags": []
   },
   "outputs": [
    {
     "data": {
      "text/plain": [
       "('--n--', '--s--')"
      ]
     },
     "execution_count": 13,
     "metadata": {},
     "output_type": "execute_result"
    }
   ],
   "source": [
    "get_word_tag('\\n', vocab)"
   ]
  },
  {
   "cell_type": "code",
   "execution_count": 14,
   "id": "30c1cb13",
   "metadata": {
    "execution": {
     "iopub.execute_input": "2025-05-15T15:54:22.476919Z",
     "iopub.status.busy": "2025-05-15T15:54:22.476607Z",
     "iopub.status.idle": "2025-05-15T15:54:22.482672Z",
     "shell.execute_reply": "2025-05-15T15:54:22.481584Z"
    },
    "papermill": {
     "duration": 0.014148,
     "end_time": "2025-05-15T15:54:22.484732",
     "exception": false,
     "start_time": "2025-05-15T15:54:22.470584",
     "status": "completed"
    },
    "tags": []
   },
   "outputs": [
    {
     "data": {
      "text/plain": [
       "('In', 'IN')"
      ]
     },
     "execution_count": 14,
     "metadata": {},
     "output_type": "execute_result"
    }
   ],
   "source": [
    "get_word_tag('In\\tIN\\n',vocab)"
   ]
  },
  {
   "cell_type": "code",
   "execution_count": 15,
   "id": "1d708514",
   "metadata": {
    "execution": {
     "iopub.execute_input": "2025-05-15T15:54:22.497358Z",
     "iopub.status.busy": "2025-05-15T15:54:22.496991Z",
     "iopub.status.idle": "2025-05-15T15:54:22.504697Z",
     "shell.execute_reply": "2025-05-15T15:54:22.503872Z"
    },
    "papermill": {
     "duration": 0.015674,
     "end_time": "2025-05-15T15:54:22.506499",
     "exception": false,
     "start_time": "2025-05-15T15:54:22.490825",
     "status": "completed"
    },
    "tags": []
   },
   "outputs": [
    {
     "data": {
      "text/plain": [
       "('unk--', 'NN')"
      ]
     },
     "execution_count": 15,
     "metadata": {},
     "output_type": "execute_result"
    }
   ],
   "source": [
    "get_word_tag('tardigrade\\tNN\\n', vocab)"
   ]
  },
  {
   "cell_type": "code",
   "execution_count": 16,
   "id": "8a3cc709",
   "metadata": {
    "execution": {
     "iopub.execute_input": "2025-05-15T15:54:22.518534Z",
     "iopub.status.busy": "2025-05-15T15:54:22.518219Z",
     "iopub.status.idle": "2025-05-15T15:54:22.525751Z",
     "shell.execute_reply": "2025-05-15T15:54:22.524915Z"
    },
    "papermill": {
     "duration": 0.015558,
     "end_time": "2025-05-15T15:54:22.527460",
     "exception": false,
     "start_time": "2025-05-15T15:54:22.511902",
     "status": "completed"
    },
    "tags": []
   },
   "outputs": [
    {
     "data": {
      "text/plain": [
       "('--unk_verb', 'VB')"
      ]
     },
     "execution_count": 16,
     "metadata": {},
     "output_type": "execute_result"
    }
   ],
   "source": [
    "get_word_tag('scrutinize\\tVB\\n', vocab)"
   ]
  },
  {
   "cell_type": "code",
   "execution_count": 17,
   "id": "0f1f65b7",
   "metadata": {
    "execution": {
     "iopub.execute_input": "2025-05-15T15:54:22.540183Z",
     "iopub.status.busy": "2025-05-15T15:54:22.539802Z",
     "iopub.status.idle": "2025-05-15T15:54:22.545542Z",
     "shell.execute_reply": "2025-05-15T15:54:22.544869Z"
    },
    "papermill": {
     "duration": 0.013678,
     "end_time": "2025-05-15T15:54:22.546950",
     "exception": false,
     "start_time": "2025-05-15T15:54:22.533272",
     "status": "completed"
    },
    "tags": []
   },
   "outputs": [
    {
     "data": {
      "text/plain": [
       "['RB', 'NN', 'TO']"
      ]
     },
     "execution_count": 17,
     "metadata": {},
     "output_type": "execute_result"
    }
   ],
   "source": [
    "tags = ['RB','NN','TO']\n",
    "tags"
   ]
  },
  {
   "cell_type": "code",
   "execution_count": 18,
   "id": "8f08f51e",
   "metadata": {
    "execution": {
     "iopub.execute_input": "2025-05-15T15:54:22.559845Z",
     "iopub.status.busy": "2025-05-15T15:54:22.559538Z",
     "iopub.status.idle": "2025-05-15T15:54:22.564486Z",
     "shell.execute_reply": "2025-05-15T15:54:22.563599Z"
    },
    "papermill": {
     "duration": 0.012777,
     "end_time": "2025-05-15T15:54:22.565888",
     "exception": false,
     "start_time": "2025-05-15T15:54:22.553111",
     "status": "completed"
    },
    "tags": []
   },
   "outputs": [],
   "source": [
    "trans_counts = {\n",
    "    ('NN', 'NN'): 16241,\n",
    "    ('RB', 'RB'): 2263,\n",
    "    ('TO', 'TO'): 2,\n",
    "    ('NN', 'TO'): 5256,\n",
    "    ('RB', 'TO'): 855,\n",
    "    ('TO', 'NN'): 734,\n",
    "    ('NN', 'RB'): 2431,\n",
    "    ('RB', 'NN'): 358,\n",
    "    ('TO', 'RB'): 200\n",
    "}"
   ]
  },
  {
   "cell_type": "code",
   "execution_count": 19,
   "id": "52bef159",
   "metadata": {
    "execution": {
     "iopub.execute_input": "2025-05-15T15:54:22.578072Z",
     "iopub.status.busy": "2025-05-15T15:54:22.577728Z",
     "iopub.status.idle": "2025-05-15T15:54:22.583974Z",
     "shell.execute_reply": "2025-05-15T15:54:22.583269Z"
    },
    "papermill": {
     "duration": 0.014112,
     "end_time": "2025-05-15T15:54:22.585482",
     "exception": false,
     "start_time": "2025-05-15T15:54:22.571370",
     "status": "completed"
    },
    "tags": []
   },
   "outputs": [
    {
     "data": {
      "text/plain": [
       "array([[0., 0., 0.],\n",
       "       [0., 0., 0.],\n",
       "       [0., 0., 0.]])"
      ]
     },
     "execution_count": 19,
     "metadata": {},
     "output_type": "execute_result"
    }
   ],
   "source": [
    "num_tags = len(tags)\n",
    "trans_matrix = np.zeros((num_tags, num_tags))\n",
    "trans_matrix"
   ]
  },
  {
   "cell_type": "code",
   "execution_count": 20,
   "id": "f498c68a",
   "metadata": {
    "execution": {
     "iopub.execute_input": "2025-05-15T15:54:22.597649Z",
     "iopub.status.busy": "2025-05-15T15:54:22.597362Z",
     "iopub.status.idle": "2025-05-15T15:54:22.602925Z",
     "shell.execute_reply": "2025-05-15T15:54:22.602133Z"
    },
    "papermill": {
     "duration": 0.013448,
     "end_time": "2025-05-15T15:54:22.604479",
     "exception": false,
     "start_time": "2025-05-15T15:54:22.591031",
     "status": "completed"
    },
    "tags": []
   },
   "outputs": [
    {
     "data": {
      "text/plain": [
       "['NN', 'RB', 'TO']"
      ]
     },
     "execution_count": 20,
     "metadata": {},
     "output_type": "execute_result"
    }
   ],
   "source": [
    "tags.sort()\n",
    "tags"
   ]
  },
  {
   "cell_type": "code",
   "execution_count": 21,
   "id": "386d3a7a",
   "metadata": {
    "execution": {
     "iopub.execute_input": "2025-05-15T15:54:22.617431Z",
     "iopub.status.busy": "2025-05-15T15:54:22.617099Z",
     "iopub.status.idle": "2025-05-15T15:54:22.624188Z",
     "shell.execute_reply": "2025-05-15T15:54:22.623262Z"
    },
    "papermill": {
     "duration": 0.015409,
     "end_time": "2025-05-15T15:54:22.625733",
     "exception": false,
     "start_time": "2025-05-15T15:54:22.610324",
     "status": "completed"
    },
    "tags": []
   },
   "outputs": [
    {
     "data": {
      "text/plain": [
       "array([[1.6241e+04, 2.4310e+03, 5.2560e+03],\n",
       "       [3.5800e+02, 2.2630e+03, 8.5500e+02],\n",
       "       [7.3400e+02, 2.0000e+02, 2.0000e+00]])"
      ]
     },
     "execution_count": 21,
     "metadata": {},
     "output_type": "execute_result"
    }
   ],
   "source": [
    "for i in range(num_tags):\n",
    "    for j in range(num_tags):\n",
    "        tag_tuple = (tags[i],tags[j])\n",
    "        trans_matrix[i,j] = trans_counts.get(tag_tuple)\n",
    "\n",
    "trans_matrix"
   ]
  },
  {
   "cell_type": "code",
   "execution_count": 22,
   "id": "9a3ab762",
   "metadata": {
    "execution": {
     "iopub.execute_input": "2025-05-15T15:54:22.638917Z",
     "iopub.status.busy": "2025-05-15T15:54:22.638624Z",
     "iopub.status.idle": "2025-05-15T15:54:22.643526Z",
     "shell.execute_reply": "2025-05-15T15:54:22.642515Z"
    },
    "papermill": {
     "duration": 0.013389,
     "end_time": "2025-05-15T15:54:22.645254",
     "exception": false,
     "start_time": "2025-05-15T15:54:22.631865",
     "status": "completed"
    },
    "tags": []
   },
   "outputs": [],
   "source": [
    "def print_mat(matrix):\n",
    "    print(pd.DataFrame(matrix,index=tags,columns=tags))"
   ]
  },
  {
   "cell_type": "code",
   "execution_count": 23,
   "id": "ae06e0b6",
   "metadata": {
    "execution": {
     "iopub.execute_input": "2025-05-15T15:54:22.657612Z",
     "iopub.status.busy": "2025-05-15T15:54:22.657310Z",
     "iopub.status.idle": "2025-05-15T15:54:22.677162Z",
     "shell.execute_reply": "2025-05-15T15:54:22.676189Z"
    },
    "papermill": {
     "duration": 0.028033,
     "end_time": "2025-05-15T15:54:22.678899",
     "exception": false,
     "start_time": "2025-05-15T15:54:22.650866",
     "status": "completed"
    },
    "tags": []
   },
   "outputs": [
    {
     "name": "stdout",
     "output_type": "stream",
     "text": [
      "         NN      RB      TO\n",
      "NN  16241.0  2431.0  5256.0\n",
      "RB    358.0  2263.0   855.0\n",
      "TO    734.0   200.0     2.0\n"
     ]
    }
   ],
   "source": [
    "print_mat(trans_matrix)"
   ]
  },
  {
   "cell_type": "code",
   "execution_count": 24,
   "id": "7e6dba5b",
   "metadata": {
    "execution": {
     "iopub.execute_input": "2025-05-15T15:54:22.691643Z",
     "iopub.status.busy": "2025-05-15T15:54:22.691350Z",
     "iopub.status.idle": "2025-05-15T15:54:22.699111Z",
     "shell.execute_reply": "2025-05-15T15:54:22.698024Z"
    },
    "papermill": {
     "duration": 0.015662,
     "end_time": "2025-05-15T15:54:22.700534",
     "exception": false,
     "start_time": "2025-05-15T15:54:22.684872",
     "status": "completed"
    },
    "tags": []
   },
   "outputs": [
    {
     "name": "stdout",
     "output_type": "stream",
     "text": [
      "          NN        RB        TO\n",
      "NN  0.678745  0.101596  0.219659\n",
      "RB  0.102992  0.651036  0.245972\n",
      "TO  0.784188  0.213675  0.002137\n"
     ]
    }
   ],
   "source": [
    "rows_sum = trans_matrix.sum(axis=1,keepdims=True)\n",
    "trans_matrix/=rows_sum\n",
    "print_mat(trans_matrix)"
   ]
  },
  {
   "cell_type": "code",
   "execution_count": 25,
   "id": "afaf5bca",
   "metadata": {
    "execution": {
     "iopub.execute_input": "2025-05-15T15:54:22.713414Z",
     "iopub.status.busy": "2025-05-15T15:54:22.713093Z",
     "iopub.status.idle": "2025-05-15T15:54:22.720213Z",
     "shell.execute_reply": "2025-05-15T15:54:22.719216Z"
    },
    "papermill": {
     "duration": 0.015521,
     "end_time": "2025-05-15T15:54:22.721897",
     "exception": false,
     "start_time": "2025-05-15T15:54:22.706376",
     "status": "completed"
    },
    "tags": []
   },
   "outputs": [
    {
     "data": {
      "text/plain": [
       "array([[0.67874457],\n",
       "       [0.65103567],\n",
       "       [0.00213675]])"
      ]
     },
     "execution_count": 25,
     "metadata": {},
     "output_type": "execute_result"
    }
   ],
   "source": [
    "import math\n",
    "trans_mat = np.copy(trans_matrix)\n",
    "d = np.diag(trans_mat)\n",
    "d = np.reshape(d,(3,1))\n",
    "d"
   ]
  },
  {
   "cell_type": "code",
   "execution_count": 26,
   "id": "d94e5fa0",
   "metadata": {
    "execution": {
     "iopub.execute_input": "2025-05-15T15:54:22.735393Z",
     "iopub.status.busy": "2025-05-15T15:54:22.735067Z",
     "iopub.status.idle": "2025-05-15T15:54:22.760349Z",
     "shell.execute_reply": "2025-05-15T15:54:22.759472Z"
    },
    "papermill": {
     "duration": 0.033956,
     "end_time": "2025-05-15T15:54:22.761829",
     "exception": false,
     "start_time": "2025-05-15T15:54:22.727873",
     "status": "completed"
    },
    "tags": []
   },
   "outputs": [
    {
     "name": "stdout",
     "output_type": "stream",
     "text": [
      "           NN        RB        TO\n",
      "NN  10.761549  0.101596  0.219659\n",
      "RB   0.102992  8.804673  0.245972\n",
      "TO   0.784188  0.213675  6.843752\n"
     ]
    }
   ],
   "source": [
    "# d += np.vectorize(np.log)(rows_sum)\n",
    "d = d + np.log(rows_sum)\n",
    "np.fill_diagonal(trans_mat, d)\n",
    "print_mat(trans_mat)"
   ]
  },
  {
   "cell_type": "code",
   "execution_count": null,
   "id": "99700350",
   "metadata": {
    "papermill": {
     "duration": 0.006045,
     "end_time": "2025-05-15T15:54:22.774049",
     "exception": false,
     "start_time": "2025-05-15T15:54:22.768004",
     "status": "completed"
    },
    "tags": []
   },
   "outputs": [],
   "source": []
  }
 ],
 "metadata": {
  "kaggle": {
   "accelerator": "none",
   "dataSources": [
    {
     "datasetId": 7424386,
     "sourceId": 11819813,
     "sourceType": "datasetVersion"
    }
   ],
   "dockerImageVersionId": 31040,
   "isGpuEnabled": false,
   "isInternetEnabled": false,
   "language": "python",
   "sourceType": "notebook"
  },
  "kernelspec": {
   "display_name": "Python 3",
   "language": "python",
   "name": "python3"
  },
  "language_info": {
   "codemirror_mode": {
    "name": "ipython",
    "version": 3
   },
   "file_extension": ".py",
   "mimetype": "text/x-python",
   "name": "python",
   "nbconvert_exporter": "python",
   "pygments_lexer": "ipython3",
   "version": "3.11.11"
  },
  "papermill": {
   "default_parameters": {},
   "duration": 8.828759,
   "end_time": "2025-05-15T15:54:23.400516",
   "environment_variables": {},
   "exception": null,
   "input_path": "__notebook__.ipynb",
   "output_path": "__notebook__.ipynb",
   "parameters": {},
   "start_time": "2025-05-15T15:54:14.571757",
   "version": "2.6.0"
  }
 },
 "nbformat": 4,
 "nbformat_minor": 5
}
