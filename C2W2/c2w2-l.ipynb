{
 "cells": [
  {
   "cell_type": "code",
   "execution_count": 1,
   "id": "e20b9eae",
   "metadata": {
    "_cell_guid": "b1076dfc-b9ad-4769-8c92-a6c4dae69d19",
    "_uuid": "8f2839f25d086af736a60e9eeb907d3b93b6e0e5",
    "execution": {
     "iopub.execute_input": "2025-05-15T14:42:16.426606Z",
     "iopub.status.busy": "2025-05-15T14:42:16.426141Z",
     "iopub.status.idle": "2025-05-15T14:42:18.352556Z",
     "shell.execute_reply": "2025-05-15T14:42:18.351271Z"
    },
    "papermill": {
     "duration": 1.934954,
     "end_time": "2025-05-15T14:42:18.354533",
     "exception": false,
     "start_time": "2025-05-15T14:42:16.419579",
     "status": "completed"
    },
    "tags": []
   },
   "outputs": [
    {
     "name": "stdout",
     "output_type": "stream",
     "text": [
      "/kaggle/input/wall-street-journal/WSJ_02-21.pos\n"
     ]
    }
   ],
   "source": [
    "# This Python 3 environment comes with many helpful analytics libraries installed\n",
    "# It is defined by the kaggle/python Docker image: https://github.com/kaggle/docker-python\n",
    "# For example, here's several helpful packages to load\n",
    "\n",
    "import numpy as np # linear algebra\n",
    "import pandas as pd # data processing, CSV file I/O (e.g. pd.read_csv)\n",
    "\n",
    "# Input data files are available in the read-only \"../input/\" directory\n",
    "# For example, running this (by clicking run or pressing Shift+Enter) will list all files under the input directory\n",
    "\n",
    "import os\n",
    "for dirname, _, filenames in os.walk('/kaggle/input'):\n",
    "    for filename in filenames:\n",
    "        print(os.path.join(dirname, filename))\n",
    "\n",
    "# You can write up to 20GB to the current directory (/kaggle/working/) that gets preserved as output when you create a version using \"Save & Run All\" \n",
    "# You can also write temporary files to /kaggle/temp/, but they won't be saved outside of the current session"
   ]
  },
  {
   "cell_type": "code",
   "execution_count": 2,
   "id": "d54004ae",
   "metadata": {
    "execution": {
     "iopub.execute_input": "2025-05-15T14:42:18.365062Z",
     "iopub.status.busy": "2025-05-15T14:42:18.364596Z",
     "iopub.status.idle": "2025-05-15T14:42:18.369530Z",
     "shell.execute_reply": "2025-05-15T14:42:18.368379Z"
    },
    "papermill": {
     "duration": 0.011974,
     "end_time": "2025-05-15T14:42:18.371406",
     "exception": false,
     "start_time": "2025-05-15T14:42:18.359432",
     "status": "completed"
    },
    "tags": []
   },
   "outputs": [],
   "source": [
    "import string\n",
    "from collections import defaultdict"
   ]
  },
  {
   "cell_type": "markdown",
   "id": "376cd0c0",
   "metadata": {
    "papermill": {
     "duration": 0.004058,
     "end_time": "2025-05-15T14:42:18.379967",
     "exception": false,
     "start_time": "2025-05-15T14:42:18.375909",
     "status": "completed"
    },
    "tags": []
   },
   "source": [
    "**Reading Data**"
   ]
  },
  {
   "cell_type": "code",
   "execution_count": 3,
   "id": "ac30145a",
   "metadata": {
    "execution": {
     "iopub.execute_input": "2025-05-15T14:42:18.389682Z",
     "iopub.status.busy": "2025-05-15T14:42:18.389344Z",
     "iopub.status.idle": "2025-05-15T14:42:18.394202Z",
     "shell.execute_reply": "2025-05-15T14:42:18.393135Z"
    },
    "papermill": {
     "duration": 0.011628,
     "end_time": "2025-05-15T14:42:18.395850",
     "exception": false,
     "start_time": "2025-05-15T14:42:18.384222",
     "status": "completed"
    },
    "tags": []
   },
   "outputs": [],
   "source": [
    "file = '/kaggle/input/wall-street-journal/WSJ_02-21.pos'"
   ]
  },
  {
   "cell_type": "code",
   "execution_count": 4,
   "id": "2a400720",
   "metadata": {
    "execution": {
     "iopub.execute_input": "2025-05-15T14:42:18.405416Z",
     "iopub.status.busy": "2025-05-15T14:42:18.405102Z",
     "iopub.status.idle": "2025-05-15T14:42:18.652517Z",
     "shell.execute_reply": "2025-05-15T14:42:18.651694Z"
    },
    "papermill": {
     "duration": 0.254364,
     "end_time": "2025-05-15T14:42:18.654397",
     "exception": false,
     "start_time": "2025-05-15T14:42:18.400033",
     "status": "completed"
    },
    "tags": []
   },
   "outputs": [],
   "source": [
    "with open(file,'r') as f:\n",
    "    lines = f.readlines()"
   ]
  },
  {
   "cell_type": "code",
   "execution_count": 5,
   "id": "56186b8d",
   "metadata": {
    "execution": {
     "iopub.execute_input": "2025-05-15T14:42:18.666544Z",
     "iopub.status.busy": "2025-05-15T14:42:18.666232Z",
     "iopub.status.idle": "2025-05-15T14:42:18.673251Z",
     "shell.execute_reply": "2025-05-15T14:42:18.672403Z"
    },
    "papermill": {
     "duration": 0.014204,
     "end_time": "2025-05-15T14:42:18.674748",
     "exception": false,
     "start_time": "2025-05-15T14:42:18.660544",
     "status": "completed"
    },
    "tags": []
   },
   "outputs": [
    {
     "data": {
      "text/plain": [
       "['In\\tIN\\n', 'an\\tDT\\n', 'Oct.\\tNNP\\n', '19\\tCD\\n', 'review\\tNN\\n']"
      ]
     },
     "execution_count": 5,
     "metadata": {},
     "output_type": "execute_result"
    }
   ],
   "source": [
    "lines[:5]"
   ]
  },
  {
   "cell_type": "code",
   "execution_count": 6,
   "id": "cae5041a",
   "metadata": {
    "execution": {
     "iopub.execute_input": "2025-05-15T14:42:18.684844Z",
     "iopub.status.busy": "2025-05-15T14:42:18.684211Z",
     "iopub.status.idle": "2025-05-15T14:42:18.690011Z",
     "shell.execute_reply": "2025-05-15T14:42:18.688770Z"
    },
    "papermill": {
     "duration": 0.012747,
     "end_time": "2025-05-15T14:42:18.691863",
     "exception": false,
     "start_time": "2025-05-15T14:42:18.679116",
     "status": "completed"
    },
    "tags": []
   },
   "outputs": [
    {
     "name": "stdout",
     "output_type": "stream",
     "text": [
      "\t\tWord \tTag\n",
      "\n",
      "line number 1: In\tIN\n",
      "\n",
      "line number 2: an\tDT\n",
      "\n",
      "line number 3: Oct.\tNNP\n",
      "\n",
      "line number 4: 19\tCD\n",
      "\n",
      "line number 5: review\tNN\n",
      "\n"
     ]
    }
   ],
   "source": [
    "print(\"\\t\\tWord\", \"\\tTag\\n\")\n",
    "for i in range(5):\n",
    "    print(f'line number {i+1}: {lines[i]}')"
   ]
  },
  {
   "cell_type": "code",
   "execution_count": 7,
   "id": "c9eb74c0",
   "metadata": {
    "execution": {
     "iopub.execute_input": "2025-05-15T14:42:18.702032Z",
     "iopub.status.busy": "2025-05-15T14:42:18.701695Z",
     "iopub.status.idle": "2025-05-15T14:42:18.917615Z",
     "shell.execute_reply": "2025-05-15T14:42:18.916630Z"
    },
    "papermill": {
     "duration": 0.222701,
     "end_time": "2025-05-15T14:42:18.919148",
     "exception": false,
     "start_time": "2025-05-15T14:42:18.696447",
     "status": "completed"
    },
    "tags": []
   },
   "outputs": [
    {
     "data": {
      "text/plain": [
       "'In'"
      ]
     },
     "execution_count": 7,
     "metadata": {},
     "output_type": "execute_result"
    }
   ],
   "source": [
    "words = [line.split('\\t')[0] for line in lines]\n",
    "words[0]"
   ]
  },
  {
   "cell_type": "code",
   "execution_count": 8,
   "id": "45d7c359",
   "metadata": {
    "execution": {
     "iopub.execute_input": "2025-05-15T14:42:18.929015Z",
     "iopub.status.busy": "2025-05-15T14:42:18.928687Z",
     "iopub.status.idle": "2025-05-15T14:42:19.184262Z",
     "shell.execute_reply": "2025-05-15T14:42:19.183055Z"
    },
    "papermill": {
     "duration": 0.262551,
     "end_time": "2025-05-15T14:42:19.186036",
     "exception": false,
     "start_time": "2025-05-15T14:42:18.923485",
     "status": "completed"
    },
    "tags": []
   },
   "outputs": [],
   "source": [
    "freq = defaultdict(int)\n",
    "for word in words:\n",
    "    freq[word] += 1"
   ]
  },
  {
   "cell_type": "code",
   "execution_count": 9,
   "id": "835605b3",
   "metadata": {
    "execution": {
     "iopub.execute_input": "2025-05-15T14:42:19.196827Z",
     "iopub.status.busy": "2025-05-15T14:42:19.196509Z",
     "iopub.status.idle": "2025-05-15T14:42:19.206792Z",
     "shell.execute_reply": "2025-05-15T14:42:19.205923Z"
    },
    "papermill": {
     "duration": 0.016948,
     "end_time": "2025-05-15T14:42:19.208223",
     "exception": false,
     "start_time": "2025-05-15T14:42:19.191275",
     "status": "completed"
    },
    "tags": []
   },
   "outputs": [],
   "source": [
    "vocab = [k for k,v in freq.items() if (v>1 and k!='\\n')]"
   ]
  },
  {
   "cell_type": "code",
   "execution_count": 10,
   "id": "3429f183",
   "metadata": {
    "execution": {
     "iopub.execute_input": "2025-05-15T14:42:19.218722Z",
     "iopub.status.busy": "2025-05-15T14:42:19.218439Z",
     "iopub.status.idle": "2025-05-15T14:42:19.233435Z",
     "shell.execute_reply": "2025-05-15T14:42:19.232675Z"
    },
    "papermill": {
     "duration": 0.022112,
     "end_time": "2025-05-15T14:42:19.234784",
     "exception": false,
     "start_time": "2025-05-15T14:42:19.212672",
     "status": "completed"
    },
    "tags": []
   },
   "outputs": [],
   "source": [
    "vocab.sort()"
   ]
  },
  {
   "cell_type": "code",
   "execution_count": 11,
   "id": "f9066adc",
   "metadata": {
    "execution": {
     "iopub.execute_input": "2025-05-15T14:42:19.244522Z",
     "iopub.status.busy": "2025-05-15T14:42:19.244177Z",
     "iopub.status.idle": "2025-05-15T14:42:19.251733Z",
     "shell.execute_reply": "2025-05-15T14:42:19.250899Z"
    },
    "papermill": {
     "duration": 0.014321,
     "end_time": "2025-05-15T14:42:19.253495",
     "exception": false,
     "start_time": "2025-05-15T14:42:19.239174",
     "status": "completed"
    },
    "tags": []
   },
   "outputs": [],
   "source": [
    "def assign_unk(word):\n",
    "    punct = string.punctuation\n",
    "    noun_suffs = [\"action\", \"age\", \"ance\", \"cy\", \"dom\", \"ee\", \"ence\", \"er\", \"hood\", \"ion\", \"ism\", \"ist\", \"ity\", \"ling\", \"ment\", \"ness\", \"or\", \"ry\", \"scape\", \"ship\", \"ty\"]\n",
    "    verb_suffs = [\"ate\", \"ify\", \"ise\", \"ize\"]\n",
    "    adj_suffs = [\"able\", \"ese\", \"ful\", \"i\", \"ian\", \"ible\", \"ic\", \"ish\", \"ive\", \"less\", \"ly\", \"ous\"]\n",
    "    adv_suffs = [\"ward\", \"wards\", \"wise\"]\n",
    "    \n",
    "    if any(char.isdigit() for char in word):\n",
    "        return \"--unk_digit--\"\n",
    "\n",
    "    elif any(char in punct for char in word):\n",
    "        return \"--unk_punct--\"\n",
    "\n",
    "    elif any(char.isupper() for char in word):\n",
    "        return \"--unk_upper--\"\n",
    "\n",
    "    elif any(word.endswith(suff) for suff in noun_suffs):\n",
    "        return \"--unk_noun--\"\n",
    "\n",
    "    elif any(word.endswith(suff) for suff in verb_suffs):\n",
    "        return \"--unk_verb\"\n",
    "\n",
    "    elif any(word.endswith(suff) for suff in adj_suffs):\n",
    "        return \"--unk_adj--\"\n",
    "\n",
    "    elif any(word.endswith(suff) for suff in adv_suffs):\n",
    "        return \"--unk_adv--\"\n",
    "\n",
    "    return \"unk--\"\n",
    "    "
   ]
  },
  {
   "cell_type": "code",
   "execution_count": 12,
   "id": "cca5862d",
   "metadata": {
    "execution": {
     "iopub.execute_input": "2025-05-15T14:42:19.263783Z",
     "iopub.status.busy": "2025-05-15T14:42:19.263468Z",
     "iopub.status.idle": "2025-05-15T14:42:19.268078Z",
     "shell.execute_reply": "2025-05-15T14:42:19.267311Z"
    },
    "papermill": {
     "duration": 0.011522,
     "end_time": "2025-05-15T14:42:19.269443",
     "exception": false,
     "start_time": "2025-05-15T14:42:19.257921",
     "status": "completed"
    },
    "tags": []
   },
   "outputs": [],
   "source": [
    "def get_word_tag(line, vocab):\n",
    "    if not(line.split()):\n",
    "        word = \"--n--\"\n",
    "        tag = \"--s--\"\n",
    "    else:\n",
    "        word,tag = line.split()\n",
    "        if word not in vocab:\n",
    "            word = assign_unk(word)\n",
    "    return word, tag"
   ]
  },
  {
   "cell_type": "code",
   "execution_count": 13,
   "id": "c6b450c3",
   "metadata": {
    "execution": {
     "iopub.execute_input": "2025-05-15T14:42:19.279796Z",
     "iopub.status.busy": "2025-05-15T14:42:19.279483Z",
     "iopub.status.idle": "2025-05-15T14:42:19.285089Z",
     "shell.execute_reply": "2025-05-15T14:42:19.284254Z"
    },
    "papermill": {
     "duration": 0.012865,
     "end_time": "2025-05-15T14:42:19.286537",
     "exception": false,
     "start_time": "2025-05-15T14:42:19.273672",
     "status": "completed"
    },
    "tags": []
   },
   "outputs": [
    {
     "data": {
      "text/plain": [
       "('--n--', '--s--')"
      ]
     },
     "execution_count": 13,
     "metadata": {},
     "output_type": "execute_result"
    }
   ],
   "source": [
    "get_word_tag('\\n', vocab)"
   ]
  },
  {
   "cell_type": "code",
   "execution_count": 14,
   "id": "a3641748",
   "metadata": {
    "execution": {
     "iopub.execute_input": "2025-05-15T14:42:19.296415Z",
     "iopub.status.busy": "2025-05-15T14:42:19.296114Z",
     "iopub.status.idle": "2025-05-15T14:42:19.302263Z",
     "shell.execute_reply": "2025-05-15T14:42:19.301283Z"
    },
    "papermill": {
     "duration": 0.013175,
     "end_time": "2025-05-15T14:42:19.304057",
     "exception": false,
     "start_time": "2025-05-15T14:42:19.290882",
     "status": "completed"
    },
    "tags": []
   },
   "outputs": [
    {
     "data": {
      "text/plain": [
       "('In', 'IN')"
      ]
     },
     "execution_count": 14,
     "metadata": {},
     "output_type": "execute_result"
    }
   ],
   "source": [
    "get_word_tag('In\\tIN\\n',vocab)"
   ]
  },
  {
   "cell_type": "code",
   "execution_count": 15,
   "id": "21ad3d65",
   "metadata": {
    "execution": {
     "iopub.execute_input": "2025-05-15T14:42:19.314575Z",
     "iopub.status.busy": "2025-05-15T14:42:19.314246Z",
     "iopub.status.idle": "2025-05-15T14:42:19.321703Z",
     "shell.execute_reply": "2025-05-15T14:42:19.320862Z"
    },
    "papermill": {
     "duration": 0.014513,
     "end_time": "2025-05-15T14:42:19.323191",
     "exception": false,
     "start_time": "2025-05-15T14:42:19.308678",
     "status": "completed"
    },
    "tags": []
   },
   "outputs": [
    {
     "data": {
      "text/plain": [
       "('unk--', 'NN')"
      ]
     },
     "execution_count": 15,
     "metadata": {},
     "output_type": "execute_result"
    }
   ],
   "source": [
    "get_word_tag('tardigrade\\tNN\\n', vocab)"
   ]
  },
  {
   "cell_type": "code",
   "execution_count": 16,
   "id": "bccd4b6e",
   "metadata": {
    "execution": {
     "iopub.execute_input": "2025-05-15T14:42:19.333385Z",
     "iopub.status.busy": "2025-05-15T14:42:19.333063Z",
     "iopub.status.idle": "2025-05-15T14:42:19.340579Z",
     "shell.execute_reply": "2025-05-15T14:42:19.339475Z"
    },
    "papermill": {
     "duration": 0.0144,
     "end_time": "2025-05-15T14:42:19.342240",
     "exception": false,
     "start_time": "2025-05-15T14:42:19.327840",
     "status": "completed"
    },
    "tags": []
   },
   "outputs": [
    {
     "data": {
      "text/plain": [
       "('--unk_verb', 'VB')"
      ]
     },
     "execution_count": 16,
     "metadata": {},
     "output_type": "execute_result"
    }
   ],
   "source": [
    "get_word_tag('scrutinize\\tVB\\n', vocab)"
   ]
  },
  {
   "cell_type": "code",
   "execution_count": 17,
   "id": "f01120fb",
   "metadata": {
    "execution": {
     "iopub.execute_input": "2025-05-15T14:42:19.352811Z",
     "iopub.status.busy": "2025-05-15T14:42:19.352418Z",
     "iopub.status.idle": "2025-05-15T14:42:19.358666Z",
     "shell.execute_reply": "2025-05-15T14:42:19.357831Z"
    },
    "papermill": {
     "duration": 0.013237,
     "end_time": "2025-05-15T14:42:19.360134",
     "exception": false,
     "start_time": "2025-05-15T14:42:19.346897",
     "status": "completed"
    },
    "tags": []
   },
   "outputs": [
    {
     "data": {
      "text/plain": [
       "['RB', 'NN', 'TO']"
      ]
     },
     "execution_count": 17,
     "metadata": {},
     "output_type": "execute_result"
    }
   ],
   "source": [
    "tags = ['RB','NN','TO']\n",
    "tags"
   ]
  },
  {
   "cell_type": "code",
   "execution_count": 18,
   "id": "b1ffe693",
   "metadata": {
    "execution": {
     "iopub.execute_input": "2025-05-15T14:42:19.371552Z",
     "iopub.status.busy": "2025-05-15T14:42:19.370620Z",
     "iopub.status.idle": "2025-05-15T14:42:19.376585Z",
     "shell.execute_reply": "2025-05-15T14:42:19.375464Z"
    },
    "papermill": {
     "duration": 0.013264,
     "end_time": "2025-05-15T14:42:19.378183",
     "exception": false,
     "start_time": "2025-05-15T14:42:19.364919",
     "status": "completed"
    },
    "tags": []
   },
   "outputs": [],
   "source": [
    "transition_counts = {\n",
    "    ('NN', 'NN'): 16241,\n",
    "    ('RB', 'RB'): 2263,\n",
    "    ('TO', 'TO'): 2,\n",
    "    ('NN', 'TO'): 5256,\n",
    "    ('RB', 'TO'): 855,\n",
    "    ('TO', 'NN'): 734,\n",
    "    ('NN', 'RB'): 2431,\n",
    "    ('RB', 'NN'): 358,\n",
    "    ('TO', 'RB'): 200\n",
    "}"
   ]
  },
  {
   "cell_type": "code",
   "execution_count": 19,
   "id": "203fcea4",
   "metadata": {
    "execution": {
     "iopub.execute_input": "2025-05-15T14:42:19.388842Z",
     "iopub.status.busy": "2025-05-15T14:42:19.388563Z",
     "iopub.status.idle": "2025-05-15T14:42:19.395161Z",
     "shell.execute_reply": "2025-05-15T14:42:19.394161Z"
    },
    "papermill": {
     "duration": 0.013799,
     "end_time": "2025-05-15T14:42:19.396720",
     "exception": false,
     "start_time": "2025-05-15T14:42:19.382921",
     "status": "completed"
    },
    "tags": []
   },
   "outputs": [
    {
     "data": {
      "text/plain": [
       "array([[0., 0., 0.],\n",
       "       [0., 0., 0.],\n",
       "       [0., 0., 0.]])"
      ]
     },
     "execution_count": 19,
     "metadata": {},
     "output_type": "execute_result"
    }
   ],
   "source": [
    "num_tags = len(tags)\n",
    "trans_matrix = np.zeros((num_tags, num_tags))\n",
    "trans_matrix"
   ]
  },
  {
   "cell_type": "code",
   "execution_count": 20,
   "id": "3af29a9a",
   "metadata": {
    "execution": {
     "iopub.execute_input": "2025-05-15T14:42:19.407784Z",
     "iopub.status.busy": "2025-05-15T14:42:19.407459Z",
     "iopub.status.idle": "2025-05-15T14:42:19.413125Z",
     "shell.execute_reply": "2025-05-15T14:42:19.412342Z"
    },
    "papermill": {
     "duration": 0.013141,
     "end_time": "2025-05-15T14:42:19.414821",
     "exception": false,
     "start_time": "2025-05-15T14:42:19.401680",
     "status": "completed"
    },
    "tags": []
   },
   "outputs": [
    {
     "data": {
      "text/plain": [
       "['NN', 'RB', 'TO']"
      ]
     },
     "execution_count": 20,
     "metadata": {},
     "output_type": "execute_result"
    }
   ],
   "source": [
    "tags.sort()\n",
    "tags"
   ]
  },
  {
   "cell_type": "code",
   "execution_count": null,
   "id": "3020188b",
   "metadata": {
    "papermill": {
     "duration": 0.004444,
     "end_time": "2025-05-15T14:42:19.424242",
     "exception": false,
     "start_time": "2025-05-15T14:42:19.419798",
     "status": "completed"
    },
    "tags": []
   },
   "outputs": [],
   "source": []
  }
 ],
 "metadata": {
  "kaggle": {
   "accelerator": "none",
   "dataSources": [
    {
     "datasetId": 7424386,
     "sourceId": 11819813,
     "sourceType": "datasetVersion"
    }
   ],
   "dockerImageVersionId": 31040,
   "isGpuEnabled": false,
   "isInternetEnabled": false,
   "language": "python",
   "sourceType": "notebook"
  },
  "kernelspec": {
   "display_name": "Python 3",
   "language": "python",
   "name": "python3"
  },
  "language_info": {
   "codemirror_mode": {
    "name": "ipython",
    "version": 3
   },
   "file_extension": ".py",
   "mimetype": "text/x-python",
   "name": "python",
   "nbconvert_exporter": "python",
   "pygments_lexer": "ipython3",
   "version": "3.11.11"
  },
  "papermill": {
   "default_parameters": {},
   "duration": 8.543735,
   "end_time": "2025-05-15T14:42:20.049125",
   "environment_variables": {},
   "exception": null,
   "input_path": "__notebook__.ipynb",
   "output_path": "__notebook__.ipynb",
   "parameters": {},
   "start_time": "2025-05-15T14:42:11.505390",
   "version": "2.6.0"
  }
 },
 "nbformat": 4,
 "nbformat_minor": 5
}
