{
 "cells": [
  {
   "cell_type": "code",
   "execution_count": 1,
   "id": "12d5140a",
   "metadata": {
    "_cell_guid": "b1076dfc-b9ad-4769-8c92-a6c4dae69d19",
    "_uuid": "8f2839f25d086af736a60e9eeb907d3b93b6e0e5",
    "execution": {
     "iopub.execute_input": "2025-05-11T06:29:18.875324Z",
     "iopub.status.busy": "2025-05-11T06:29:18.875009Z",
     "iopub.status.idle": "2025-05-11T06:29:20.660358Z",
     "shell.execute_reply": "2025-05-11T06:29:20.659321Z"
    },
    "papermill": {
     "duration": 1.791844,
     "end_time": "2025-05-11T06:29:20.662094",
     "exception": false,
     "start_time": "2025-05-11T06:29:18.870250",
     "status": "completed"
    },
    "tags": []
   },
   "outputs": [],
   "source": [
    "# This Python 3 environment comes with many helpful analytics libraries installed\n",
    "# It is defined by the kaggle/python Docker image: https://github.com/kaggle/docker-python\n",
    "# For example, here's several helpful packages to load\n",
    "\n",
    "import numpy as np # linear algebra\n",
    "import pandas as pd # data processing, CSV file I/O (e.g. pd.read_csv)\n",
    "\n",
    "# Input data files are available in the read-only \"../input/\" directory\n",
    "# For example, running this (by clicking run or pressing Shift+Enter) will list all files under the input directory\n",
    "\n",
    "import os\n",
    "for dirname, _, filenames in os.walk('/kaggle/input'):\n",
    "    for filename in filenames:\n",
    "        print(os.path.join(dirname, filename))\n",
    "\n",
    "# You can write up to 20GB to the current directory (/kaggle/working/) that gets preserved as output when you create a version using \"Save & Run All\" \n",
    "# You can also write temporary files to /kaggle/temp/, but they won't be saved outside of the current session"
   ]
  },
  {
   "cell_type": "code",
   "execution_count": 2,
   "id": "01dc339f",
   "metadata": {
    "execution": {
     "iopub.execute_input": "2025-05-11T06:29:20.669875Z",
     "iopub.status.busy": "2025-05-11T06:29:20.669439Z",
     "iopub.status.idle": "2025-05-11T06:29:20.673930Z",
     "shell.execute_reply": "2025-05-11T06:29:20.673044Z"
    },
    "papermill": {
     "duration": 0.009941,
     "end_time": "2025-05-11T06:29:20.675537",
     "exception": false,
     "start_time": "2025-05-11T06:29:20.665596",
     "status": "completed"
    },
    "tags": []
   },
   "outputs": [],
   "source": [
    "import re\n",
    "from collections import Counter\n",
    "import matplotlib.pyplot as plt"
   ]
  },
  {
   "cell_type": "code",
   "execution_count": 3,
   "id": "a035aa38",
   "metadata": {
    "execution": {
     "iopub.execute_input": "2025-05-11T06:29:20.682668Z",
     "iopub.status.busy": "2025-05-11T06:29:20.682376Z",
     "iopub.status.idle": "2025-05-11T06:29:20.688517Z",
     "shell.execute_reply": "2025-05-11T06:29:20.687672Z"
    },
    "papermill": {
     "duration": 0.011135,
     "end_time": "2025-05-11T06:29:20.689856",
     "exception": false,
     "start_time": "2025-05-11T06:29:20.678721",
     "status": "completed"
    },
    "tags": []
   },
   "outputs": [
    {
     "data": {
      "text/plain": [
       "52"
      ]
     },
     "execution_count": 3,
     "metadata": {},
     "output_type": "execute_result"
    }
   ],
   "source": [
    "text = 'red pink pink blue blue yellow ORANGE BLUE BLUE PINK' \n",
    "len(text)"
   ]
  },
  {
   "cell_type": "code",
   "execution_count": 4,
   "id": "834c5243",
   "metadata": {
    "execution": {
     "iopub.execute_input": "2025-05-11T06:29:20.697290Z",
     "iopub.status.busy": "2025-05-11T06:29:20.696990Z",
     "iopub.status.idle": "2025-05-11T06:29:20.702407Z",
     "shell.execute_reply": "2025-05-11T06:29:20.701588Z"
    },
    "papermill": {
     "duration": 0.010642,
     "end_time": "2025-05-11T06:29:20.703781",
     "exception": false,
     "start_time": "2025-05-11T06:29:20.693139",
     "status": "completed"
    },
    "tags": []
   },
   "outputs": [
    {
     "data": {
      "text/plain": [
       "'red pink pink blue blue yellow orange blue blue pink'"
      ]
     },
     "execution_count": 4,
     "metadata": {},
     "output_type": "execute_result"
    }
   ],
   "source": [
    "text_low = text.lower()\n",
    "text_low"
   ]
  },
  {
   "cell_type": "code",
   "execution_count": 5,
   "id": "0b941fd6",
   "metadata": {
    "execution": {
     "iopub.execute_input": "2025-05-11T06:29:20.711553Z",
     "iopub.status.busy": "2025-05-11T06:29:20.710928Z",
     "iopub.status.idle": "2025-05-11T06:29:20.715861Z",
     "shell.execute_reply": "2025-05-11T06:29:20.714963Z"
    },
    "papermill": {
     "duration": 0.01015,
     "end_time": "2025-05-11T06:29:20.717195",
     "exception": false,
     "start_time": "2025-05-11T06:29:20.707045",
     "status": "completed"
    },
    "tags": []
   },
   "outputs": [
    {
     "name": "stdout",
     "output_type": "stream",
     "text": [
      "['red', 'pink', 'pink', 'blue', 'blue', 'yellow', 'orange', 'blue', 'blue', 'pink']\n",
      "Count:  10\n"
     ]
    }
   ],
   "source": [
    "words = re.findall(r'\\w+', text_low)\n",
    "print(words)\n",
    "print(\"Count: \", len(words))"
   ]
  },
  {
   "cell_type": "code",
   "execution_count": 6,
   "id": "02b4ae0a",
   "metadata": {
    "execution": {
     "iopub.execute_input": "2025-05-11T06:29:20.725774Z",
     "iopub.status.busy": "2025-05-11T06:29:20.725459Z",
     "iopub.status.idle": "2025-05-11T06:29:20.731060Z",
     "shell.execute_reply": "2025-05-11T06:29:20.730198Z"
    },
    "papermill": {
     "duration": 0.010714,
     "end_time": "2025-05-11T06:29:20.732363",
     "exception": false,
     "start_time": "2025-05-11T06:29:20.721649",
     "status": "completed"
    },
    "tags": []
   },
   "outputs": [
    {
     "data": {
      "text/plain": [
       "Counter({'red': 1, 'pink': 3, 'blue': 4, 'yellow': 1, 'orange': 1})"
      ]
     },
     "execution_count": 6,
     "metadata": {},
     "output_type": "execute_result"
    }
   ],
   "source": [
    "counts = Counter(words)\n",
    "counts"
   ]
  },
  {
   "cell_type": "code",
   "execution_count": 7,
   "id": "196ea023",
   "metadata": {
    "execution": {
     "iopub.execute_input": "2025-05-11T06:29:20.739645Z",
     "iopub.status.busy": "2025-05-11T06:29:20.739403Z",
     "iopub.status.idle": "2025-05-11T06:29:20.970075Z",
     "shell.execute_reply": "2025-05-11T06:29:20.969174Z"
    },
    "papermill": {
     "duration": 0.235773,
     "end_time": "2025-05-11T06:29:20.971325",
     "exception": false,
     "start_time": "2025-05-11T06:29:20.735552",
     "status": "completed"
    },
    "tags": []
   },
   "outputs": [
    {
     "data": {
      "image/png": "[encoded data removed]",
      "text/plain": [
       "<Figure size 640x480 with 1 Axes>"
      ]
     },
     "metadata": {},
     "output_type": "display_data"
    }
   ],
   "source": [
    "d = {'blue':counts['blue'],'pink':counts['pink'],'red':counts['red'],'yellow':counts['yellow'],'orange':counts['orange']}\n",
    "plt.bar(range(len(d)), list(d.values()), align='center', color=d.keys())\n",
    "_ = plt.xticks(range(len(d)), list(d.keys()))"
   ]
  },
  {
   "cell_type": "code",
   "execution_count": 8,
   "id": "39ec5a07",
   "metadata": {
    "execution": {
     "iopub.execute_input": "2025-05-11T06:29:20.979240Z",
     "iopub.status.busy": "2025-05-11T06:29:20.978985Z",
     "iopub.status.idle": "2025-05-11T06:29:20.982735Z",
     "shell.execute_reply": "2025-05-11T06:29:20.982091Z"
    },
    "papermill": {
     "duration": 0.009164,
     "end_time": "2025-05-11T06:29:20.984054",
     "exception": false,
     "start_time": "2025-05-11T06:29:20.974890",
     "status": "completed"
    },
    "tags": []
   },
   "outputs": [],
   "source": [
    "word = 'dearz'"
   ]
  },
  {
   "cell_type": "code",
   "execution_count": 9,
   "id": "3656c3a3",
   "metadata": {
    "execution": {
     "iopub.execute_input": "2025-05-11T06:29:20.992004Z",
     "iopub.status.busy": "2025-05-11T06:29:20.991715Z",
     "iopub.status.idle": "2025-05-11T06:29:20.998617Z",
     "shell.execute_reply": "2025-05-11T06:29:20.997630Z"
    },
    "papermill": {
     "duration": 0.012564,
     "end_time": "2025-05-11T06:29:21.000054",
     "exception": false,
     "start_time": "2025-05-11T06:29:20.987490",
     "status": "completed"
    },
    "tags": []
   },
   "outputs": [
    {
     "data": {
      "text/plain": [
       "[['', 'dearz'],\n",
       " ['d', 'earz'],\n",
       " ['de', 'arz'],\n",
       " ['dea', 'rz'],\n",
       " ['dear', 'z'],\n",
       " ['dearz', '']]"
      ]
     },
     "execution_count": 9,
     "metadata": {},
     "output_type": "execute_result"
    }
   ],
   "source": [
    "splits_1 = []\n",
    "for i in range(len(word)+1):\n",
    "    splits_1.append([word[:i],word[i:]])\n",
    "splits_1\n"
   ]
  },
  {
   "cell_type": "code",
   "execution_count": 10,
   "id": "6fd1543d",
   "metadata": {
    "execution": {
     "iopub.execute_input": "2025-05-11T06:29:21.009196Z",
     "iopub.status.busy": "2025-05-11T06:29:21.008349Z",
     "iopub.status.idle": "2025-05-11T06:29:21.014419Z",
     "shell.execute_reply": "2025-05-11T06:29:21.013759Z"
    },
    "papermill": {
     "duration": 0.011846,
     "end_time": "2025-05-11T06:29:21.015718",
     "exception": false,
     "start_time": "2025-05-11T06:29:21.003872",
     "status": "completed"
    },
    "tags": []
   },
   "outputs": [
    {
     "data": {
      "text/plain": [
       "[('', 'dearz'),\n",
       " ('d', 'earz'),\n",
       " ('de', 'arz'),\n",
       " ('dea', 'rz'),\n",
       " ('dear', 'z'),\n",
       " ('dearz', '')]"
      ]
     },
     "execution_count": 10,
     "metadata": {},
     "output_type": "execute_result"
    }
   ],
   "source": [
    "splits = [(word[:i], word[i:]) for i in range(len(word)+1)]\n",
    "splits"
   ]
  },
  {
   "cell_type": "code",
   "execution_count": 11,
   "id": "d8073a50",
   "metadata": {
    "execution": {
     "iopub.execute_input": "2025-05-11T06:29:21.024250Z",
     "iopub.status.busy": "2025-05-11T06:29:21.023964Z",
     "iopub.status.idle": "2025-05-11T06:29:21.031244Z",
     "shell.execute_reply": "2025-05-11T06:29:21.030371Z"
    },
    "papermill": {
     "duration": 0.013346,
     "end_time": "2025-05-11T06:29:21.032821",
     "exception": false,
     "start_time": "2025-05-11T06:29:21.019475",
     "status": "completed"
    },
    "tags": []
   },
   "outputs": [
    {
     "name": "stdout",
     "output_type": "stream",
     "text": [
      "earz <-- delete d\n",
      "darz <-- delete e\n",
      "derz <-- delete a\n",
      "deaz <-- delete r\n",
      "dear <-- delete z\n"
     ]
    },
    {
     "data": {
      "text/plain": [
       "['earz', 'darz', 'derz', 'deaz', 'dear']"
      ]
     },
     "execution_count": 11,
     "metadata": {},
     "output_type": "execute_result"
    }
   ],
   "source": [
    "edits=[]\n",
    "for l,r in splits:\n",
    "    if r:\n",
    "        edits.append(l+r[1:])\n",
    "        print(l+r[1:], '<-- delete', r[0])\n",
    "edits"
   ]
  },
  {
   "cell_type": "code",
   "execution_count": 12,
   "id": "32095ee6",
   "metadata": {
    "execution": {
     "iopub.execute_input": "2025-05-11T06:29:21.042047Z",
     "iopub.status.busy": "2025-05-11T06:29:21.041262Z",
     "iopub.status.idle": "2025-05-11T06:29:21.045216Z",
     "shell.execute_reply": "2025-05-11T06:29:21.044558Z"
    },
    "papermill": {
     "duration": 0.009802,
     "end_time": "2025-05-11T06:29:21.046579",
     "exception": false,
     "start_time": "2025-05-11T06:29:21.036777",
     "status": "completed"
    },
    "tags": []
   },
   "outputs": [],
   "source": [
    "vocab = ['dean','deer','dear','fries','and','coke']"
   ]
  },
  {
   "cell_type": "code",
   "execution_count": 13,
   "id": "be5d6d94",
   "metadata": {
    "execution": {
     "iopub.execute_input": "2025-05-11T06:29:21.055338Z",
     "iopub.status.busy": "2025-05-11T06:29:21.055064Z",
     "iopub.status.idle": "2025-05-11T06:29:21.059312Z",
     "shell.execute_reply": "2025-05-11T06:29:21.058480Z"
    },
    "papermill": {
     "duration": 0.010226,
     "end_time": "2025-05-11T06:29:21.060675",
     "exception": false,
     "start_time": "2025-05-11T06:29:21.050449",
     "status": "completed"
    },
    "tags": []
   },
   "outputs": [],
   "source": [
    "candidates = []\n",
    "vocab = set(vocab)\n",
    "edits = set(edits)\n",
    "candidates = vocab.intersection(edits)"
   ]
  },
  {
   "cell_type": "code",
   "execution_count": 14,
   "id": "8e27df6c",
   "metadata": {
    "execution": {
     "iopub.execute_input": "2025-05-11T06:29:21.069352Z",
     "iopub.status.busy": "2025-05-11T06:29:21.069077Z",
     "iopub.status.idle": "2025-05-11T06:29:21.074364Z",
     "shell.execute_reply": "2025-05-11T06:29:21.073537Z"
    },
    "papermill": {
     "duration": 0.011239,
     "end_time": "2025-05-11T06:29:21.075831",
     "exception": false,
     "start_time": "2025-05-11T06:29:21.064592",
     "status": "completed"
    },
    "tags": []
   },
   "outputs": [
    {
     "data": {
      "text/plain": [
       "{'dear'}"
      ]
     },
     "execution_count": 14,
     "metadata": {},
     "output_type": "execute_result"
    }
   ],
   "source": [
    "candidates"
   ]
  },
  {
   "cell_type": "code",
   "execution_count": null,
   "id": "cc66ae46",
   "metadata": {
    "papermill": {
     "duration": 0.003483,
     "end_time": "2025-05-11T06:29:21.083139",
     "exception": false,
     "start_time": "2025-05-11T06:29:21.079656",
     "status": "completed"
    },
    "tags": []
   },
   "outputs": [],
   "source": []
  }
 ],
 "metadata": {
  "kaggle": {
   "accelerator": "none",
   "dataSources": [],
   "dockerImageVersionId": 31012,
   "isGpuEnabled": false,
   "isInternetEnabled": false,
   "language": "python",
   "sourceType": "notebook"
  },
  "kernelspec": {
   "display_name": "Python 3",
   "language": "python",
   "name": "python3"
  },
  "language_info": {
   "codemirror_mode": {
    "name": "ipython",
    "version": 3
   },
   "file_extension": ".py",
   "mimetype": "text/x-python",
   "name": "python",
   "nbconvert_exporter": "python",
   "pygments_lexer": "ipython3",
   "version": "3.11.11"
  },
  "papermill": {
   "default_parameters": {},
   "duration": 7.279217,
   "end_time": "2025-05-11T06:29:21.605525",
   "environment_variables": {},
   "exception": null,
   "input_path": "__notebook__.ipynb",
   "output_path": "__notebook__.ipynb",
   "parameters": {},
   "start_time": "2025-05-11T06:29:14.326308",
   "version": "2.6.0"
  }
 },
 "nbformat": 4,
 "nbformat_minor": 5
}
