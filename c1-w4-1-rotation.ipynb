{
 "cells": [
  {
   "cell_type": "code",
   "execution_count": 1,
   "id": "bd4b6eac",
   "metadata": {
    "_cell_guid": "b1076dfc-b9ad-4769-8c92-a6c4dae69d19",
    "_uuid": "8f2839f25d086af736a60e9eeb907d3b93b6e0e5",
    "execution": {
     "iopub.execute_input": "2025-04-13T19:14:13.082302Z",
     "iopub.status.busy": "2025-04-13T19:14:13.081929Z",
     "iopub.status.idle": "2025-04-13T19:14:15.022934Z",
     "shell.execute_reply": "2025-04-13T19:14:15.021942Z"
    },
    "papermill": {
     "duration": 1.94814,
     "end_time": "2025-04-13T19:14:15.024807",
     "exception": false,
     "start_time": "2025-04-13T19:14:13.076667",
     "status": "completed"
    },
    "tags": []
   },
   "outputs": [],
   "source": [
    "# This Python 3 environment comes with many helpful analytics libraries installed\n",
    "# It is defined by the kaggle/python Docker image: https://github.com/kaggle/docker-python\n",
    "# For example, here's several helpful packages to load\n",
    "\n",
    "import numpy as np # linear algebra\n",
    "import pandas as pd # data processing, CSV file I/O (e.g. pd.read_csv)\n",
    "\n",
    "# Input data files are available in the read-only \"../input/\" directory\n",
    "# For example, running this (by clicking run or pressing Shift+Enter) will list all files under the input directory\n",
    "\n",
    "import os\n",
    "for dirname, _, filenames in os.walk('/kaggle/input'):\n",
    "    for filename in filenames:\n",
    "        print(os.path.join(dirname, filename))\n",
    "\n",
    "# You can write up to 20GB to the current directory (/kaggle/working/) that gets preserved as output when you create a version using \"Save & Run All\" \n",
    "# You can also write temporary files to /kaggle/temp/, but they won't be saved outside of the current session"
   ]
  },
  {
   "cell_type": "code",
   "execution_count": 2,
   "id": "6466832a",
   "metadata": {
    "execution": {
     "iopub.execute_input": "2025-04-13T19:14:15.032975Z",
     "iopub.status.busy": "2025-04-13T19:14:15.032556Z",
     "iopub.status.idle": "2025-04-13T19:14:15.036998Z",
     "shell.execute_reply": "2025-04-13T19:14:15.036158Z"
    },
    "papermill": {
     "duration": 0.010092,
     "end_time": "2025-04-13T19:14:15.038519",
     "exception": false,
     "start_time": "2025-04-13T19:14:15.028427",
     "status": "completed"
    },
    "tags": []
   },
   "outputs": [],
   "source": [
    "import matplotlib.pyplot as plt"
   ]
  },
  {
   "cell_type": "code",
   "execution_count": 3,
   "id": "9a34e2dd",
   "metadata": {
    "execution": {
     "iopub.execute_input": "2025-04-13T19:14:15.046495Z",
     "iopub.status.busy": "2025-04-13T19:14:15.046186Z",
     "iopub.status.idle": "2025-04-13T19:14:15.050551Z",
     "shell.execute_reply": "2025-04-13T19:14:15.049647Z"
    },
    "papermill": {
     "duration": 0.009901,
     "end_time": "2025-04-13T19:14:15.052053",
     "exception": false,
     "start_time": "2025-04-13T19:14:15.042152",
     "status": "completed"
    },
    "tags": []
   },
   "outputs": [],
   "source": [
    "R = np.array([[2,0],\n",
    "            [0,-2]])"
   ]
  },
  {
   "cell_type": "code",
   "execution_count": 4,
   "id": "bbd8306f",
   "metadata": {
    "execution": {
     "iopub.execute_input": "2025-04-13T19:14:15.060099Z",
     "iopub.status.busy": "2025-04-13T19:14:15.059776Z",
     "iopub.status.idle": "2025-04-13T19:14:15.064203Z",
     "shell.execute_reply": "2025-04-13T19:14:15.063254Z"
    },
    "papermill": {
     "duration": 0.010474,
     "end_time": "2025-04-13T19:14:15.065911",
     "exception": false,
     "start_time": "2025-04-13T19:14:15.055437",
     "status": "completed"
    },
    "tags": []
   },
   "outputs": [],
   "source": [
    "x = np.array([[1,1]])"
   ]
  },
  {
   "cell_type": "code",
   "execution_count": 5,
   "id": "e212fa21",
   "metadata": {
    "execution": {
     "iopub.execute_input": "2025-04-13T19:14:15.075073Z",
     "iopub.status.busy": "2025-04-13T19:14:15.074768Z",
     "iopub.status.idle": "2025-04-13T19:14:15.082986Z",
     "shell.execute_reply": "2025-04-13T19:14:15.082135Z"
    },
    "papermill": {
     "duration": 0.013726,
     "end_time": "2025-04-13T19:14:15.084446",
     "exception": false,
     "start_time": "2025-04-13T19:14:15.070720",
     "status": "completed"
    },
    "tags": []
   },
   "outputs": [
    {
     "data": {
      "text/plain": [
       "array([[ 2, -2]])"
      ]
     },
     "execution_count": 5,
     "metadata": {},
     "output_type": "execute_result"
    }
   ],
   "source": [
    "y = np.dot(x,R)\n",
    "y"
   ]
  },
  {
   "cell_type": "code",
   "execution_count": 6,
   "id": "4188aadc",
   "metadata": {
    "execution": {
     "iopub.execute_input": "2025-04-13T19:14:15.092529Z",
     "iopub.status.busy": "2025-04-13T19:14:15.092195Z",
     "iopub.status.idle": "2025-04-13T19:14:15.100207Z",
     "shell.execute_reply": "2025-04-13T19:14:15.099215Z"
    },
    "papermill": {
     "duration": 0.01371,
     "end_time": "2025-04-13T19:14:15.101568",
     "exception": false,
     "start_time": "2025-04-13T19:14:15.087858",
     "status": "completed"
    },
    "tags": []
   },
   "outputs": [],
   "source": [
    "def plot_vectors(vectors, colors=['k', 'b', 'r', 'm', 'c'], axes=None, fname='image.svg', ax=None):\n",
    "    scale = 1\n",
    "    scale_units = 'x'\n",
    "    x_dir = []\n",
    "    y_dir = []\n",
    "    \n",
    "    for i, vec in enumerate(vectors):\n",
    "        x_dir.append(vec[0][0])\n",
    "        y_dir.append(vec[0][1])\n",
    "    \n",
    "    if ax == None:\n",
    "        fig, ax2 = plt.subplots()\n",
    "    else:\n",
    "        ax2 = ax\n",
    "      \n",
    "    if axes == None:\n",
    "        x_axis = 2 + np.max(np.abs(x_dir))\n",
    "        y_axis = 2 + np.max(np.abs(y_dir))\n",
    "    else:\n",
    "        x_axis = axes[0]\n",
    "        y_axis = axes[1]\n",
    "        \n",
    "    ax2.axis([-x_axis, x_axis, -y_axis, y_axis])\n",
    "        \n",
    "    for i, vec in enumerate(vectors):\n",
    "        ax2.arrow(0, 0, vec[0][0], vec[0][1], head_width=0.05 * x_axis, head_length=0.05 * y_axis, fc=colors[i], ec=colors[i])\n",
    "    \n",
    "    if ax == None:\n",
    "        plt.show()\n",
    "        fig.savefig(fname)"
   ]
  },
  {
   "cell_type": "code",
   "execution_count": 7,
   "id": "3b92ffba",
   "metadata": {
    "execution": {
     "iopub.execute_input": "2025-04-13T19:14:15.109670Z",
     "iopub.status.busy": "2025-04-13T19:14:15.108890Z",
     "iopub.status.idle": "2025-04-13T19:14:15.434953Z",
     "shell.execute_reply": "2025-04-13T19:14:15.433939Z"
    },
    "papermill": {
     "duration": 0.331693,
     "end_time": "2025-04-13T19:14:15.436640",
     "exception": false,
     "start_time": "2025-04-13T19:14:15.104947",
     "status": "completed"
    },
    "tags": []
   },
   "outputs": [
    {
     "data": {
      "image/png": "[encoded data removed]",
      "text/plain": [
       "<Figure size 640x480 with 1 Axes>"
      ]
     },
     "metadata": {},
     "output_type": "display_data"
    }
   ],
   "source": [
    "plot_vectors([x], axes = [4,4], fname='transform_x.svg')"
   ]
  },
  {
   "cell_type": "code",
   "execution_count": 8,
   "id": "8b5b7382",
   "metadata": {
    "execution": {
     "iopub.execute_input": "2025-04-13T19:14:15.446251Z",
     "iopub.status.busy": "2025-04-13T19:14:15.445919Z",
     "iopub.status.idle": "2025-04-13T19:14:15.700966Z",
     "shell.execute_reply": "2025-04-13T19:14:15.700066Z"
    },
    "papermill": {
     "duration": 0.26181,
     "end_time": "2025-04-13T19:14:15.702730",
     "exception": false,
     "start_time": "2025-04-13T19:14:15.440920",
     "status": "completed"
    },
    "tags": []
   },
   "outputs": [
    {
     "data": {
      "image/png": "[encoded data removed]",
      "text/plain": [
       "<Figure size 640x480 with 1 Axes>"
      ]
     },
     "metadata": {},
     "output_type": "display_data"
    }
   ],
   "source": [
    "plot_vectors([x,y], axes=[4,4], fname=\"transformx_and_y.svg\")"
   ]
  },
  {
   "cell_type": "code",
   "execution_count": 9,
   "id": "fbd06ff9",
   "metadata": {
    "execution": {
     "iopub.execute_input": "2025-04-13T19:14:15.712296Z",
     "iopub.status.busy": "2025-04-13T19:14:15.711525Z",
     "iopub.status.idle": "2025-04-13T19:14:15.717192Z",
     "shell.execute_reply": "2025-04-13T19:14:15.716416Z"
    },
    "papermill": {
     "duration": 0.011721,
     "end_time": "2025-04-13T19:14:15.718681",
     "exception": false,
     "start_time": "2025-04-13T19:14:15.706960",
     "status": "completed"
    },
    "tags": []
   },
   "outputs": [],
   "source": [
    "angle = 100 * (np.pi/180)\n",
    "\n",
    "Ro = np.array([[np.cos(angle), -np.sin(angle)],\n",
    "              [np.sin(angle), np.cos(angle)]])\n",
    "\n",
    "x2 = np.array([2,2]).reshape(1,-1)\n",
    "y2 = np.dot(x2,Ro)"
   ]
  },
  {
   "cell_type": "code",
   "execution_count": 10,
   "id": "2935959c",
   "metadata": {
    "execution": {
     "iopub.execute_input": "2025-04-13T19:14:15.727356Z",
     "iopub.status.busy": "2025-04-13T19:14:15.727038Z",
     "iopub.status.idle": "2025-04-13T19:14:15.732301Z",
     "shell.execute_reply": "2025-04-13T19:14:15.731417Z"
    },
    "papermill": {
     "duration": 0.011259,
     "end_time": "2025-04-13T19:14:15.733804",
     "exception": false,
     "start_time": "2025-04-13T19:14:15.722545",
     "status": "completed"
    },
    "tags": []
   },
   "outputs": [
    {
     "name": "stdout",
     "output_type": "stream",
     "text": [
      "[[-0.17364818 -0.98480775]\n",
      " [ 0.98480775 -0.17364818]]\n",
      "[[ 1.62231915 -2.31691186]]\n"
     ]
    }
   ],
   "source": [
    "print(Ro)\n",
    "print(y2)"
   ]
  },
  {
   "cell_type": "code",
   "execution_count": 11,
   "id": "e78bfb6a",
   "metadata": {
    "execution": {
     "iopub.execute_input": "2025-04-13T19:14:15.742627Z",
     "iopub.status.busy": "2025-04-13T19:14:15.742316Z",
     "iopub.status.idle": "2025-04-13T19:14:15.748411Z",
     "shell.execute_reply": "2025-04-13T19:14:15.747426Z"
    },
    "papermill": {
     "duration": 0.012121,
     "end_time": "2025-04-13T19:14:15.749835",
     "exception": false,
     "start_time": "2025-04-13T19:14:15.737714",
     "status": "completed"
    },
    "tags": []
   },
   "outputs": [
    {
     "name": "stdout",
     "output_type": "stream",
     "text": [
      "x2 norm:  2.8284271247461903\n",
      "y2 norm:  2.82842712474619\n",
      "Rotation matrix norm:  1.414213562373095\n"
     ]
    }
   ],
   "source": [
    "print(\"x2 norm: \",np.linalg.norm(x2))\n",
    "print(\"y2 norm: \",np.linalg.norm(y2))\n",
    "print(\"Rotation matrix norm: \",np.linalg.norm(Ro))"
   ]
  },
  {
   "cell_type": "code",
   "execution_count": 12,
   "id": "dabd8e99",
   "metadata": {
    "execution": {
     "iopub.execute_input": "2025-04-13T19:14:15.759453Z",
     "iopub.status.busy": "2025-04-13T19:14:15.758619Z",
     "iopub.status.idle": "2025-04-13T19:14:15.763001Z",
     "shell.execute_reply": "2025-04-13T19:14:15.762191Z"
    },
    "papermill": {
     "duration": 0.010614,
     "end_time": "2025-04-13T19:14:15.764508",
     "exception": false,
     "start_time": "2025-04-13T19:14:15.753894",
     "status": "completed"
    },
    "tags": []
   },
   "outputs": [],
   "source": [
    "A = np.array([[2,0],\n",
    "            [-1,3]])"
   ]
  },
  {
   "cell_type": "code",
   "execution_count": 13,
   "id": "fbcb1e16",
   "metadata": {
    "execution": {
     "iopub.execute_input": "2025-04-13T19:14:15.773923Z",
     "iopub.status.busy": "2025-04-13T19:14:15.773593Z",
     "iopub.status.idle": "2025-04-13T19:14:15.780006Z",
     "shell.execute_reply": "2025-04-13T19:14:15.779123Z"
    },
    "papermill": {
     "duration": 0.013088,
     "end_time": "2025-04-13T19:14:15.781686",
     "exception": false,
     "start_time": "2025-04-13T19:14:15.768598",
     "status": "completed"
    },
    "tags": []
   },
   "outputs": [
    {
     "data": {
      "text/plain": [
       "3.7416573867739413"
      ]
     },
     "execution_count": 13,
     "metadata": {},
     "output_type": "execute_result"
    }
   ],
   "source": [
    "A_sq = np.square(A)\n",
    "frob_norm = np.sqrt(np.sum(A_sq))\n",
    "frob_norm"
   ]
  },
  {
   "cell_type": "code",
   "execution_count": 14,
   "id": "4a4e7c23",
   "metadata": {
    "execution": {
     "iopub.execute_input": "2025-04-13T19:14:15.790681Z",
     "iopub.status.busy": "2025-04-13T19:14:15.790409Z",
     "iopub.status.idle": "2025-04-13T19:14:15.796439Z",
     "shell.execute_reply": "2025-04-13T19:14:15.795556Z"
    },
    "papermill": {
     "duration": 0.012309,
     "end_time": "2025-04-13T19:14:15.797947",
     "exception": false,
     "start_time": "2025-04-13T19:14:15.785638",
     "status": "completed"
    },
    "tags": []
   },
   "outputs": [
    {
     "data": {
      "text/plain": [
       "3.7416573867739413"
      ]
     },
     "execution_count": 14,
     "metadata": {},
     "output_type": "execute_result"
    }
   ],
   "source": [
    "np.linalg.norm(A)"
   ]
  },
  {
   "cell_type": "code",
   "execution_count": null,
   "id": "5ae814ff",
   "metadata": {
    "execution": {
     "iopub.execute_input": "2025-04-13T19:11:17.596792Z",
     "iopub.status.busy": "2025-04-13T19:11:17.596017Z",
     "iopub.status.idle": "2025-04-13T19:11:17.602498Z",
     "shell.execute_reply": "2025-04-13T19:11:17.601546Z",
     "shell.execute_reply.started": "2025-04-13T19:11:17.596765Z"
    },
    "papermill": {
     "duration": 0.003677,
     "end_time": "2025-04-13T19:14:15.805656",
     "exception": false,
     "start_time": "2025-04-13T19:14:15.801979",
     "status": "completed"
    },
    "tags": []
   },
   "outputs": [],
   "source": []
  },
  {
   "cell_type": "code",
   "execution_count": null,
   "id": "946fb460",
   "metadata": {
    "papermill": {
     "duration": 0.003702,
     "end_time": "2025-04-13T19:14:15.813306",
     "exception": false,
     "start_time": "2025-04-13T19:14:15.809604",
     "status": "completed"
    },
    "tags": []
   },
   "outputs": [],
   "source": []
  }
 ],
 "metadata": {
  "kaggle": {
   "accelerator": "none",
   "dataSources": [],
   "dockerImageVersionId": 31012,
   "isGpuEnabled": false,
   "isInternetEnabled": false,
   "language": "python",
   "sourceType": "notebook"
  },
  "kernelspec": {
   "display_name": "Python 3",
   "language": "python",
   "name": "python3"
  },
  "language_info": {
   "codemirror_mode": {
    "name": "ipython",
    "version": 3
   },
   "file_extension": ".py",
   "mimetype": "text/x-python",
   "name": "python",
   "nbconvert_exporter": "python",
   "pygments_lexer": "ipython3",
   "version": "3.11.11"
  },
  "papermill": {
   "default_parameters": {},
   "duration": 8.211466,
   "end_time": "2025-04-13T19:14:16.335909",
   "environment_variables": {},
   "exception": null,
   "input_path": "__notebook__.ipynb",
   "output_path": "__notebook__.ipynb",
   "parameters": {},
   "start_time": "2025-04-13T19:14:08.124443",
   "version": "2.6.0"
  }
 },
 "nbformat": 4,
 "nbformat_minor": 5
}
