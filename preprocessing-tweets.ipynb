{
 "cells": [
  {
   "cell_type": "code",
   "execution_count": 1,
   "id": "7283e398",
   "metadata": {
    "_cell_guid": "b1076dfc-b9ad-4769-8c92-a6c4dae69d19",
    "_uuid": "8f2839f25d086af736a60e9eeb907d3b93b6e0e5",
    "execution": {
     "iopub.execute_input": "2025-04-07T17:48:55.303461Z",
     "iopub.status.busy": "2025-04-07T17:48:55.303051Z",
     "iopub.status.idle": "2025-04-07T17:48:56.431674Z",
     "shell.execute_reply": "2025-04-07T17:48:56.430552Z"
    },
    "papermill": {
     "duration": 1.137022,
     "end_time": "2025-04-07T17:48:56.433607",
     "exception": false,
     "start_time": "2025-04-07T17:48:55.296585",
     "status": "completed"
    },
    "tags": []
   },
   "outputs": [],
   "source": [
    "# This Python 3 environment comes with many helpful analytics libraries installed\n",
    "# It is defined by the kaggle/python Docker image: https://github.com/kaggle/docker-python\n",
    "# For example, here's several helpful packages to load\n",
    "\n",
    "import numpy as np # linear algebra\n",
    "import pandas as pd # data processing, CSV file I/O (e.g. pd.read_csv)\n",
    "\n",
    "# Input data files are available in the read-only \"../input/\" directory\n",
    "# For example, running this (by clicking run or pressing Shift+Enter) will list all files under the input directory\n",
    "\n",
    "import os\n",
    "for dirname, _, filenames in os.walk('/kaggle/input'):\n",
    "    for filename in filenames:\n",
    "        print(os.path.join(dirname, filename))\n",
    "\n",
    "# You can write up to 20GB to the current directory (/kaggle/working/) that gets preserved as output when you create a version using \"Save & Run All\" \n",
    "# You can also write temporary files to /kaggle/temp/, but they won't be saved outside of the current session"
   ]
  },
  {
   "cell_type": "code",
   "execution_count": 2,
   "id": "765cbd3d",
   "metadata": {
    "execution": {
     "iopub.execute_input": "2025-04-07T17:48:56.444714Z",
     "iopub.status.busy": "2025-04-07T17:48:56.444165Z",
     "iopub.status.idle": "2025-04-07T17:48:59.114942Z",
     "shell.execute_reply": "2025-04-07T17:48:59.113520Z"
    },
    "papermill": {
     "duration": 2.678609,
     "end_time": "2025-04-07T17:48:59.117242",
     "exception": false,
     "start_time": "2025-04-07T17:48:56.438633",
     "status": "completed"
    },
    "tags": []
   },
   "outputs": [],
   "source": [
    "import nltk\n",
    "from nltk.corpus import twitter_samples\n",
    "import matplotlib.pyplot as plt\n",
    "import random"
   ]
  },
  {
   "cell_type": "code",
   "execution_count": 3,
   "id": "72c2ad78",
   "metadata": {
    "execution": {
     "iopub.execute_input": "2025-04-07T17:48:59.130607Z",
     "iopub.status.busy": "2025-04-07T17:48:59.130022Z",
     "iopub.status.idle": "2025-04-07T17:48:59.945884Z",
     "shell.execute_reply": "2025-04-07T17:48:59.944677Z"
    },
    "papermill": {
     "duration": 0.824924,
     "end_time": "2025-04-07T17:48:59.948101",
     "exception": false,
     "start_time": "2025-04-07T17:48:59.123177",
     "status": "completed"
    },
    "tags": []
   },
   "outputs": [],
   "source": [
    "all_positive_tweets = twitter_samples.strings('positive_tweets.json')\n",
    "all_negative_tweets = twitter_samples.strings('negative_tweets.json')"
   ]
  },
  {
   "cell_type": "code",
   "execution_count": 4,
   "id": "0d0baf79",
   "metadata": {
    "execution": {
     "iopub.execute_input": "2025-04-07T17:48:59.959250Z",
     "iopub.status.busy": "2025-04-07T17:48:59.958902Z",
     "iopub.status.idle": "2025-04-07T17:48:59.965409Z",
     "shell.execute_reply": "2025-04-07T17:48:59.963918Z"
    },
    "papermill": {
     "duration": 0.013905,
     "end_time": "2025-04-07T17:48:59.967106",
     "exception": false,
     "start_time": "2025-04-07T17:48:59.953201",
     "status": "completed"
    },
    "tags": []
   },
   "outputs": [
    {
     "name": "stdout",
     "output_type": "stream",
     "text": [
      "Positive:  5000\n",
      "Negative:  5000\n"
     ]
    }
   ],
   "source": [
    "print(\"Positive: \", len(all_positive_tweets))\n",
    "print(\"Negative: \", len(all_negative_tweets))\n"
   ]
  },
  {
   "cell_type": "code",
   "execution_count": 5,
   "id": "73e2eaff",
   "metadata": {
    "execution": {
     "iopub.execute_input": "2025-04-07T17:48:59.978208Z",
     "iopub.status.busy": "2025-04-07T17:48:59.977821Z",
     "iopub.status.idle": "2025-04-07T17:49:00.233799Z",
     "shell.execute_reply": "2025-04-07T17:49:00.232058Z"
    },
    "papermill": {
     "duration": 0.263868,
     "end_time": "2025-04-07T17:49:00.235978",
     "exception": false,
     "start_time": "2025-04-07T17:48:59.972110",
     "status": "completed"
    },
    "tags": []
   },
   "outputs": [
    {
     "data": {
      "image/png": "[encoded data removed]",
      "text/plain": [
       "<Figure size 500x500 with 1 Axes>"
      ]
     },
     "metadata": {},
     "output_type": "display_data"
    }
   ],
   "source": [
    "fig = plt.figure(figsize=(5,5))\n",
    "labels = ['Positives', 'Negatives']\n",
    "sizes = [len(all_positive_tweets), len(all_negative_tweets)] \n",
    "\n",
    "plt.pie(sizes, labels=labels, startangle=90, shadow=True, autopct='%1.1f%%')\n",
    "plt.axis('equal')\n",
    "plt.show()"
   ]
  },
  {
   "cell_type": "code",
   "execution_count": 6,
   "id": "2602e343",
   "metadata": {
    "execution": {
     "iopub.execute_input": "2025-04-07T17:49:00.249404Z",
     "iopub.status.busy": "2025-04-07T17:49:00.249012Z",
     "iopub.status.idle": "2025-04-07T17:49:00.255932Z",
     "shell.execute_reply": "2025-04-07T17:49:00.254349Z"
    },
    "papermill": {
     "duration": 0.015607,
     "end_time": "2025-04-07T17:49:00.257876",
     "exception": false,
     "start_time": "2025-04-07T17:49:00.242269",
     "status": "completed"
    },
    "tags": []
   },
   "outputs": [
    {
     "name": "stdout",
     "output_type": "stream",
     "text": [
      "\u001b[92m @Sweetiepiie67 have a great day hunny :)\n",
      "\u001b[91m @riseagainst why you don't come to Barcelona this year? :( won't be able to see you in Madrid or Bilbao...\n"
     ]
    }
   ],
   "source": [
    "print('\\033[92m',all_positive_tweets[random.randint(0,5000)])\n",
    "print('\\033[91m',all_negative_tweets[random.randint(0,5000)])\n"
   ]
  },
  {
   "cell_type": "markdown",
   "id": "592c3a26",
   "metadata": {
    "papermill": {
     "duration": 0.004819,
     "end_time": "2025-04-07T17:49:00.268461",
     "exception": false,
     "start_time": "2025-04-07T17:49:00.263642",
     "status": "completed"
    },
    "tags": []
   },
   "source": [
    "**Preprocessing**"
   ]
  },
  {
   "cell_type": "code",
   "execution_count": 7,
   "id": "42f2cc60",
   "metadata": {
    "execution": {
     "iopub.execute_input": "2025-04-07T17:49:00.280651Z",
     "iopub.status.busy": "2025-04-07T17:49:00.280226Z",
     "iopub.status.idle": "2025-04-07T17:49:00.286925Z",
     "shell.execute_reply": "2025-04-07T17:49:00.285768Z"
    },
    "papermill": {
     "duration": 0.015271,
     "end_time": "2025-04-07T17:49:00.288971",
     "exception": false,
     "start_time": "2025-04-07T17:49:00.273700",
     "status": "completed"
    },
    "tags": []
   },
   "outputs": [
    {
     "data": {
      "text/plain": [
       "'My beautiful sunflowers on a sunny Friday morning off :) #sunflowers #favourites #happy #Friday off… https://t.co/3tfYom0N1i'"
      ]
     },
     "execution_count": 7,
     "metadata": {},
     "output_type": "execute_result"
    }
   ],
   "source": [
    "tweet = all_positive_tweets[2277]\n",
    "tweet"
   ]
  },
  {
   "cell_type": "code",
   "execution_count": 8,
   "id": "2572d97d",
   "metadata": {
    "execution": {
     "iopub.execute_input": "2025-04-07T17:49:00.301770Z",
     "iopub.status.busy": "2025-04-07T17:49:00.301275Z",
     "iopub.status.idle": "2025-04-07T17:49:00.306169Z",
     "shell.execute_reply": "2025-04-07T17:49:00.305028Z"
    },
    "papermill": {
     "duration": 0.013337,
     "end_time": "2025-04-07T17:49:00.308190",
     "exception": false,
     "start_time": "2025-04-07T17:49:00.294853",
     "status": "completed"
    },
    "tags": []
   },
   "outputs": [],
   "source": [
    "import re\n",
    "import string\n",
    "from nltk.corpus import stopwords\n",
    "from nltk.stem import PorterStemmer\n",
    "from nltk.tokenize import TweetTokenizer"
   ]
  },
  {
   "cell_type": "markdown",
   "id": "31a93dce",
   "metadata": {
    "papermill": {
     "duration": 0.005861,
     "end_time": "2025-04-07T17:49:00.320175",
     "exception": false,
     "start_time": "2025-04-07T17:49:00.314314",
     "status": "completed"
    },
    "tags": []
   },
   "source": [
    "**Remove hyperlinks, Twitter marks and styles**"
   ]
  },
  {
   "cell_type": "code",
   "execution_count": 9,
   "id": "4cefaac5",
   "metadata": {
    "execution": {
     "iopub.execute_input": "2025-04-07T17:49:00.333810Z",
     "iopub.status.busy": "2025-04-07T17:49:00.333349Z",
     "iopub.status.idle": "2025-04-07T17:49:00.339056Z",
     "shell.execute_reply": "2025-04-07T17:49:00.337656Z"
    },
    "papermill": {
     "duration": 0.014572,
     "end_time": "2025-04-07T17:49:00.340990",
     "exception": false,
     "start_time": "2025-04-07T17:49:00.326418",
     "status": "completed"
    },
    "tags": []
   },
   "outputs": [
    {
     "name": "stdout",
     "output_type": "stream",
     "text": [
      "\u001b[92m My beautiful sunflowers on a sunny Friday morning off :) #sunflowers #favourites #happy #Friday off… https://t.co/3tfYom0N1i\n"
     ]
    }
   ],
   "source": [
    "print('\\033[92m',tweet)"
   ]
  },
  {
   "cell_type": "code",
   "execution_count": 10,
   "id": "eb4c4d80",
   "metadata": {
    "execution": {
     "iopub.execute_input": "2025-04-07T17:49:00.354827Z",
     "iopub.status.busy": "2025-04-07T17:49:00.354403Z",
     "iopub.status.idle": "2025-04-07T17:49:00.362150Z",
     "shell.execute_reply": "2025-04-07T17:49:00.360641Z"
    },
    "papermill": {
     "duration": 0.016822,
     "end_time": "2025-04-07T17:49:00.364159",
     "exception": false,
     "start_time": "2025-04-07T17:49:00.347337",
     "status": "completed"
    },
    "tags": []
   },
   "outputs": [
    {
     "name": "stdout",
     "output_type": "stream",
     "text": [
      "\u001b[94m\n",
      "My beautiful sunflowers on a sunny Friday morning off :) sunflowers favourites happy Friday off… \n"
     ]
    }
   ],
   "source": [
    "print('\\033[94m')\n",
    "tweet2 = re.sub(r'^RT[\\s]+','',tweet)\n",
    "tweet2 = re.sub(r'https?:\\/\\/.*[\\r\\n]*','',tweet2)\n",
    "tweet2 = re.sub(r'#','',tweet2)\n",
    "print(tweet2)"
   ]
  },
  {
   "cell_type": "markdown",
   "id": "6a715e46",
   "metadata": {
    "papermill": {
     "duration": 0.005402,
     "end_time": "2025-04-07T17:49:00.375337",
     "exception": false,
     "start_time": "2025-04-07T17:49:00.369935",
     "status": "completed"
    },
    "tags": []
   },
   "source": [
    "**Tokenize the String**"
   ]
  },
  {
   "cell_type": "code",
   "execution_count": 11,
   "id": "e198555b",
   "metadata": {
    "execution": {
     "iopub.execute_input": "2025-04-07T17:49:00.389931Z",
     "iopub.status.busy": "2025-04-07T17:49:00.389531Z",
     "iopub.status.idle": "2025-04-07T17:49:00.398264Z",
     "shell.execute_reply": "2025-04-07T17:49:00.396417Z"
    },
    "papermill": {
     "duration": 0.019368,
     "end_time": "2025-04-07T17:49:00.400616",
     "exception": false,
     "start_time": "2025-04-07T17:49:00.381248",
     "status": "completed"
    },
    "tags": []
   },
   "outputs": [
    {
     "name": "stdout",
     "output_type": "stream",
     "text": [
      "\u001b[92mMy beautiful sunflowers on a sunny Friday morning off :) sunflowers favourites happy Friday off… \n",
      "\u001b[94m\n",
      "['my', 'beautiful', 'sunflowers', 'on', 'a', 'sunny', 'friday', 'morning', 'off', ':)', 'sunflowers', 'favourites', 'happy', 'friday', 'off', '…']\n"
     ]
    }
   ],
   "source": [
    "print('\\033[92m' + tweet2)\n",
    "print('\\033[94m')\n",
    "\n",
    "tokenizer=TweetTokenizer(preserve_case=False, strip_handles=True, reduce_len=True)\n",
    "tweet_tokens = tokenizer.tokenize(tweet2)\n",
    "print(tweet_tokens)\n"
   ]
  },
  {
   "cell_type": "markdown",
   "id": "5667459d",
   "metadata": {
    "papermill": {
     "duration": 0.00573,
     "end_time": "2025-04-07T17:49:00.412799",
     "exception": false,
     "start_time": "2025-04-07T17:49:00.407069",
     "status": "completed"
    },
    "tags": []
   },
   "source": [
    "**Remove stop words and punctuations**"
   ]
  },
  {
   "cell_type": "code",
   "execution_count": 12,
   "id": "defd490d",
   "metadata": {
    "execution": {
     "iopub.execute_input": "2025-04-07T17:49:00.426176Z",
     "iopub.status.busy": "2025-04-07T17:49:00.425797Z",
     "iopub.status.idle": "2025-04-07T17:49:00.436842Z",
     "shell.execute_reply": "2025-04-07T17:49:00.435606Z"
    },
    "papermill": {
     "duration": 0.020427,
     "end_time": "2025-04-07T17:49:00.439028",
     "exception": false,
     "start_time": "2025-04-07T17:49:00.418601",
     "status": "completed"
    },
    "tags": []
   },
   "outputs": [
    {
     "name": "stdout",
     "output_type": "stream",
     "text": [
      "Stop Words:\n",
      " ['i', 'me', 'my', 'myself', 'we', 'our', 'ours', 'ourselves', 'you', \"you're\", \"you've\", \"you'll\", \"you'd\", 'your', 'yours', 'yourself', 'yourselves', 'he', 'him', 'his', 'himself', 'she', \"she's\", 'her', 'hers', 'herself', 'it', \"it's\", 'its', 'itself', 'they', 'them', 'their', 'theirs', 'themselves', 'what', 'which', 'who', 'whom', 'this', 'that', \"that'll\", 'these', 'those', 'am', 'is', 'are', 'was', 'were', 'be', 'been', 'being', 'have', 'has', 'had', 'having', 'do', 'does', 'did', 'doing', 'a', 'an', 'the', 'and', 'but', 'if', 'or', 'because', 'as', 'until', 'while', 'of', 'at', 'by', 'for', 'with', 'about', 'against', 'between', 'into', 'through', 'during', 'before', 'after', 'above', 'below', 'to', 'from', 'up', 'down', 'in', 'out', 'on', 'off', 'over', 'under', 'again', 'further', 'then', 'once', 'here', 'there', 'when', 'where', 'why', 'how', 'all', 'any', 'both', 'each', 'few', 'more', 'most', 'other', 'some', 'such', 'no', 'nor', 'not', 'only', 'own', 'same', 'so', 'than', 'too', 'very', 's', 't', 'can', 'will', 'just', 'don', \"don't\", 'should', \"should've\", 'now', 'd', 'll', 'm', 'o', 're', 've', 'y', 'ain', 'aren', \"aren't\", 'couldn', \"couldn't\", 'didn', \"didn't\", 'doesn', \"doesn't\", 'hadn', \"hadn't\", 'hasn', \"hasn't\", 'haven', \"haven't\", 'isn', \"isn't\", 'ma', 'mightn', \"mightn't\", 'mustn', \"mustn't\", 'needn', \"needn't\", 'shan', \"shan't\", 'shouldn', \"shouldn't\", 'wasn', \"wasn't\", 'weren', \"weren't\", 'won', \"won't\", 'wouldn', \"wouldn't\"]\n",
      "Punctuations:\n",
      " !\"#$%&'()*+,-./:;<=>?@[\\]^_`{|}~\n"
     ]
    }
   ],
   "source": [
    "stopwords_english = stopwords.words('english')\n",
    "print(\"Stop Words:\\n\",stopwords_english)\n",
    "print(\"Punctuations:\\n\",string.punctuation)"
   ]
  },
  {
   "cell_type": "code",
   "execution_count": 13,
   "id": "993c5392",
   "metadata": {
    "execution": {
     "iopub.execute_input": "2025-04-07T17:49:00.453494Z",
     "iopub.status.busy": "2025-04-07T17:49:00.453066Z",
     "iopub.status.idle": "2025-04-07T17:49:00.459431Z",
     "shell.execute_reply": "2025-04-07T17:49:00.458085Z"
    },
    "papermill": {
     "duration": 0.015513,
     "end_time": "2025-04-07T17:49:00.461326",
     "exception": false,
     "start_time": "2025-04-07T17:49:00.445813",
     "status": "completed"
    },
    "tags": []
   },
   "outputs": [
    {
     "name": "stdout",
     "output_type": "stream",
     "text": [
      "\u001b[94m\n",
      "['beautiful', 'sunflowers', 'sunny', 'friday', 'morning', ':)', 'sunflowers', 'favourites', 'happy', 'friday', '…']\n"
     ]
    }
   ],
   "source": [
    "print('\\033[94m')\n",
    "\n",
    "tweets_clean = []\n",
    "\n",
    "for word in tweet_tokens:\n",
    "    if word not in stopwords_english and word not in string.punctuation:\n",
    "        tweets_clean.append(word)\n",
    "print(tweets_clean)"
   ]
  },
  {
   "cell_type": "markdown",
   "id": "272944b3",
   "metadata": {
    "papermill": {
     "duration": 0.005626,
     "end_time": "2025-04-07T17:49:00.473036",
     "exception": false,
     "start_time": "2025-04-07T17:49:00.467410",
     "status": "completed"
    },
    "tags": []
   },
   "source": [
    "**Stemming**"
   ]
  },
  {
   "cell_type": "code",
   "execution_count": 14,
   "id": "63e14daa",
   "metadata": {
    "execution": {
     "iopub.execute_input": "2025-04-07T17:49:00.486187Z",
     "iopub.status.busy": "2025-04-07T17:49:00.485765Z",
     "iopub.status.idle": "2025-04-07T17:49:00.492361Z",
     "shell.execute_reply": "2025-04-07T17:49:00.490573Z"
    },
    "papermill": {
     "duration": 0.016372,
     "end_time": "2025-04-07T17:49:00.495334",
     "exception": false,
     "start_time": "2025-04-07T17:49:00.478962",
     "status": "completed"
    },
    "tags": []
   },
   "outputs": [
    {
     "name": "stdout",
     "output_type": "stream",
     "text": [
      "\u001b[94m\n",
      "['beauti', 'sunflow', 'sunni', 'friday', 'morn', ':)', 'sunflow', 'favourit', 'happi', 'friday', '…']\n"
     ]
    }
   ],
   "source": [
    "print('\\033[94m')\n",
    "stemmer = PorterStemmer()\n",
    "tweets_stem=[]\n",
    "\n",
    "for word in tweets_clean:\n",
    "    stem_word = stemmer.stem(word)\n",
    "    tweets_stem.append(stem_word)\n",
    "print(tweets_stem)"
   ]
  },
  {
   "cell_type": "code",
   "execution_count": 15,
   "id": "9cd94f89",
   "metadata": {
    "execution": {
     "iopub.execute_input": "2025-04-07T17:49:00.509184Z",
     "iopub.status.busy": "2025-04-07T17:49:00.508785Z",
     "iopub.status.idle": "2025-04-07T17:49:00.515324Z",
     "shell.execute_reply": "2025-04-07T17:49:00.514078Z"
    },
    "papermill": {
     "duration": 0.015433,
     "end_time": "2025-04-07T17:49:00.517140",
     "exception": false,
     "start_time": "2025-04-07T17:49:00.501707",
     "status": "completed"
    },
    "tags": []
   },
   "outputs": [],
   "source": [
    "def process_tweet(tweet):\n",
    "    tweet = re.sub(r'\\$\\w*','',tweet)\n",
    "    tweet = re.sub(r'^RT[\\s]+','',tweet)\n",
    "    tweet = re.sub(r'https?:\\/\\/.*[\\r\\n]*','',tweet)\n",
    "    tweet = re.sub(r'#','',tweet)\n",
    "\n",
    "    tokenizer=TweetTokenizer(preserve_case=False, strip_handles=True, reduce_len=True)\n",
    "    tweet_tokens = tokenizer.tokenize(tweet)\n",
    "\n",
    "    stop_words = stopwords.words('english')\n",
    "    stemmer=PorterStemmer()\n",
    "    tokens_clean = []\n",
    "    for word in tweet_tokens:\n",
    "        if word not in stop_words and word not in string.punctuation:\n",
    "            stem_word = stemmer.stem(word)\n",
    "            tokens_clean.append(stem_word)\n",
    "    \n",
    "    return tokens_clean"
   ]
  },
  {
   "cell_type": "code",
   "execution_count": 16,
   "id": "8b66a681",
   "metadata": {
    "execution": {
     "iopub.execute_input": "2025-04-07T17:49:00.530597Z",
     "iopub.status.busy": "2025-04-07T17:49:00.530203Z",
     "iopub.status.idle": "2025-04-07T17:49:00.540335Z",
     "shell.execute_reply": "2025-04-07T17:49:00.538326Z"
    },
    "papermill": {
     "duration": 0.019192,
     "end_time": "2025-04-07T17:49:00.542446",
     "exception": false,
     "start_time": "2025-04-07T17:49:00.523254",
     "status": "completed"
    },
    "tags": []
   },
   "outputs": [
    {
     "name": "stdout",
     "output_type": "stream",
     "text": [
      "\u001b[92m\n",
      "My beautiful sunflowers on a sunny Friday morning off :) #sunflowers #favourites #happy #Friday off… https://t.co/3tfYom0N1i \n",
      "\n",
      "\u001b[94m\n",
      "Preprocess Tweet:\n",
      " ['beauti', 'sunflow', 'sunni', 'friday', 'morn', ':)', 'sunflow', 'favourit', 'happi', 'friday', '…']\n"
     ]
    }
   ],
   "source": [
    "tweet = all_positive_tweets[2277]\n",
    "print('\\033[92m')\n",
    "print(tweet,'\\n')\n",
    "\n",
    "print('\\033[94m')\n",
    "\n",
    "tweets_stem = process_tweet(tweet)\n",
    "print('Preprocess Tweet:\\n',tweets_stem)"
   ]
  }
 ],
 "metadata": {
  "kaggle": {
   "accelerator": "none",
   "dataSources": [],
   "dockerImageVersionId": 30918,
   "isGpuEnabled": false,
   "isInternetEnabled": false,
   "language": "python",
   "sourceType": "notebook"
  },
  "kernelspec": {
   "display_name": "Python 3",
   "language": "python",
   "name": "python3"
  },
  "language_info": {
   "codemirror_mode": {
    "name": "ipython",
    "version": 3
   },
   "file_extension": ".py",
   "mimetype": "text/x-python",
   "name": "python",
   "nbconvert_exporter": "python",
   "pygments_lexer": "ipython3",
   "version": "3.10.12"
  },
  "papermill": {
   "default_parameters": {},
   "duration": 9.282774,
   "end_time": "2025-04-07T17:49:01.371085",
   "environment_variables": {},
   "exception": null,
   "input_path": "__notebook__.ipynb",
   "output_path": "__notebook__.ipynb",
   "parameters": {},
   "start_time": "2025-04-07T17:48:52.088311",
   "version": "2.6.0"
  }
 },
 "nbformat": 4,
 "nbformat_minor": 5
}
