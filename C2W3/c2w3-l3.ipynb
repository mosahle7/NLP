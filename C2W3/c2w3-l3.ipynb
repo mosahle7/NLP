{
 "cells": [
  {
   "cell_type": "code",
   "execution_count": 1,
   "id": "9163c0cd",
   "metadata": {
    "_cell_guid": "b1076dfc-b9ad-4769-8c92-a6c4dae69d19",
    "_uuid": "8f2839f25d086af736a60e9eeb907d3b93b6e0e5",
    "execution": {
     "iopub.execute_input": "2025-06-09T15:03:50.463824Z",
     "iopub.status.busy": "2025-06-09T15:03:50.462977Z",
     "iopub.status.idle": "2025-06-09T15:03:52.562219Z",
     "shell.execute_reply": "2025-06-09T15:03:52.561000Z"
    },
    "papermill": {
     "duration": 2.10445,
     "end_time": "2025-06-09T15:03:52.563991",
     "exception": false,
     "start_time": "2025-06-09T15:03:50.459541",
     "status": "completed"
    },
    "tags": []
   },
   "outputs": [],
   "source": [
    "# This Python 3 environment comes with many helpful analytics libraries installed\n",
    "# It is defined by the kaggle/python Docker image: https://github.com/kaggle/docker-python\n",
    "# For example, here's several helpful packages to load\n",
    "\n",
    "import numpy as np # linear algebra\n",
    "import pandas as pd # data processing, CSV file I/O (e.g. pd.read_csv)\n",
    "\n",
    "# Input data files are available in the read-only \"../input/\" directory\n",
    "# For example, running this (by clicking run or pressing Shift+Enter) will list all files under the input directory\n",
    "\n",
    "import os\n",
    "for dirname, _, filenames in os.walk('/kaggle/input'):\n",
    "    for filename in filenames:\n",
    "        print(os.path.join(dirname, filename))\n",
    "\n",
    "# You can write up to 20GB to the current directory (/kaggle/working/) that gets preserved as output when you create a version using \"Save & Run All\" \n",
    "# You can also write temporary files to /kaggle/temp/, but they won't be saved outside of the current session"
   ]
  },
  {
   "cell_type": "code",
   "execution_count": 2,
   "id": "cd86dc57",
   "metadata": {
    "execution": {
     "iopub.execute_input": "2025-06-09T15:03:52.570218Z",
     "iopub.status.busy": "2025-06-09T15:03:52.569251Z",
     "iopub.status.idle": "2025-06-09T15:03:52.577630Z",
     "shell.execute_reply": "2025-06-09T15:03:52.576468Z"
    },
    "papermill": {
     "duration": 0.012938,
     "end_time": "2025-06-09T15:03:52.579282",
     "exception": false,
     "start_time": "2025-06-09T15:03:52.566344",
     "status": "completed"
    },
    "tags": []
   },
   "outputs": [
    {
     "data": {
      "text/plain": [
       "['happy', 'because', 'learning']"
      ]
     },
     "execution_count": 2,
     "metadata": {},
     "output_type": "execute_result"
    }
   ],
   "source": [
    "from collections import Counter\n",
    "\n",
    "M = 3\n",
    "word_counts = {'happy': 5,'because':3,'i':2,'am':2,'learning':3,'.':1}\n",
    "\n",
    "vocab = Counter(word_counts).most_common(M)\n",
    "vocab = [w[0] for w in vocab]\n",
    "vocab"
   ]
  },
  {
   "cell_type": "code",
   "execution_count": 3,
   "id": "a965aa6f",
   "metadata": {
    "execution": {
     "iopub.execute_input": "2025-06-09T15:03:52.584200Z",
     "iopub.status.busy": "2025-06-09T15:03:52.583868Z",
     "iopub.status.idle": "2025-06-09T15:03:52.591075Z",
     "shell.execute_reply": "2025-06-09T15:03:52.590026Z"
    },
    "papermill": {
     "duration": 0.011298,
     "end_time": "2025-06-09T15:03:52.592535",
     "exception": false,
     "start_time": "2025-06-09T15:03:52.581237",
     "status": "completed"
    },
    "tags": []
   },
   "outputs": [
    {
     "data": {
      "text/plain": [
       "['<UNK>', '<UNK>', 'learning']"
      ]
     },
     "execution_count": 3,
     "metadata": {},
     "output_type": "execute_result"
    }
   ],
   "source": [
    "sent = ['am','i','learning']\n",
    "op_sent = []\n",
    "\n",
    "for w in sent:\n",
    "    if w in vocab:\n",
    "        op_sent.append(w)\n",
    "\n",
    "    else:\n",
    "        op_sent.append('<UNK>')\n",
    "\n",
    "op_sent"
   ]
  },
  {
   "cell_type": "code",
   "execution_count": null,
   "id": "fb1a4302",
   "metadata": {
    "papermill": {
     "duration": 0.001562,
     "end_time": "2025-06-09T15:03:52.596023",
     "exception": false,
     "start_time": "2025-06-09T15:03:52.594461",
     "status": "completed"
    },
    "tags": []
   },
   "outputs": [],
   "source": []
  }
 ],
 "metadata": {
  "kaggle": {
   "accelerator": "none",
   "dataSources": [],
   "dockerImageVersionId": 31040,
   "isGpuEnabled": false,
   "isInternetEnabled": false,
   "language": "python",
   "sourceType": "notebook"
  },
  "kernelspec": {
   "display_name": "Python 3",
   "language": "python",
   "name": "python3"
  },
  "language_info": {
   "codemirror_mode": {
    "name": "ipython",
    "version": 3
   },
   "file_extension": ".py",
   "mimetype": "text/x-python",
   "name": "python",
   "nbconvert_exporter": "python",
   "pygments_lexer": "ipython3",
   "version": "3.11.11"
  },
  "papermill": {
   "default_parameters": {},
   "duration": 7.852123,
   "end_time": "2025-06-09T15:03:53.118259",
   "environment_variables": {},
   "exception": null,
   "input_path": "__notebook__.ipynb",
   "output_path": "__notebook__.ipynb",
   "parameters": {},
   "start_time": "2025-06-09T15:03:45.266136",
   "version": "2.6.0"
  }
 },
 "nbformat": 4,
 "nbformat_minor": 5
}
