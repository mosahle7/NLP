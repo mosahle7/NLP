{
 "cells": [
  {
   "cell_type": "code",
   "execution_count": 1,
   "id": "bf249770",
   "metadata": {
    "_cell_guid": "b1076dfc-b9ad-4769-8c92-a6c4dae69d19",
    "_uuid": "8f2839f25d086af736a60e9eeb907d3b93b6e0e5",
    "execution": {
     "iopub.execute_input": "2025-05-27T15:56:42.966930Z",
     "iopub.status.busy": "2025-05-27T15:56:42.966579Z",
     "iopub.status.idle": "2025-05-27T15:56:44.825699Z",
     "shell.execute_reply": "2025-05-27T15:56:44.824885Z"
    },
    "papermill": {
     "duration": 1.867443,
     "end_time": "2025-05-27T15:56:44.827459",
     "exception": false,
     "start_time": "2025-05-27T15:56:42.960016",
     "status": "completed"
    },
    "tags": []
   },
   "outputs": [],
   "source": [
    "# This Python 3 environment comes with many helpful analytics libraries installed\n",
    "# It is defined by the kaggle/python Docker image: https://github.com/kaggle/docker-python\n",
    "# For example, here's several helpful packages to load\n",
    "\n",
    "import numpy as np # linear algebra\n",
    "import pandas as pd # data processing, CSV file I/O (e.g. pd.read_csv)\n",
    "\n",
    "# Input data files are available in the read-only \"../input/\" directory\n",
    "# For example, running this (by clicking run or pressing Shift+Enter) will list all files under the input directory\n",
    "\n",
    "import os\n",
    "for dirname, _, filenames in os.walk('/kaggle/input'):\n",
    "    for filename in filenames:\n",
    "        print(os.path.join(dirname, filename))\n",
    "\n",
    "# You can write up to 20GB to the current directory (/kaggle/working/) that gets preserved as output when you create a version using \"Save & Run All\" \n",
    "# You can also write temporary files to /kaggle/temp/, but they won't be saved outside of the current session"
   ]
  },
  {
   "cell_type": "markdown",
   "id": "2a4a2c56",
   "metadata": {
    "papermill": {
     "duration": 0.003865,
     "end_time": "2025-05-27T15:56:44.835691",
     "exception": false,
     "start_time": "2025-05-27T15:56:44.831826",
     "status": "completed"
    },
    "tags": []
   },
   "source": [
    "**N-grams Corpus Preprocessing**"
   ]
  },
  {
   "cell_type": "code",
   "execution_count": 2,
   "id": "82f03367",
   "metadata": {
    "execution": {
     "iopub.execute_input": "2025-05-27T15:56:44.844725Z",
     "iopub.status.busy": "2025-05-27T15:56:44.844289Z",
     "iopub.status.idle": "2025-05-27T15:56:47.393334Z",
     "shell.execute_reply": "2025-05-27T15:56:47.392465Z"
    },
    "papermill": {
     "duration": 2.555349,
     "end_time": "2025-05-27T15:56:47.394961",
     "exception": false,
     "start_time": "2025-05-27T15:56:44.839612",
     "status": "completed"
    },
    "tags": []
   },
   "outputs": [],
   "source": [
    "import nltk\n",
    "import re\n",
    "from nltk.tokenize import word_tokenize"
   ]
  },
  {
   "cell_type": "code",
   "execution_count": 3,
   "id": "a01c1b4f",
   "metadata": {
    "execution": {
     "iopub.execute_input": "2025-05-27T15:56:47.404807Z",
     "iopub.status.busy": "2025-05-27T15:56:47.404332Z",
     "iopub.status.idle": "2025-05-27T15:56:47.410829Z",
     "shell.execute_reply": "2025-05-27T15:56:47.409986Z"
    },
    "papermill": {
     "duration": 0.01297,
     "end_time": "2025-05-27T15:56:47.412254",
     "exception": false,
     "start_time": "2025-05-27T15:56:47.399284",
     "status": "completed"
    },
    "tags": []
   },
   "outputs": [
    {
     "data": {
      "text/plain": [
       "\"learning% makes 'me' happy. i am happy be-cause i am learning! :)\""
      ]
     },
     "execution_count": 3,
     "metadata": {},
     "output_type": "execute_result"
    }
   ],
   "source": [
    "corpus = \"Learning% makes 'me' happy. I am happy be-cause I am learning! :)\"\n",
    "corpus = corpus.lower()\n",
    "corpus"
   ]
  },
  {
   "cell_type": "code",
   "execution_count": 4,
   "id": "96ec315f",
   "metadata": {
    "execution": {
     "iopub.execute_input": "2025-05-27T15:56:47.421656Z",
     "iopub.status.busy": "2025-05-27T15:56:47.421347Z",
     "iopub.status.idle": "2025-05-27T15:56:47.426986Z",
     "shell.execute_reply": "2025-05-27T15:56:47.426141Z"
    },
    "papermill": {
     "duration": 0.012076,
     "end_time": "2025-05-27T15:56:47.428371",
     "exception": false,
     "start_time": "2025-05-27T15:56:47.416295",
     "status": "completed"
    },
    "tags": []
   },
   "outputs": [
    {
     "data": {
      "text/plain": [
       "'learning makes me happy. i am happy because i am learning! '"
      ]
     },
     "execution_count": 4,
     "metadata": {},
     "output_type": "execute_result"
    }
   ],
   "source": [
    "corpus = re.sub(r\"[^a-zA-Z0-9.?! ]+\",\"\",corpus)\n",
    "corpus"
   ]
  },
  {
   "cell_type": "code",
   "execution_count": 5,
   "id": "8ea26e71",
   "metadata": {
    "execution": {
     "iopub.execute_input": "2025-05-27T15:56:47.437770Z",
     "iopub.status.busy": "2025-05-27T15:56:47.437430Z",
     "iopub.status.idle": "2025-05-27T15:56:47.444626Z",
     "shell.execute_reply": "2025-05-27T15:56:47.443892Z"
    },
    "papermill": {
     "duration": 0.013443,
     "end_time": "2025-05-27T15:56:47.446017",
     "exception": false,
     "start_time": "2025-05-27T15:56:47.432574",
     "status": "completed"
    },
    "tags": []
   },
   "outputs": [
    {
     "name": "stdout",
     "output_type": "stream",
     "text": [
      "['Sat', 'May', '', '9', '07:33:35', 'CEST', '2020']\n"
     ]
    },
    {
     "data": {
      "text/plain": [
       "['07', '33', '35']"
      ]
     },
     "execution_count": 5,
     "metadata": {},
     "output_type": "execute_result"
    }
   ],
   "source": [
    "ip_date = \"Sat May  9 07:33:35 CEST 2020\"\n",
    "date_parts = ip_date.split(\" \")\n",
    "time_parts = date_parts[4].split(\":\")\n",
    "print(date_parts)\n",
    "time_parts\n"
   ]
  },
  {
   "cell_type": "code",
   "execution_count": 6,
   "id": "63e6203b",
   "metadata": {
    "execution": {
     "iopub.execute_input": "2025-05-27T15:56:47.455996Z",
     "iopub.status.busy": "2025-05-27T15:56:47.455423Z",
     "iopub.status.idle": "2025-05-27T15:56:47.490703Z",
     "shell.execute_reply": "2025-05-27T15:56:47.489917Z"
    },
    "papermill": {
     "duration": 0.041689,
     "end_time": "2025-05-27T15:56:47.492162",
     "exception": false,
     "start_time": "2025-05-27T15:56:47.450473",
     "status": "completed"
    },
    "tags": []
   },
   "outputs": [
    {
     "data": {
      "text/plain": [
       "['i', 'am', 'happy', 'because', 'i', 'am', 'learning', '.']"
      ]
     },
     "execution_count": 6,
     "metadata": {},
     "output_type": "execute_result"
    }
   ],
   "source": [
    "sentence = 'i am happy because i am learning.'\n",
    "tokenized = nltk.word_tokenize(sentence)\n",
    "tokenized"
   ]
  },
  {
   "cell_type": "code",
   "execution_count": 7,
   "id": "583e637a",
   "metadata": {
    "execution": {
     "iopub.execute_input": "2025-05-27T15:56:47.502276Z",
     "iopub.status.busy": "2025-05-27T15:56:47.501665Z",
     "iopub.status.idle": "2025-05-27T15:56:47.507160Z",
     "shell.execute_reply": "2025-05-27T15:56:47.506281Z"
    },
    "papermill": {
     "duration": 0.011964,
     "end_time": "2025-05-27T15:56:47.508567",
     "exception": false,
     "start_time": "2025-05-27T15:56:47.496603",
     "status": "completed"
    },
    "tags": []
   },
   "outputs": [
    {
     "data": {
      "text/plain": [
       "[1, 2, 5, 7, 1, 2, 8, 1]"
      ]
     },
     "execution_count": 7,
     "metadata": {},
     "output_type": "execute_result"
    }
   ],
   "source": [
    "word_lens = [len(word) for word in tokenized]\n",
    "word_lens"
   ]
  },
  {
   "cell_type": "code",
   "execution_count": 8,
   "id": "71d1950a",
   "metadata": {
    "execution": {
     "iopub.execute_input": "2025-05-27T15:56:47.518720Z",
     "iopub.status.busy": "2025-05-27T15:56:47.518348Z",
     "iopub.status.idle": "2025-05-27T15:56:47.525105Z",
     "shell.execute_reply": "2025-05-27T15:56:47.524196Z"
    },
    "papermill": {
     "duration": 0.013521,
     "end_time": "2025-05-27T15:56:47.526538",
     "exception": false,
     "start_time": "2025-05-27T15:56:47.513017",
     "status": "completed"
    },
    "tags": []
   },
   "outputs": [
    {
     "data": {
      "text/plain": [
       "[['i', 'am', 'happy'],\n",
       " ['am', 'happy', 'because'],\n",
       " ['happy', 'because', 'i'],\n",
       " ['because', 'i', 'am'],\n",
       " ['i', 'am', 'learning'],\n",
       " ['am', 'learning', '.']]"
      ]
     },
     "execution_count": 8,
     "metadata": {},
     "output_type": "execute_result"
    }
   ],
   "source": [
    "def trigram(tokenized):\n",
    "    trigrams = [tokenized[i:i+3] for i in range(len(tokenized)-2)]\n",
    "    return trigrams\n",
    "trigrams = trigram(tokenized)\n",
    "trigrams"
   ]
  },
  {
   "cell_type": "code",
   "execution_count": 9,
   "id": "3a474105",
   "metadata": {
    "execution": {
     "iopub.execute_input": "2025-05-27T15:56:47.536637Z",
     "iopub.status.busy": "2025-05-27T15:56:47.536268Z",
     "iopub.status.idle": "2025-05-27T15:56:47.542406Z",
     "shell.execute_reply": "2025-05-27T15:56:47.541519Z"
    },
    "papermill": {
     "duration": 0.012577,
     "end_time": "2025-05-27T15:56:47.543712",
     "exception": false,
     "start_time": "2025-05-27T15:56:47.531135",
     "status": "completed"
    },
    "tags": []
   },
   "outputs": [
    {
     "data": {
      "text/plain": [
       "[('i', 'am', 'happy'),\n",
       " ('am', 'happy', 'because'),\n",
       " ('happy', 'because', 'i'),\n",
       " ('because', 'i', 'am'),\n",
       " ('i', 'am', 'learning'),\n",
       " ('am', 'learning', '.')]"
      ]
     },
     "execution_count": 9,
     "metadata": {},
     "output_type": "execute_result"
    }
   ],
   "source": [
    "from nltk.util import trigrams\n",
    "trigramss = list(trigrams(tokenized))\n",
    "trigramss"
   ]
  },
  {
   "cell_type": "code",
   "execution_count": 10,
   "id": "526f50a3",
   "metadata": {
    "execution": {
     "iopub.execute_input": "2025-05-27T15:56:47.553770Z",
     "iopub.status.busy": "2025-05-27T15:56:47.553455Z",
     "iopub.status.idle": "2025-05-27T15:56:47.559314Z",
     "shell.execute_reply": "2025-05-27T15:56:47.558622Z"
    },
    "papermill": {
     "duration": 0.012437,
     "end_time": "2025-05-27T15:56:47.560665",
     "exception": false,
     "start_time": "2025-05-27T15:56:47.548228",
     "status": "completed"
    },
    "tags": []
   },
   "outputs": [
    {
     "data": {
      "text/plain": [
       "['i', 'am', 'happy']"
      ]
     },
     "execution_count": 10,
     "metadata": {},
     "output_type": "execute_result"
    }
   ],
   "source": [
    "fourgram = ['i', 'am', 'happy','because']\n",
    "trigrams = fourgram[:-1]\n",
    "trigrams"
   ]
  },
  {
   "cell_type": "code",
   "execution_count": 11,
   "id": "4bf76468",
   "metadata": {
    "execution": {
     "iopub.execute_input": "2025-05-27T15:56:47.571401Z",
     "iopub.status.busy": "2025-05-27T15:56:47.571102Z",
     "iopub.status.idle": "2025-05-27T15:56:47.576893Z",
     "shell.execute_reply": "2025-05-27T15:56:47.576020Z"
    },
    "papermill": {
     "duration": 0.012736,
     "end_time": "2025-05-27T15:56:47.578374",
     "exception": false,
     "start_time": "2025-05-27T15:56:47.565638",
     "status": "completed"
    },
    "tags": []
   },
   "outputs": [
    {
     "data": {
      "text/plain": [
       "['<s>',\n",
       " '<s>',\n",
       " 'i',\n",
       " 'am',\n",
       " 'happy',\n",
       " 'because',\n",
       " 'i',\n",
       " 'am',\n",
       " 'learning',\n",
       " '.',\n",
       " '</s>']"
      ]
     },
     "execution_count": 11,
     "metadata": {},
     "output_type": "execute_result"
    }
   ],
   "source": [
    "n=3\n",
    "tokenized\n",
    "tokenized = [\"<s>\"]*(n-1) + tokenized + [\"</s>\"]\n",
    "tokenized"
   ]
  },
  {
   "cell_type": "markdown",
   "id": "9409838b",
   "metadata": {
    "papermill": {
     "duration": 0.004345,
     "end_time": "2025-05-27T15:56:47.587445",
     "exception": false,
     "start_time": "2025-05-27T15:56:47.583100",
     "status": "completed"
    },
    "tags": []
   },
   "source": [
    "**Building the language model**"
   ]
  },
  {
   "cell_type": "code",
   "execution_count": 12,
   "id": "e4f218b0",
   "metadata": {
    "execution": {
     "iopub.execute_input": "2025-05-27T15:56:47.598260Z",
     "iopub.status.busy": "2025-05-27T15:56:47.597957Z",
     "iopub.status.idle": "2025-05-27T15:56:47.603749Z",
     "shell.execute_reply": "2025-05-27T15:56:47.603012Z"
    },
    "papermill": {
     "duration": 0.012568,
     "end_time": "2025-05-27T15:56:47.605102",
     "exception": false,
     "start_time": "2025-05-27T15:56:47.592534",
     "status": "completed"
    },
    "tags": []
   },
   "outputs": [
    {
     "data": {
      "text/plain": [
       "('i', 'am', 'happy', 'because')"
      ]
     },
     "execution_count": 12,
     "metadata": {},
     "output_type": "execute_result"
    }
   ],
   "source": [
    "prefix = ('i', 'am', 'happy')\n",
    "word = 'because'\n",
    "n_gram = prefix+(word,)\n",
    "n_gram"
   ]
  },
  {
   "cell_type": "code",
   "execution_count": 13,
   "id": "3f627d6d",
   "metadata": {
    "execution": {
     "iopub.execute_input": "2025-05-27T15:56:47.615805Z",
     "iopub.status.busy": "2025-05-27T15:56:47.615529Z",
     "iopub.status.idle": "2025-05-27T15:56:47.622892Z",
     "shell.execute_reply": "2025-05-27T15:56:47.621929Z"
    },
    "papermill": {
     "duration": 0.01453,
     "end_time": "2025-05-27T15:56:47.624510",
     "exception": false,
     "start_time": "2025-05-27T15:56:47.609980",
     "status": "completed"
    },
    "tags": []
   },
   "outputs": [],
   "source": [
    "from collections import defaultdict\n",
    "from nltk.util import trigrams,bigrams\n",
    "import pandas as pd\n",
    "def singpass_trigram_countmat(corpus):\n",
    "    d = defaultdict(float)\n",
    "    bigramss = list(bigrams(corpus))\n",
    "    bigramss = bigramss[:-1]\n",
    "    trigramss = list(trigrams(corpus))\n",
    "\n",
    "    for (w1,w2) in set(bigramss):\n",
    "        for j in range(2,len(corpus)):\n",
    "            w3 = corpus[j]\n",
    "            if (w1,w2,w3) in trigramss:\n",
    "                d[((w1,w2),w3)] += 1\n",
    "            \n",
    "            else:\n",
    "                d[((w1,w2),w3)] = 0\n",
    "    count_matrix = pd.DataFrame(\n",
    "    {(w1, w2): {w3: d[((w1, w2), w3)] for w3 in corpus[2:]} for (w1, w2) in set(bigramss)}).T \n",
    "    return count_matrix"
   ]
  },
  {
   "cell_type": "code",
   "execution_count": 14,
   "id": "ff8e8f3b",
   "metadata": {
    "execution": {
     "iopub.execute_input": "2025-05-27T15:56:47.635494Z",
     "iopub.status.busy": "2025-05-27T15:56:47.635183Z",
     "iopub.status.idle": "2025-05-27T15:56:47.642333Z",
     "shell.execute_reply": "2025-05-27T15:56:47.641617Z"
    },
    "papermill": {
     "duration": 0.014384,
     "end_time": "2025-05-27T15:56:47.643913",
     "exception": false,
     "start_time": "2025-05-27T15:56:47.629529",
     "status": "completed"
    },
    "tags": []
   },
   "outputs": [],
   "source": [
    "from collections import defaultdict\n",
    "from nltk.util import trigrams,bigrams\n",
    "import pandas as pd\n",
    "\n",
    "def singpass_trigram_countmat(corpus):\n",
    "    bigrams = []\n",
    "    vocabulary = []\n",
    "    count_mat_dict = defaultdict(dict)\n",
    "\n",
    "    for i in range(len(corpus)-3+1):\n",
    "        trigram = tuple(corpus[i:i+3])\n",
    "        bigram = trigram[:2]\n",
    "\n",
    "        if not bigram in bigrams:\n",
    "            bigrams.append(bigram)\n",
    "\n",
    "        last_word = trigram[-1]\n",
    "        if not last_word in vocabulary:\n",
    "            vocabulary.append(last_word)\n",
    "\n",
    "        if (bigram,last_word) not in count_mat_dict:\n",
    "            count_mat_dict[bigram,last_word] = 0\n",
    "\n",
    "        count_mat_dict[bigram,last_word]+=1\n",
    "\n",
    "    count_mat = np.zeros((len(bigrams), len(vocabulary)))\n",
    "    for trigram_key, trigram_count in count_mat_dict.items():\n",
    "        count_mat[bigrams.index(trigram_key[0]), vocabulary.index(trigram_key[1])] = trigram_count\n",
    "\n",
    "    count_mat = pd.DataFrame(count_mat, index=bigrams, columns=vocabulary)\n",
    "    return bigrams, vocabulary, count_mat    "
   ]
  },
  {
   "cell_type": "code",
   "execution_count": 15,
   "id": "1fbce9af",
   "metadata": {
    "execution": {
     "iopub.execute_input": "2025-05-27T15:56:47.654781Z",
     "iopub.status.busy": "2025-05-27T15:56:47.654461Z",
     "iopub.status.idle": "2025-05-27T15:56:47.686080Z",
     "shell.execute_reply": "2025-05-27T15:56:47.685074Z"
    },
    "papermill": {
     "duration": 0.038799,
     "end_time": "2025-05-27T15:56:47.687695",
     "exception": false,
     "start_time": "2025-05-27T15:56:47.648896",
     "status": "completed"
    },
    "tags": []
   },
   "outputs": [
    {
     "data": {
      "text/html": [
       "<div>\n",
       "<style scoped>\n",
       "    .dataframe tbody tr th:only-of-type {\n",
       "        vertical-align: middle;\n",
       "    }\n",
       "\n",
       "    .dataframe tbody tr th {\n",
       "        vertical-align: top;\n",
       "    }\n",
       "\n",
       "    .dataframe thead th {\n",
       "        text-align: right;\n",
       "    }\n",
       "</style>\n",
       "<table border=\"1\" class=\"dataframe\">\n",
       "  <thead>\n",
       "    <tr style=\"text-align: right;\">\n",
       "      <th></th>\n",
       "      <th>happy</th>\n",
       "      <th>because</th>\n",
       "      <th>i</th>\n",
       "      <th>am</th>\n",
       "      <th>learning</th>\n",
       "      <th>.</th>\n",
       "    </tr>\n",
       "  </thead>\n",
       "  <tbody>\n",
       "    <tr>\n",
       "      <th>(i, am)</th>\n",
       "      <td>1.0</td>\n",
       "      <td>0.0</td>\n",
       "      <td>0.0</td>\n",
       "      <td>0.0</td>\n",
       "      <td>1.0</td>\n",
       "      <td>0.0</td>\n",
       "    </tr>\n",
       "    <tr>\n",
       "      <th>(am, happy)</th>\n",
       "      <td>0.0</td>\n",
       "      <td>1.0</td>\n",
       "      <td>0.0</td>\n",
       "      <td>0.0</td>\n",
       "      <td>0.0</td>\n",
       "      <td>0.0</td>\n",
       "    </tr>\n",
       "    <tr>\n",
       "      <th>(happy, because)</th>\n",
       "      <td>0.0</td>\n",
       "      <td>0.0</td>\n",
       "      <td>1.0</td>\n",
       "      <td>0.0</td>\n",
       "      <td>0.0</td>\n",
       "      <td>0.0</td>\n",
       "    </tr>\n",
       "    <tr>\n",
       "      <th>(because, i)</th>\n",
       "      <td>0.0</td>\n",
       "      <td>0.0</td>\n",
       "      <td>0.0</td>\n",
       "      <td>1.0</td>\n",
       "      <td>0.0</td>\n",
       "      <td>0.0</td>\n",
       "    </tr>\n",
       "    <tr>\n",
       "      <th>(am, learning)</th>\n",
       "      <td>0.0</td>\n",
       "      <td>0.0</td>\n",
       "      <td>0.0</td>\n",
       "      <td>0.0</td>\n",
       "      <td>0.0</td>\n",
       "      <td>1.0</td>\n",
       "    </tr>\n",
       "  </tbody>\n",
       "</table>\n",
       "</div>"
      ],
      "text/plain": [
       "                  happy  because    i   am  learning    .\n",
       "(i, am)             1.0      0.0  0.0  0.0       1.0  0.0\n",
       "(am, happy)         0.0      1.0  0.0  0.0       0.0  0.0\n",
       "(happy, because)    0.0      0.0  1.0  0.0       0.0  0.0\n",
       "(because, i)        0.0      0.0  0.0  1.0       0.0  0.0\n",
       "(am, learning)      0.0      0.0  0.0  0.0       0.0  1.0"
      ]
     },
     "execution_count": 15,
     "metadata": {},
     "output_type": "execute_result"
    }
   ],
   "source": [
    "\n",
    "corpus = ['i', 'am', 'happy', 'because', 'i', 'am', 'learning', '.']\n",
    "bigrams,vocabulary, count_mat = singpass_trigram_countmat(corpus)\n",
    "count_mat"
   ]
  },
  {
   "cell_type": "code",
   "execution_count": 16,
   "id": "e7d9d0b2",
   "metadata": {
    "execution": {
     "iopub.execute_input": "2025-05-27T15:56:47.699189Z",
     "iopub.status.busy": "2025-05-27T15:56:47.698448Z",
     "iopub.status.idle": "2025-05-27T15:56:47.716092Z",
     "shell.execute_reply": "2025-05-27T15:56:47.715093Z"
    },
    "papermill": {
     "duration": 0.02484,
     "end_time": "2025-05-27T15:56:47.717664",
     "exception": false,
     "start_time": "2025-05-27T15:56:47.692824",
     "status": "completed"
    },
    "tags": []
   },
   "outputs": [
    {
     "data": {
      "text/html": [
       "<div>\n",
       "<style scoped>\n",
       "    .dataframe tbody tr th:only-of-type {\n",
       "        vertical-align: middle;\n",
       "    }\n",
       "\n",
       "    .dataframe tbody tr th {\n",
       "        vertical-align: top;\n",
       "    }\n",
       "\n",
       "    .dataframe thead th {\n",
       "        text-align: right;\n",
       "    }\n",
       "</style>\n",
       "<table border=\"1\" class=\"dataframe\">\n",
       "  <thead>\n",
       "    <tr style=\"text-align: right;\">\n",
       "      <th></th>\n",
       "      <th>happy</th>\n",
       "      <th>because</th>\n",
       "      <th>i</th>\n",
       "      <th>am</th>\n",
       "      <th>learning</th>\n",
       "      <th>.</th>\n",
       "    </tr>\n",
       "  </thead>\n",
       "  <tbody>\n",
       "    <tr>\n",
       "      <th>(i, am)</th>\n",
       "      <td>0.5</td>\n",
       "      <td>0.0</td>\n",
       "      <td>0.0</td>\n",
       "      <td>0.0</td>\n",
       "      <td>0.5</td>\n",
       "      <td>0.0</td>\n",
       "    </tr>\n",
       "    <tr>\n",
       "      <th>(am, happy)</th>\n",
       "      <td>0.0</td>\n",
       "      <td>1.0</td>\n",
       "      <td>0.0</td>\n",
       "      <td>0.0</td>\n",
       "      <td>0.0</td>\n",
       "      <td>0.0</td>\n",
       "    </tr>\n",
       "    <tr>\n",
       "      <th>(happy, because)</th>\n",
       "      <td>0.0</td>\n",
       "      <td>0.0</td>\n",
       "      <td>1.0</td>\n",
       "      <td>0.0</td>\n",
       "      <td>0.0</td>\n",
       "      <td>0.0</td>\n",
       "    </tr>\n",
       "    <tr>\n",
       "      <th>(because, i)</th>\n",
       "      <td>0.0</td>\n",
       "      <td>0.0</td>\n",
       "      <td>0.0</td>\n",
       "      <td>1.0</td>\n",
       "      <td>0.0</td>\n",
       "      <td>0.0</td>\n",
       "    </tr>\n",
       "    <tr>\n",
       "      <th>(am, learning)</th>\n",
       "      <td>0.0</td>\n",
       "      <td>0.0</td>\n",
       "      <td>0.0</td>\n",
       "      <td>0.0</td>\n",
       "      <td>0.0</td>\n",
       "      <td>1.0</td>\n",
       "    </tr>\n",
       "  </tbody>\n",
       "</table>\n",
       "</div>"
      ],
      "text/plain": [
       "                  happy  because    i   am  learning    .\n",
       "(i, am)             0.5      0.0  0.0  0.0       0.5  0.0\n",
       "(am, happy)         0.0      1.0  0.0  0.0       0.0  0.0\n",
       "(happy, because)    0.0      0.0  1.0  0.0       0.0  0.0\n",
       "(because, i)        0.0      0.0  0.0  1.0       0.0  0.0\n",
       "(am, learning)      0.0      0.0  0.0  0.0       0.0  1.0"
      ]
     },
     "execution_count": 16,
     "metadata": {},
     "output_type": "execute_result"
    }
   ],
   "source": [
    "row_sums = count_mat.sum(axis=1)\n",
    "prob_mat = count_mat.div(row_sums, axis=0)\n",
    "prob_mat"
   ]
  },
  {
   "cell_type": "code",
   "execution_count": 17,
   "id": "cb53bcd4",
   "metadata": {
    "execution": {
     "iopub.execute_input": "2025-05-27T15:56:47.729012Z",
     "iopub.status.busy": "2025-05-27T15:56:47.728669Z",
     "iopub.status.idle": "2025-05-27T15:56:47.735267Z",
     "shell.execute_reply": "2025-05-27T15:56:47.734299Z"
    },
    "papermill": {
     "duration": 0.013824,
     "end_time": "2025-05-27T15:56:47.736646",
     "exception": false,
     "start_time": "2025-05-27T15:56:47.722822",
     "status": "completed"
    },
    "tags": []
   },
   "outputs": [
    {
     "name": "stdout",
     "output_type": "stream",
     "text": [
      "Trigram Probability:  0.5\n"
     ]
    }
   ],
   "source": [
    "trigram = ('i', 'am', 'happy')\n",
    "bigram = trigram[:-1]\n",
    "word = trigram[-1]\n",
    "tri_prob = prob_mat[word][bigram]\n",
    "print(\"Trigram Probability: \",tri_prob)"
   ]
  },
  {
   "cell_type": "code",
   "execution_count": 18,
   "id": "b8c803d5",
   "metadata": {
    "execution": {
     "iopub.execute_input": "2025-05-27T15:56:47.748098Z",
     "iopub.status.busy": "2025-05-27T15:56:47.747336Z",
     "iopub.status.idle": "2025-05-27T15:56:47.752755Z",
     "shell.execute_reply": "2025-05-27T15:56:47.751883Z"
    },
    "papermill": {
     "duration": 0.012442,
     "end_time": "2025-05-27T15:56:47.754226",
     "exception": false,
     "start_time": "2025-05-27T15:56:47.741784",
     "status": "completed"
    },
    "tags": []
   },
   "outputs": [
    {
     "name": "stdout",
     "output_type": "stream",
     "text": [
      "happy\n",
      "have\n"
     ]
    }
   ],
   "source": [
    "vocabulary = ['i', 'am', 'happy', 'because', 'learning', '.', 'have', 'you', 'seen','it', '?']\n",
    "starts_with = 'ha'\n",
    "for w in vocabulary:\n",
    "    if w.startswith(starts_with):\n",
    "        print(w)"
   ]
  },
  {
   "cell_type": "code",
   "execution_count": 19,
   "id": "ecb66c59",
   "metadata": {
    "execution": {
     "iopub.execute_input": "2025-05-27T15:56:47.766242Z",
     "iopub.status.busy": "2025-05-27T15:56:47.765456Z",
     "iopub.status.idle": "2025-05-27T15:56:47.771396Z",
     "shell.execute_reply": "2025-05-27T15:56:47.770618Z"
    },
    "papermill": {
     "duration": 0.01333,
     "end_time": "2025-05-27T15:56:47.772682",
     "exception": false,
     "start_time": "2025-05-27T15:56:47.759352",
     "status": "completed"
    },
    "tags": []
   },
   "outputs": [],
   "source": [
    "import random\n",
    "\n",
    "def train_val_test_split(data,train_per,val_per):\n",
    "    random.seed(87)\n",
    "    random.shuffle(data)\n",
    "\n",
    "    l=len(data)\n",
    "    train_len = int((l*train_per)/100)\n",
    "    val_len = int((l*val_per)/100)\n",
    "\n",
    "    train_data = data[:train_len]\n",
    "    val_data = data[train_len:train_len+val_len]\n",
    "    test_data = data[train_len+val_len:]\n",
    "\n",
    "    return train_data,val_data,test_data"
   ]
  },
  {
   "cell_type": "code",
   "execution_count": 20,
   "id": "1a02f71f",
   "metadata": {
    "execution": {
     "iopub.execute_input": "2025-05-27T15:56:47.784757Z",
     "iopub.status.busy": "2025-05-27T15:56:47.784268Z",
     "iopub.status.idle": "2025-05-27T15:56:47.789392Z",
     "shell.execute_reply": "2025-05-27T15:56:47.788514Z"
    },
    "papermill": {
     "duration": 0.012868,
     "end_time": "2025-05-27T15:56:47.790924",
     "exception": false,
     "start_time": "2025-05-27T15:56:47.778056",
     "status": "completed"
    },
    "tags": []
   },
   "outputs": [],
   "source": [
    "data = [x for x in range(100)]\n",
    "train_data,val_data,test_data = train_val_test_split(data,80,10)\n",
    "# train_data"
   ]
  },
  {
   "cell_type": "code",
   "execution_count": null,
   "id": "a1a2283a",
   "metadata": {
    "papermill": {
     "duration": 0.005292,
     "end_time": "2025-05-27T15:56:47.801936",
     "exception": false,
     "start_time": "2025-05-27T15:56:47.796644",
     "status": "completed"
    },
    "tags": []
   },
   "outputs": [],
   "source": []
  }
 ],
 "metadata": {
  "kaggle": {
   "accelerator": "none",
   "dataSources": [],
   "dockerImageVersionId": 31040,
   "isGpuEnabled": false,
   "isInternetEnabled": false,
   "language": "python",
   "sourceType": "notebook"
  },
  "kernelspec": {
   "display_name": "Python 3",
   "language": "python",
   "name": "python3"
  },
  "language_info": {
   "codemirror_mode": {
    "name": "ipython",
    "version": 3
   },
   "file_extension": ".py",
   "mimetype": "text/x-python",
   "name": "python",
   "nbconvert_exporter": "python",
   "pygments_lexer": "ipython3",
   "version": "3.11.11"
  },
  "papermill": {
   "default_parameters": {},
   "duration": 10.463339,
   "end_time": "2025-05-27T15:56:48.527394",
   "environment_variables": {},
   "exception": null,
   "input_path": "__notebook__.ipynb",
   "output_path": "__notebook__.ipynb",
   "parameters": {},
   "start_time": "2025-05-27T15:56:38.064055",
   "version": "2.6.0"
  }
 },
 "nbformat": 4,
 "nbformat_minor": 5
}
